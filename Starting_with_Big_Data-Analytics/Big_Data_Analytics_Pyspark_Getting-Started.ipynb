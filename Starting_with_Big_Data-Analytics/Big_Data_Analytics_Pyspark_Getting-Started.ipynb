{
  "nbformat": 4,
  "nbformat_minor": 0,
  "metadata": {
    "colab": {
      "name": "Big_Data_Analytics_Pyspark_Client-My Copy.ipynb",
      "provenance": []
    },
    "kernelspec": {
      "name": "python3",
      "display_name": "Python 3"
    },
    "language_info": {
      "name": "python"
    }
  },
  "cells": [
    {
      "cell_type": "markdown",
      "source": [
        "# **Pyspark in Colab**\n",
        "\n",
        "Some notes on Pyspark:\n",
        "\n",
        "To run spark in Colab, we need to first install the following dependencies in Colab environment, that is;\n",
        "\n",
        "* Apache Spark 3.0.3 \n",
        "* Hadoop 2.7, \n",
        "* Java 8 \n",
        "* Findspark (to locate the spark in the system). \n",
        "\n",
        "---\n",
        "**Reading Datasets with Spark** \n",
        "---\n",
        "\n",
        "1. **Eager Mode:** \n",
        "\n",
        "Like Python Pandas, when reading CSV files into dataframes,  all of the data is **usually loaded into memory** before the next step commences execution. Here Spark performs the operation in an eager mode.\n",
        "\n",
        "2. **Lazy Approach:**\n",
        "\n",
        "The opposite occurs using the Lazy Approach, files are usually read in the **parquet format.**\n",
        "\n",
        "**Best Practice:** It's best to avoid reading your datasets via eager operations/mode when working with Spark, except if it's a small csv dataset, however it's best to avoid the eager mode. Say you need to process large CSV files/dataset, *first transform the dataset to parquet format before executing the rest of the pipeline.*\n",
        "\n",
        "\n",
        "\n",
        "---\n",
        "**Writing Data with Spark**\n",
        "---\n",
        "\n",
        "Like reading data with Spark, **it’s also not advisable to write your data to your local storage when using PySpark. Rather, make use of a distributed file system such as Hadoop Distributed File System (HDFS) or S3.** \n",
        "\n",
        "The parquet is a good format to use for saving dataframes especially if you are going to be processing the results with Spark.\n",
        "\n",
        "HDFS file formats supported are Json, Avro and Parquet.\n",
        "\n",
        "\n",
        "\n",
        "---\n",
        "**Types of Processing**\n",
        "---\n",
        "\n",
        "**Batch & Streaming** data pipelines.\n",
        "\n",
        "---\n",
        "**Data Transformation**\n",
        "---\n",
        "\n",
        "Spark has **dataframe operations** for *tasks such as adding new columns, dropping columns, joins, and analytics statistics,*.\n",
        "\n",
        "Easy way to getting started spark dataframe operations is by using **Spark SQL**. \n",
        "\n",
        "\n",
        "Spark SQL operations are performed in a lazy execution mode, this implies that the SQL steps won’t be processed until an output is required. \n",
        "\n",
        "\n",
        "---\n",
        "**Machine Learning with PySpark**\n",
        "---\n",
        "\n",
        "We use the MLIB library. **MLlib** is the preferred library because it natively operates on Spark dataframes.\n",
        "\n",
        "Setting up your dataframe with a vector of features and a label as a scalar is a required step befoe fitting to train the model."
      ],
      "metadata": {
        "id": "epvi49QWUBr0"
      }
    },
    {
      "cell_type": "code",
      "execution_count": null,
      "metadata": {
        "id": "z35IP047Se-9"
      },
      "outputs": [],
      "source": [
        "!apt-get install openjdk-8-jdk-headless -qq > /dev/null\n",
        "!wget -q https://downloads.apache.org/spark/spark-3.0.3/spark-3.0.3-bin-hadoop2.7.tgz\n",
        "!tar xf spark-3.0.3-bin-hadoop2.7.tgz\n",
        "!pip install -q findspark"
      ]
    },
    {
      "metadata": {
        "id": "ILheUROOhprv"
      },
      "cell_type": "markdown",
      "source": [
        "### **Set the environment path:**\n",
        "\n",
        "This will enable me to run Pyspark in my Colab environment. \n",
        "\n",
        "We can set the location of Java and Spark by running the following codes:"
      ]
    },
    {
      "metadata": {
        "id": "v1b8k_OVf2QF"
      },
      "cell_type": "code",
      "source": [
        "import os\n",
        "os.environ[\"JAVA_HOME\"] = \"/usr/lib/jvm/java-8-openjdk-amd64\"\n",
        "os.environ[\"SPARK_HOME\"] = \"/content/spark-3.0.3-bin-hadoop2.7\""
      ],
      "execution_count": null,
      "outputs": []
    },
    {
      "metadata": {
        "id": "KwrqMk3HiMiE"
      },
      "cell_type": "markdown",
      "source": [
        "**Test Installation:**\n",
        "\n",
        "Run a local spark session"
      ]
    },
    {
      "metadata": {
        "id": "9_Uz1NL4gHFx"
      },
      "cell_type": "code",
      "source": [
        "import findspark\n",
        "findspark.init()\n",
        "from pyspark.sql import SparkSession\n",
        "spark = SparkSession.builder.master(\"local[*]\").getOrCreate() #Creating SparkSession"
      ],
      "execution_count": null,
      "outputs": []
    },
    {
      "cell_type": "markdown",
      "source": [
        "# **Data Extraction**\n",
        "\n",
        "I'll load my dataset from Kaggle, some big data task would require extracting dataset from AWS S3, Databases such as Redshift, MongDB etc.\n",
        "\n",
        "Dataset Source: https://www.kaggle.com/arjunbhasin2013/ccdata "
      ],
      "metadata": {
        "id": "RQPGRfjPUwN1"
      }
    },
    {
      "cell_type": "code",
      "source": [
        "! pip install kaggle #install kaggle library\n",
        "! mkdir ~/.kaggle #make a directory for Kaggle"
      ],
      "metadata": {
        "colab": {
          "base_uri": "https://localhost:8080/"
        },
        "id": "vNBoK5WAUAuB",
        "outputId": "d239bc07-3ddc-4755-c859-ac03493b686d"
      },
      "execution_count": null,
      "outputs": [
        {
          "output_type": "stream",
          "name": "stdout",
          "text": [
            "Requirement already satisfied: kaggle in /usr/local/lib/python3.7/dist-packages (1.5.12)\n",
            "Requirement already satisfied: certifi in /usr/local/lib/python3.7/dist-packages (from kaggle) (2021.10.8)\n",
            "Requirement already satisfied: requests in /usr/local/lib/python3.7/dist-packages (from kaggle) (2.23.0)\n",
            "Requirement already satisfied: python-dateutil in /usr/local/lib/python3.7/dist-packages (from kaggle) (2.8.2)\n",
            "Requirement already satisfied: urllib3 in /usr/local/lib/python3.7/dist-packages (from kaggle) (1.24.3)\n",
            "Requirement already satisfied: six>=1.10 in /usr/local/lib/python3.7/dist-packages (from kaggle) (1.15.0)\n",
            "Requirement already satisfied: tqdm in /usr/local/lib/python3.7/dist-packages (from kaggle) (4.62.3)\n",
            "Requirement already satisfied: python-slugify in /usr/local/lib/python3.7/dist-packages (from kaggle) (6.0.1)\n",
            "Requirement already satisfied: text-unidecode>=1.3 in /usr/local/lib/python3.7/dist-packages (from python-slugify->kaggle) (1.3)\n",
            "Requirement already satisfied: idna<3,>=2.5 in /usr/local/lib/python3.7/dist-packages (from requests->kaggle) (2.10)\n",
            "Requirement already satisfied: chardet<4,>=3.0.2 in /usr/local/lib/python3.7/dist-packages (from requests->kaggle) (3.0.4)\n"
          ]
        }
      ]
    },
    {
      "cell_type": "code",
      "source": [
        "cp /content/drive/MyDrive/kaggle.json ~/.kaggle/kaggle.json #copy the “kaggle.json” file from the mounted google drive to the current instance storage"
      ],
      "metadata": {
        "id": "GPaTHJ-QWZ1Z"
      },
      "execution_count": null,
      "outputs": []
    },
    {
      "cell_type": "code",
      "source": [
        "! kaggle datasets download arjunbhasin2013/ccdata"
      ],
      "metadata": {
        "colab": {
          "base_uri": "https://localhost:8080/"
        },
        "id": "3SP2C6ZTWg9i",
        "outputId": "7363fb6b-b307-4830-93e1-4a52ebf62584"
      },
      "execution_count": null,
      "outputs": [
        {
          "output_type": "stream",
          "name": "stdout",
          "text": [
            "Downloading ccdata.zip to /content\n",
            "\r  0% 0.00/340k [00:00<?, ?B/s]\n",
            "\r100% 340k/340k [00:00<00:00, 11.2MB/s]\n"
          ]
        }
      ]
    },
    {
      "cell_type": "code",
      "source": [
        "! unzip ccdata"
      ],
      "metadata": {
        "colab": {
          "base_uri": "https://localhost:8080/"
        },
        "id": "pOxTRhRcWm1d",
        "outputId": "bb184cb1-1a62-41a8-f35f-b9100e0c2794"
      },
      "execution_count": null,
      "outputs": [
        {
          "output_type": "stream",
          "name": "stdout",
          "text": [
            "Archive:  ccdata.zip\n",
            "  inflating: CC GENERAL.csv          \n"
          ]
        }
      ]
    },
    {
      "cell_type": "markdown",
      "source": [
        "## **Dataset Information**\n",
        "\n",
        "The Dataset summarizes the usage behavior of about **9000 active credit card** holders during the **last 6 months**. The file is at a customer level **with 18 behavioral variables.**\n",
        "\n",
        "\n",
        "\n",
        "---\n",
        "\n",
        "Following is the Data Dictionary for Credit Card dataset :-\n",
        "\n",
        "\n",
        "* CUSTID : Identification of Credit Card holder (Categorical)\n",
        "\n",
        "* BALANCE : Balance amount left in their account to make purchases \n",
        "\n",
        "* BALANCEFREQUENCY : How frequently the Balance is updated, score between 0 and 1 (1 = frequently updated, 0 = not frequently updated)\n",
        "\n",
        "* PURCHASES : Amount of purchases made from account\n",
        "ONEOFFPURCHASES : Maximum purchase amount done in one-go\n",
        "\n",
        "* INSTALLMENTS PURCHASES : Amount of purchase done in installment\n",
        "\n",
        "* CASHADVANCE : Cash in advance given by the user\n",
        "\n",
        "* PURCHASES FREQUENCY : How frequently the Purchases are being made, score between 0 and 1 (1 = frequently purchased, 0 = not frequently purchased)\n",
        "\n",
        "* ONEOFF PURCHASES FREQUENCY : How frequently Purchases are happening in one-go (1 = frequently purchased, 0 = not frequently purchased)\n",
        "\n",
        "* PURCHASES INSTALLMENTS FREQUENCY : How frequently purchases in installments are being done (1 = frequently done, 0 = not frequently done)\n",
        "\n",
        "* CASHADVANCE FREQUENCY : How frequently the cash in advance being paid\n",
        "\n",
        "* CASHADVANCETRX : Number of Transactions made with \"Cash in Advanced\"\n",
        "\n",
        "* PURCHASESTRX : Numbe of purchase transactions made\n",
        "\n",
        "* CREDITLIMIT : Limit of Credit Card for user\n",
        "\n",
        "* PAYMENTS : Amount of Payment done by user\n",
        "\n",
        "* MINIMUM_PAYMENTS : Minimum amount of payments made by user\n",
        "\n",
        "* PRCFULLPAYMENT : Percent of full payment paid by user\n",
        "\n",
        "* TENURE : Tenure of credit card service for user"
      ],
      "metadata": {
        "id": "naY4NXi1O26A"
      }
    },
    {
      "cell_type": "markdown",
      "source": [
        "## **Load Dataset into Google Colab**\n",
        "\n",
        "Let's load the dataset into our Colab directory in **spark dataframe format**."
      ],
      "metadata": {
        "id": "bWVf4kD8W_fj"
      }
    },
    {
      "cell_type": "code",
      "source": [
        "!ls\n",
        "# Confirm whether the datasets are properly loaded as well as other previous installations."
      ],
      "metadata": {
        "colab": {
          "base_uri": "https://localhost:8080/"
        },
        "id": "3aOHnY1DXhBk",
        "outputId": "c8af356a-39a7-47b1-f11d-28c713be7a5f"
      },
      "execution_count": null,
      "outputs": [
        {
          "output_type": "stream",
          "name": "stdout",
          "text": [
            " ccdata.zip\t   drive\t spark-3.0.3-bin-hadoop2.7\n",
            "'CC GENERAL.csv'   sample_data\t spark-3.0.3-bin-hadoop2.7.tgz\n"
          ]
        }
      ]
    },
    {
      "cell_type": "markdown",
      "source": [
        "## **Data Extraction & Investigation Phase**"
      ],
      "metadata": {
        "id": "CngAHQFcNOMg"
      }
    },
    {
      "cell_type": "code",
      "source": [
        "#dataset = spark.read.csv('CC GENERAL.csv',inferSchema=True, header =True)\n",
        "\n",
        "#inferSchema = InferSchema enables us to infer automatically different data types for each column.\n",
        "\n",
        "#or \n",
        "\n",
        "# Load data from a CSV\n",
        "file_location = \"CC GENERAL.csv\" \n",
        "df = spark.read.format(\"CSV\").option(\"inferSchema\", True).option(\"header\", True).load(file_location)\n",
        "display(df.take(5))"
      ],
      "metadata": {
        "id": "IgsSlitqYinY",
        "colab": {
          "base_uri": "https://localhost:8080/",
          "height": 124
        },
        "outputId": "8578c3a9-f74d-408b-9da9-94c6d3dd83e1"
      },
      "execution_count": null,
      "outputs": [
        {
          "output_type": "display_data",
          "data": {
            "text/plain": [
              "[Row(CUST_ID='C10001', BALANCE=40.900749, BALANCE_FREQUENCY=0.818182, PURCHASES=95.4, ONEOFF_PURCHASES=0.0, INSTALLMENTS_PURCHASES=95.4, CASH_ADVANCE=0.0, PURCHASES_FREQUENCY=0.166667, ONEOFF_PURCHASES_FREQUENCY=0.0, PURCHASES_INSTALLMENTS_FREQUENCY=0.083333, CASH_ADVANCE_FREQUENCY=0.0, CASH_ADVANCE_TRX=0, PURCHASES_TRX=2, CREDIT_LIMIT=1000.0, PAYMENTS=201.802084, MINIMUM_PAYMENTS=139.509787, PRC_FULL_PAYMENT=0.0, TENURE=12),\n",
              " Row(CUST_ID='C10002', BALANCE=3202.467416, BALANCE_FREQUENCY=0.909091, PURCHASES=0.0, ONEOFF_PURCHASES=0.0, INSTALLMENTS_PURCHASES=0.0, CASH_ADVANCE=6442.945483, PURCHASES_FREQUENCY=0.0, ONEOFF_PURCHASES_FREQUENCY=0.0, PURCHASES_INSTALLMENTS_FREQUENCY=0.0, CASH_ADVANCE_FREQUENCY=0.25, CASH_ADVANCE_TRX=4, PURCHASES_TRX=0, CREDIT_LIMIT=7000.0, PAYMENTS=4103.032597, MINIMUM_PAYMENTS=1072.340217, PRC_FULL_PAYMENT=0.222222, TENURE=12),\n",
              " Row(CUST_ID='C10003', BALANCE=2495.148862, BALANCE_FREQUENCY=1.0, PURCHASES=773.17, ONEOFF_PURCHASES=773.17, INSTALLMENTS_PURCHASES=0.0, CASH_ADVANCE=0.0, PURCHASES_FREQUENCY=1.0, ONEOFF_PURCHASES_FREQUENCY=1.0, PURCHASES_INSTALLMENTS_FREQUENCY=0.0, CASH_ADVANCE_FREQUENCY=0.0, CASH_ADVANCE_TRX=0, PURCHASES_TRX=12, CREDIT_LIMIT=7500.0, PAYMENTS=622.066742, MINIMUM_PAYMENTS=627.284787, PRC_FULL_PAYMENT=0.0, TENURE=12),\n",
              " Row(CUST_ID='C10004', BALANCE=1666.670542, BALANCE_FREQUENCY=0.636364, PURCHASES=1499.0, ONEOFF_PURCHASES=1499.0, INSTALLMENTS_PURCHASES=0.0, CASH_ADVANCE=205.788017, PURCHASES_FREQUENCY=0.083333, ONEOFF_PURCHASES_FREQUENCY=0.083333, PURCHASES_INSTALLMENTS_FREQUENCY=0.0, CASH_ADVANCE_FREQUENCY=0.083333, CASH_ADVANCE_TRX=1, PURCHASES_TRX=1, CREDIT_LIMIT=7500.0, PAYMENTS=0.0, MINIMUM_PAYMENTS=None, PRC_FULL_PAYMENT=0.0, TENURE=12),\n",
              " Row(CUST_ID='C10005', BALANCE=817.714335, BALANCE_FREQUENCY=1.0, PURCHASES=16.0, ONEOFF_PURCHASES=16.0, INSTALLMENTS_PURCHASES=0.0, CASH_ADVANCE=0.0, PURCHASES_FREQUENCY=0.083333, ONEOFF_PURCHASES_FREQUENCY=0.083333, PURCHASES_INSTALLMENTS_FREQUENCY=0.0, CASH_ADVANCE_FREQUENCY=0.0, CASH_ADVANCE_TRX=0, PURCHASES_TRX=1, CREDIT_LIMIT=1200.0, PAYMENTS=678.334763, MINIMUM_PAYMENTS=244.791237, PRC_FULL_PAYMENT=0.0, TENURE=12)]"
            ]
          },
          "metadata": {}
        }
      ]
    },
    {
      "cell_type": "code",
      "source": [
        "#txt_file = spark.read.text(\"example.txt\") #reading txt in spark\n",
        "#json_file = spark.read.json(\"sample.json\", multiLine=True) #reading json in spark "
      ],
      "metadata": {
        "id": "JUmBcuulWTxC"
      },
      "execution_count": null,
      "outputs": []
    },
    {
      "cell_type": "code",
      "source": [
        "display(df.take(8))"
      ],
      "metadata": {
        "colab": {
          "base_uri": "https://localhost:8080/",
          "height": 176
        },
        "id": "k5ZWOWIUkgCR",
        "outputId": "b3982abf-2720-49c9-e4b0-870480bcf404"
      },
      "execution_count": null,
      "outputs": [
        {
          "output_type": "display_data",
          "data": {
            "text/plain": [
              "[Row(CUST_ID='C10001', BALANCE=40.900749, BALANCE_FREQUENCY=0.818182, PURCHASES=95.4, ONEOFF_PURCHASES=0.0, INSTALLMENTS_PURCHASES=95.4, CASH_ADVANCE=0.0, PURCHASES_FREQUENCY=0.166667, ONEOFF_PURCHASES_FREQUENCY=0.0, PURCHASES_INSTALLMENTS_FREQUENCY=0.083333, CASH_ADVANCE_FREQUENCY=0.0, CASH_ADVANCE_TRX=0, PURCHASES_TRX=2, CREDIT_LIMIT=1000.0, PAYMENTS=201.802084, MINIMUM_PAYMENTS=139.509787, PRC_FULL_PAYMENT=0.0, TENURE=12),\n",
              " Row(CUST_ID='C10002', BALANCE=3202.467416, BALANCE_FREQUENCY=0.909091, PURCHASES=0.0, ONEOFF_PURCHASES=0.0, INSTALLMENTS_PURCHASES=0.0, CASH_ADVANCE=6442.945483, PURCHASES_FREQUENCY=0.0, ONEOFF_PURCHASES_FREQUENCY=0.0, PURCHASES_INSTALLMENTS_FREQUENCY=0.0, CASH_ADVANCE_FREQUENCY=0.25, CASH_ADVANCE_TRX=4, PURCHASES_TRX=0, CREDIT_LIMIT=7000.0, PAYMENTS=4103.032597, MINIMUM_PAYMENTS=1072.340217, PRC_FULL_PAYMENT=0.222222, TENURE=12),\n",
              " Row(CUST_ID='C10003', BALANCE=2495.148862, BALANCE_FREQUENCY=1.0, PURCHASES=773.17, ONEOFF_PURCHASES=773.17, INSTALLMENTS_PURCHASES=0.0, CASH_ADVANCE=0.0, PURCHASES_FREQUENCY=1.0, ONEOFF_PURCHASES_FREQUENCY=1.0, PURCHASES_INSTALLMENTS_FREQUENCY=0.0, CASH_ADVANCE_FREQUENCY=0.0, CASH_ADVANCE_TRX=0, PURCHASES_TRX=12, CREDIT_LIMIT=7500.0, PAYMENTS=622.066742, MINIMUM_PAYMENTS=627.284787, PRC_FULL_PAYMENT=0.0, TENURE=12),\n",
              " Row(CUST_ID='C10004', BALANCE=1666.670542, BALANCE_FREQUENCY=0.636364, PURCHASES=1499.0, ONEOFF_PURCHASES=1499.0, INSTALLMENTS_PURCHASES=0.0, CASH_ADVANCE=205.788017, PURCHASES_FREQUENCY=0.083333, ONEOFF_PURCHASES_FREQUENCY=0.083333, PURCHASES_INSTALLMENTS_FREQUENCY=0.0, CASH_ADVANCE_FREQUENCY=0.083333, CASH_ADVANCE_TRX=1, PURCHASES_TRX=1, CREDIT_LIMIT=7500.0, PAYMENTS=0.0, MINIMUM_PAYMENTS=None, PRC_FULL_PAYMENT=0.0, TENURE=12),\n",
              " Row(CUST_ID='C10005', BALANCE=817.714335, BALANCE_FREQUENCY=1.0, PURCHASES=16.0, ONEOFF_PURCHASES=16.0, INSTALLMENTS_PURCHASES=0.0, CASH_ADVANCE=0.0, PURCHASES_FREQUENCY=0.083333, ONEOFF_PURCHASES_FREQUENCY=0.083333, PURCHASES_INSTALLMENTS_FREQUENCY=0.0, CASH_ADVANCE_FREQUENCY=0.0, CASH_ADVANCE_TRX=0, PURCHASES_TRX=1, CREDIT_LIMIT=1200.0, PAYMENTS=678.334763, MINIMUM_PAYMENTS=244.791237, PRC_FULL_PAYMENT=0.0, TENURE=12),\n",
              " Row(CUST_ID='C10006', BALANCE=1809.828751, BALANCE_FREQUENCY=1.0, PURCHASES=1333.28, ONEOFF_PURCHASES=0.0, INSTALLMENTS_PURCHASES=1333.28, CASH_ADVANCE=0.0, PURCHASES_FREQUENCY=0.666667, ONEOFF_PURCHASES_FREQUENCY=0.0, PURCHASES_INSTALLMENTS_FREQUENCY=0.583333, CASH_ADVANCE_FREQUENCY=0.0, CASH_ADVANCE_TRX=0, PURCHASES_TRX=8, CREDIT_LIMIT=1800.0, PAYMENTS=1400.05777, MINIMUM_PAYMENTS=2407.246035, PRC_FULL_PAYMENT=0.0, TENURE=12),\n",
              " Row(CUST_ID='C10007', BALANCE=627.260806, BALANCE_FREQUENCY=1.0, PURCHASES=7091.01, ONEOFF_PURCHASES=6402.63, INSTALLMENTS_PURCHASES=688.38, CASH_ADVANCE=0.0, PURCHASES_FREQUENCY=1.0, ONEOFF_PURCHASES_FREQUENCY=1.0, PURCHASES_INSTALLMENTS_FREQUENCY=1.0, CASH_ADVANCE_FREQUENCY=0.0, CASH_ADVANCE_TRX=0, PURCHASES_TRX=64, CREDIT_LIMIT=13500.0, PAYMENTS=6354.314328, MINIMUM_PAYMENTS=198.065894, PRC_FULL_PAYMENT=1.0, TENURE=12),\n",
              " Row(CUST_ID='C10008', BALANCE=1823.652743, BALANCE_FREQUENCY=1.0, PURCHASES=436.2, ONEOFF_PURCHASES=0.0, INSTALLMENTS_PURCHASES=436.2, CASH_ADVANCE=0.0, PURCHASES_FREQUENCY=1.0, ONEOFF_PURCHASES_FREQUENCY=0.0, PURCHASES_INSTALLMENTS_FREQUENCY=1.0, CASH_ADVANCE_FREQUENCY=0.0, CASH_ADVANCE_TRX=0, PURCHASES_TRX=12, CREDIT_LIMIT=2300.0, PAYMENTS=679.065082, MINIMUM_PAYMENTS=532.03399, PRC_FULL_PAYMENT=0.0, TENURE=12)]"
            ]
          },
          "metadata": {}
        }
      ]
    },
    {
      "cell_type": "markdown",
      "source": [
        "### **Checking Schema of PySpark DataFrames**"
      ],
      "metadata": {
        "id": "6Tq9jOQNXu4m"
      }
    },
    {
      "cell_type": "code",
      "source": [
        "df.printSchema() # to print data types for the columns\n",
        "#txt_file.printSchema()\n",
        "#json_file.printSchema()"
      ],
      "metadata": {
        "id": "d4ipS73akQ2K",
        "colab": {
          "base_uri": "https://localhost:8080/"
        },
        "outputId": "3ff28ab4-8158-4502-832b-7c9275b11a7e"
      },
      "execution_count": null,
      "outputs": [
        {
          "output_type": "stream",
          "name": "stdout",
          "text": [
            "root\n",
            " |-- CUST_ID: string (nullable = true)\n",
            " |-- BALANCE: double (nullable = true)\n",
            " |-- BALANCE_FREQUENCY: double (nullable = true)\n",
            " |-- PURCHASES: double (nullable = true)\n",
            " |-- ONEOFF_PURCHASES: double (nullable = true)\n",
            " |-- INSTALLMENTS_PURCHASES: double (nullable = true)\n",
            " |-- CASH_ADVANCE: double (nullable = true)\n",
            " |-- PURCHASES_FREQUENCY: double (nullable = true)\n",
            " |-- ONEOFF_PURCHASES_FREQUENCY: double (nullable = true)\n",
            " |-- PURCHASES_INSTALLMENTS_FREQUENCY: double (nullable = true)\n",
            " |-- CASH_ADVANCE_FREQUENCY: double (nullable = true)\n",
            " |-- CASH_ADVANCE_TRX: integer (nullable = true)\n",
            " |-- PURCHASES_TRX: integer (nullable = true)\n",
            " |-- CREDIT_LIMIT: double (nullable = true)\n",
            " |-- PAYMENTS: double (nullable = true)\n",
            " |-- MINIMUM_PAYMENTS: double (nullable = true)\n",
            " |-- PRC_FULL_PAYMENT: double (nullable = true)\n",
            " |-- TENURE: integer (nullable = true)\n",
            "\n"
          ]
        }
      ]
    },
    {
      "cell_type": "markdown",
      "source": [
        "### **Checking DataTypes of PySpark DataFrames**"
      ],
      "metadata": {
        "id": "itazozXWXDvf"
      }
    },
    {
      "cell_type": "code",
      "source": [
        "print(type(df)) #csv file\n",
        "#print(type(txt_file))\n",
        "#print(type(json_file))"
      ],
      "metadata": {
        "colab": {
          "base_uri": "https://localhost:8080/"
        },
        "id": "i0QgXuIcW8FD",
        "outputId": "f4e53387-d831-480f-8517-9a6f1e0fd982"
      },
      "execution_count": null,
      "outputs": [
        {
          "output_type": "stream",
          "name": "stdout",
          "text": [
            "<class 'pyspark.sql.dataframe.DataFrame'>\n"
          ]
        }
      ]
    },
    {
      "cell_type": "markdown",
      "source": [
        "### **Reading Multiple Files as Once**"
      ],
      "metadata": {
        "id": "Sq5HhtOrYOvU"
      }
    },
    {
      "cell_type": "code",
      "source": [
        "#files = ['Fish.csv', 'Salary.csv']\n",
        "#df = spark.read.csv(files, sep = ',' ,  inferSchema=True, header=True)"
      ],
      "metadata": {
        "id": "161OkcGGYhME"
      },
      "execution_count": null,
      "outputs": []
    },
    {
      "cell_type": "markdown",
      "source": [
        "## **Writing Data -Saving into Parquet**\n",
        "\n",
        "Remember, if we are going to be processing the results with Spark, then parquet is a good format to use for saving dataframes.\n",
        "\n",
        "**To save into Parquet**\n",
        "\n",
        "`f.write.save('/FileStore/parquet/file-name', format='parquet')`\n",
        "\n",
        "**To save into csv with Spark**\n",
        "\n",
        "`df.write.save('/fith-path.csv', format='csv')`"
      ],
      "metadata": {
        "id": "sijLZt8maW77"
      }
    },
    {
      "cell_type": "code",
      "source": [
        "# DBFS  Databricks file store (DBFS)\n",
        "# HDFS \n",
        "df.write.save('Obi_emodi_big_data_project', format='parquet')"
      ],
      "metadata": {
        "id": "JJ5X5US0NjDS"
      },
      "execution_count": null,
      "outputs": []
    },
    {
      "cell_type": "markdown",
      "source": [
        "### **Reading Parquet**"
      ],
      "metadata": {
        "id": "lR_WwX85pgkj"
      }
    },
    {
      "cell_type": "code",
      "source": [
        "data_test = spark.read.parquet(\"Obi_emodi_big_data_project\") #game_stats - defining new name for storage\n",
        "#https://spark.apache.org/docs/latest/api/python/reference/api/pyspark.sql.DataFrame.html (spark dataframe)"
      ],
      "metadata": {
        "id": "JREm1DLJKynA"
      },
      "execution_count": null,
      "outputs": []
    },
    {
      "cell_type": "code",
      "source": [
        "display(data_test.take(5)) #parquet"
      ],
      "metadata": {
        "colab": {
          "base_uri": "https://localhost:8080/",
          "height": 124
        },
        "id": "jxrQeye3QoM0",
        "outputId": "2697860f-ed85-482e-94da-7fa47660dcfe"
      },
      "execution_count": null,
      "outputs": [
        {
          "output_type": "display_data",
          "data": {
            "text/plain": [
              "[Row(CUST_ID='C10001', BALANCE=40.900749, BALANCE_FREQUENCY=0.818182, PURCHASES=95.4, ONEOFF_PURCHASES=0.0, INSTALLMENTS_PURCHASES=95.4, CASH_ADVANCE=0.0, PURCHASES_FREQUENCY=0.166667, ONEOFF_PURCHASES_FREQUENCY=0.0, PURCHASES_INSTALLMENTS_FREQUENCY=0.083333, CASH_ADVANCE_FREQUENCY=0.0, CASH_ADVANCE_TRX=0, PURCHASES_TRX=2, CREDIT_LIMIT=1000.0, PAYMENTS=201.802084, MINIMUM_PAYMENTS=139.509787, PRC_FULL_PAYMENT=0.0, TENURE=12),\n",
              " Row(CUST_ID='C10002', BALANCE=3202.467416, BALANCE_FREQUENCY=0.909091, PURCHASES=0.0, ONEOFF_PURCHASES=0.0, INSTALLMENTS_PURCHASES=0.0, CASH_ADVANCE=6442.945483, PURCHASES_FREQUENCY=0.0, ONEOFF_PURCHASES_FREQUENCY=0.0, PURCHASES_INSTALLMENTS_FREQUENCY=0.0, CASH_ADVANCE_FREQUENCY=0.25, CASH_ADVANCE_TRX=4, PURCHASES_TRX=0, CREDIT_LIMIT=7000.0, PAYMENTS=4103.032597, MINIMUM_PAYMENTS=1072.340217, PRC_FULL_PAYMENT=0.222222, TENURE=12),\n",
              " Row(CUST_ID='C10003', BALANCE=2495.148862, BALANCE_FREQUENCY=1.0, PURCHASES=773.17, ONEOFF_PURCHASES=773.17, INSTALLMENTS_PURCHASES=0.0, CASH_ADVANCE=0.0, PURCHASES_FREQUENCY=1.0, ONEOFF_PURCHASES_FREQUENCY=1.0, PURCHASES_INSTALLMENTS_FREQUENCY=0.0, CASH_ADVANCE_FREQUENCY=0.0, CASH_ADVANCE_TRX=0, PURCHASES_TRX=12, CREDIT_LIMIT=7500.0, PAYMENTS=622.066742, MINIMUM_PAYMENTS=627.284787, PRC_FULL_PAYMENT=0.0, TENURE=12),\n",
              " Row(CUST_ID='C10004', BALANCE=1666.670542, BALANCE_FREQUENCY=0.636364, PURCHASES=1499.0, ONEOFF_PURCHASES=1499.0, INSTALLMENTS_PURCHASES=0.0, CASH_ADVANCE=205.788017, PURCHASES_FREQUENCY=0.083333, ONEOFF_PURCHASES_FREQUENCY=0.083333, PURCHASES_INSTALLMENTS_FREQUENCY=0.0, CASH_ADVANCE_FREQUENCY=0.083333, CASH_ADVANCE_TRX=1, PURCHASES_TRX=1, CREDIT_LIMIT=7500.0, PAYMENTS=0.0, MINIMUM_PAYMENTS=None, PRC_FULL_PAYMENT=0.0, TENURE=12),\n",
              " Row(CUST_ID='C10005', BALANCE=817.714335, BALANCE_FREQUENCY=1.0, PURCHASES=16.0, ONEOFF_PURCHASES=16.0, INSTALLMENTS_PURCHASES=0.0, CASH_ADVANCE=0.0, PURCHASES_FREQUENCY=0.083333, ONEOFF_PURCHASES_FREQUENCY=0.083333, PURCHASES_INSTALLMENTS_FREQUENCY=0.0, CASH_ADVANCE_FREQUENCY=0.0, CASH_ADVANCE_TRX=0, PURCHASES_TRX=1, CREDIT_LIMIT=1200.0, PAYMENTS=678.334763, MINIMUM_PAYMENTS=244.791237, PRC_FULL_PAYMENT=0.0, TENURE=12)]"
            ]
          },
          "metadata": {}
        }
      ]
    },
    {
      "cell_type": "markdown",
      "source": [
        "### **Contents of PySpark DataFrame**"
      ],
      "metadata": {
        "id": "dLB2hJ7VVGzz"
      }
    },
    {
      "cell_type": "code",
      "source": [
        "df.show() #from csv"
      ],
      "metadata": {
        "colab": {
          "base_uri": "https://localhost:8080/"
        },
        "id": "3TgA5DJDVI50",
        "outputId": "e288f00b-69f6-4367-86f2-88bbfe3a8998"
      },
      "execution_count": null,
      "outputs": [
        {
          "output_type": "stream",
          "name": "stdout",
          "text": [
            "+-------+-----------+-----------------+---------+----------------+----------------------+------------+-------------------+--------------------------+--------------------------------+----------------------+----------------+-------------+------------+-----------+----------------+----------------+------+\n",
            "|CUST_ID|    BALANCE|BALANCE_FREQUENCY|PURCHASES|ONEOFF_PURCHASES|INSTALLMENTS_PURCHASES|CASH_ADVANCE|PURCHASES_FREQUENCY|ONEOFF_PURCHASES_FREQUENCY|PURCHASES_INSTALLMENTS_FREQUENCY|CASH_ADVANCE_FREQUENCY|CASH_ADVANCE_TRX|PURCHASES_TRX|CREDIT_LIMIT|   PAYMENTS|MINIMUM_PAYMENTS|PRC_FULL_PAYMENT|TENURE|\n",
            "+-------+-----------+-----------------+---------+----------------+----------------------+------------+-------------------+--------------------------+--------------------------------+----------------------+----------------+-------------+------------+-----------+----------------+----------------+------+\n",
            "| C10001|  40.900749|         0.818182|     95.4|             0.0|                  95.4|         0.0|           0.166667|                       0.0|                        0.083333|                   0.0|               0|            2|      1000.0| 201.802084|      139.509787|             0.0|    12|\n",
            "| C10002|3202.467416|         0.909091|      0.0|             0.0|                   0.0| 6442.945483|                0.0|                       0.0|                             0.0|                  0.25|               4|            0|      7000.0|4103.032597|     1072.340217|        0.222222|    12|\n",
            "| C10003|2495.148862|              1.0|   773.17|          773.17|                   0.0|         0.0|                1.0|                       1.0|                             0.0|                   0.0|               0|           12|      7500.0| 622.066742|      627.284787|             0.0|    12|\n",
            "| C10004|1666.670542|         0.636364|   1499.0|          1499.0|                   0.0|  205.788017|           0.083333|                  0.083333|                             0.0|              0.083333|               1|            1|      7500.0|        0.0|            null|             0.0|    12|\n",
            "| C10005| 817.714335|              1.0|     16.0|            16.0|                   0.0|         0.0|           0.083333|                  0.083333|                             0.0|                   0.0|               0|            1|      1200.0| 678.334763|      244.791237|             0.0|    12|\n",
            "| C10006|1809.828751|              1.0|  1333.28|             0.0|               1333.28|         0.0|           0.666667|                       0.0|                        0.583333|                   0.0|               0|            8|      1800.0| 1400.05777|     2407.246035|             0.0|    12|\n",
            "| C10007| 627.260806|              1.0|  7091.01|         6402.63|                688.38|         0.0|                1.0|                       1.0|                             1.0|                   0.0|               0|           64|     13500.0|6354.314328|      198.065894|             1.0|    12|\n",
            "| C10008|1823.652743|              1.0|    436.2|             0.0|                 436.2|         0.0|                1.0|                       0.0|                             1.0|                   0.0|               0|           12|      2300.0| 679.065082|       532.03399|             0.0|    12|\n",
            "| C10009|1014.926473|              1.0|   861.49|          661.49|                 200.0|         0.0|           0.333333|                  0.083333|                            0.25|                   0.0|               0|            5|      7000.0| 688.278568|      311.963409|             0.0|    12|\n",
            "| C10010| 152.225975|         0.545455|   1281.6|          1281.6|                   0.0|         0.0|           0.166667|                  0.166667|                             0.0|                   0.0|               0|            3|     11000.0|1164.770591|      100.302262|             0.0|    12|\n",
            "| C10011|1293.124939|              1.0|   920.12|             0.0|                920.12|         0.0|                1.0|                       0.0|                             1.0|                   0.0|               0|           12|      1200.0|1083.301007|     2172.697765|             0.0|    12|\n",
            "| C10012| 630.794744|         0.818182|  1492.18|         1492.18|                   0.0|         0.0|               0.25|                      0.25|                             0.0|                   0.0|               0|            6|      2000.0| 705.618627|      155.549069|             0.0|    12|\n",
            "| C10013| 1516.92862|              1.0|  3217.99|         2500.23|                717.76|         0.0|                1.0|                      0.25|                        0.916667|                   0.0|               0|           26|      3000.0| 608.263689|      490.207013|            0.25|    12|\n",
            "| C10014| 921.693369|              1.0|  2137.93|          419.96|               1717.97|         0.0|               0.75|                  0.166667|                            0.75|                   0.0|               0|           26|      7500.0|1655.891435|      251.137986|        0.083333|    12|\n",
            "| C10015|2772.772734|              1.0|      0.0|             0.0|                   0.0|   346.81139|                0.0|                       0.0|                             0.0|              0.083333|               1|            0|      3000.0| 805.647974|      989.962866|             0.0|    12|\n",
            "| C10016|6886.213231|              1.0|   1611.7|             0.0|                1611.7| 2301.491267|                0.5|                       0.0|                             0.5|              0.166667|               4|           11|      8000.0|1993.439277|      2109.90649|             0.0|    12|\n",
            "| C10017|2072.074354|            0.875|      0.0|             0.0|                   0.0| 2784.274703|                0.0|                       0.0|                             0.0|                  0.25|               3|            0|      3000.0| 391.974562|      376.579631|             0.0|     8|\n",
            "| C10018|  41.089489|         0.454545|    519.0|             0.0|                 519.0|         0.0|           0.416667|                       0.0|                        0.333333|                   0.0|               0|            8|      2500.0| 254.590662|       73.203221|            0.25|    12|\n",
            "| C10019|1989.072228|              1.0|   504.35|           166.0|                338.35|         0.0|           0.666667|                  0.083333|                        0.583333|                   0.0|               0|            9|     13000.0|1720.837373|      744.613395|             0.0|    12|\n",
            "| C10020|3577.970933|              1.0|   398.64|             0.0|                398.64|         0.0|                1.0|                       0.0|                             1.0|                   0.0|               0|           12|      4000.0|1053.980464|     12465.54938|             0.0|    12|\n",
            "+-------+-----------+-----------------+---------+----------------+----------------------+------------+-------------------+--------------------------+--------------------------------+----------------------+----------------+-------------+------------+-----------+----------------+----------------+------+\n",
            "only showing top 20 rows\n",
            "\n"
          ]
        }
      ]
    },
    {
      "cell_type": "code",
      "source": [
        "data_test.show() #parquet "
      ],
      "metadata": {
        "colab": {
          "base_uri": "https://localhost:8080/"
        },
        "id": "7gbtka5EVZG3",
        "outputId": "b206900d-afbc-4890-d326-feb0cef458f7"
      },
      "execution_count": null,
      "outputs": [
        {
          "output_type": "stream",
          "name": "stdout",
          "text": [
            "+-------+-----------+-----------------+---------+----------------+----------------------+------------+-------------------+--------------------------+--------------------------------+----------------------+----------------+-------------+------------+-----------+----------------+----------------+------+\n",
            "|CUST_ID|    BALANCE|BALANCE_FREQUENCY|PURCHASES|ONEOFF_PURCHASES|INSTALLMENTS_PURCHASES|CASH_ADVANCE|PURCHASES_FREQUENCY|ONEOFF_PURCHASES_FREQUENCY|PURCHASES_INSTALLMENTS_FREQUENCY|CASH_ADVANCE_FREQUENCY|CASH_ADVANCE_TRX|PURCHASES_TRX|CREDIT_LIMIT|   PAYMENTS|MINIMUM_PAYMENTS|PRC_FULL_PAYMENT|TENURE|\n",
            "+-------+-----------+-----------------+---------+----------------+----------------------+------------+-------------------+--------------------------+--------------------------------+----------------------+----------------+-------------+------------+-----------+----------------+----------------+------+\n",
            "| C10001|  40.900749|         0.818182|     95.4|             0.0|                  95.4|         0.0|           0.166667|                       0.0|                        0.083333|                   0.0|               0|            2|      1000.0| 201.802084|      139.509787|             0.0|    12|\n",
            "| C10002|3202.467416|         0.909091|      0.0|             0.0|                   0.0| 6442.945483|                0.0|                       0.0|                             0.0|                  0.25|               4|            0|      7000.0|4103.032597|     1072.340217|        0.222222|    12|\n",
            "| C10003|2495.148862|              1.0|   773.17|          773.17|                   0.0|         0.0|                1.0|                       1.0|                             0.0|                   0.0|               0|           12|      7500.0| 622.066742|      627.284787|             0.0|    12|\n",
            "| C10004|1666.670542|         0.636364|   1499.0|          1499.0|                   0.0|  205.788017|           0.083333|                  0.083333|                             0.0|              0.083333|               1|            1|      7500.0|        0.0|            null|             0.0|    12|\n",
            "| C10005| 817.714335|              1.0|     16.0|            16.0|                   0.0|         0.0|           0.083333|                  0.083333|                             0.0|                   0.0|               0|            1|      1200.0| 678.334763|      244.791237|             0.0|    12|\n",
            "| C10006|1809.828751|              1.0|  1333.28|             0.0|               1333.28|         0.0|           0.666667|                       0.0|                        0.583333|                   0.0|               0|            8|      1800.0| 1400.05777|     2407.246035|             0.0|    12|\n",
            "| C10007| 627.260806|              1.0|  7091.01|         6402.63|                688.38|         0.0|                1.0|                       1.0|                             1.0|                   0.0|               0|           64|     13500.0|6354.314328|      198.065894|             1.0|    12|\n",
            "| C10008|1823.652743|              1.0|    436.2|             0.0|                 436.2|         0.0|                1.0|                       0.0|                             1.0|                   0.0|               0|           12|      2300.0| 679.065082|       532.03399|             0.0|    12|\n",
            "| C10009|1014.926473|              1.0|   861.49|          661.49|                 200.0|         0.0|           0.333333|                  0.083333|                            0.25|                   0.0|               0|            5|      7000.0| 688.278568|      311.963409|             0.0|    12|\n",
            "| C10010| 152.225975|         0.545455|   1281.6|          1281.6|                   0.0|         0.0|           0.166667|                  0.166667|                             0.0|                   0.0|               0|            3|     11000.0|1164.770591|      100.302262|             0.0|    12|\n",
            "| C10011|1293.124939|              1.0|   920.12|             0.0|                920.12|         0.0|                1.0|                       0.0|                             1.0|                   0.0|               0|           12|      1200.0|1083.301007|     2172.697765|             0.0|    12|\n",
            "| C10012| 630.794744|         0.818182|  1492.18|         1492.18|                   0.0|         0.0|               0.25|                      0.25|                             0.0|                   0.0|               0|            6|      2000.0| 705.618627|      155.549069|             0.0|    12|\n",
            "| C10013| 1516.92862|              1.0|  3217.99|         2500.23|                717.76|         0.0|                1.0|                      0.25|                        0.916667|                   0.0|               0|           26|      3000.0| 608.263689|      490.207013|            0.25|    12|\n",
            "| C10014| 921.693369|              1.0|  2137.93|          419.96|               1717.97|         0.0|               0.75|                  0.166667|                            0.75|                   0.0|               0|           26|      7500.0|1655.891435|      251.137986|        0.083333|    12|\n",
            "| C10015|2772.772734|              1.0|      0.0|             0.0|                   0.0|   346.81139|                0.0|                       0.0|                             0.0|              0.083333|               1|            0|      3000.0| 805.647974|      989.962866|             0.0|    12|\n",
            "| C10016|6886.213231|              1.0|   1611.7|             0.0|                1611.7| 2301.491267|                0.5|                       0.0|                             0.5|              0.166667|               4|           11|      8000.0|1993.439277|      2109.90649|             0.0|    12|\n",
            "| C10017|2072.074354|            0.875|      0.0|             0.0|                   0.0| 2784.274703|                0.0|                       0.0|                             0.0|                  0.25|               3|            0|      3000.0| 391.974562|      376.579631|             0.0|     8|\n",
            "| C10018|  41.089489|         0.454545|    519.0|             0.0|                 519.0|         0.0|           0.416667|                       0.0|                        0.333333|                   0.0|               0|            8|      2500.0| 254.590662|       73.203221|            0.25|    12|\n",
            "| C10019|1989.072228|              1.0|   504.35|           166.0|                338.35|         0.0|           0.666667|                  0.083333|                        0.583333|                   0.0|               0|            9|     13000.0|1720.837373|      744.613395|             0.0|    12|\n",
            "| C10020|3577.970933|              1.0|   398.64|             0.0|                398.64|         0.0|                1.0|                       0.0|                             1.0|                   0.0|               0|           12|      4000.0|1053.980464|     12465.54938|             0.0|    12|\n",
            "+-------+-----------+-----------------+---------+----------------+----------------------+------------+-------------------+--------------------------+--------------------------------+----------------------+----------------+-------------+------------+-----------+----------------+----------------+------+\n",
            "only showing top 20 rows\n",
            "\n"
          ]
        }
      ]
    },
    {
      "cell_type": "code",
      "source": [
        "print((data_test.count(), len(data_test.columns)))"
      ],
      "metadata": {
        "colab": {
          "base_uri": "https://localhost:8080/"
        },
        "id": "euTd5pnVI5lo",
        "outputId": "f50a9625-3080-4130-eaf4-5efed8d9bde1"
      },
      "execution_count": null,
      "outputs": [
        {
          "output_type": "stream",
          "name": "stdout",
          "text": [
            "(8950, 18)\n"
          ]
        }
      ]
    },
    {
      "cell_type": "code",
      "source": [
        "data_test.columns"
      ],
      "metadata": {
        "colab": {
          "base_uri": "https://localhost:8080/"
        },
        "id": "G5qGEsJIJBH6",
        "outputId": "becb2a20-dc99-40ab-d0c8-b66126f504a8"
      },
      "execution_count": null,
      "outputs": [
        {
          "output_type": "execute_result",
          "data": {
            "text/plain": [
              "['CUST_ID',\n",
              " 'BALANCE',\n",
              " 'BALANCE_FREQUENCY',\n",
              " 'PURCHASES',\n",
              " 'ONEOFF_PURCHASES',\n",
              " 'INSTALLMENTS_PURCHASES',\n",
              " 'CASH_ADVANCE',\n",
              " 'PURCHASES_FREQUENCY',\n",
              " 'ONEOFF_PURCHASES_FREQUENCY',\n",
              " 'PURCHASES_INSTALLMENTS_FREQUENCY',\n",
              " 'CASH_ADVANCE_FREQUENCY',\n",
              " 'CASH_ADVANCE_TRX',\n",
              " 'PURCHASES_TRX',\n",
              " 'CREDIT_LIMIT',\n",
              " 'PAYMENTS',\n",
              " 'MINIMUM_PAYMENTS',\n",
              " 'PRC_FULL_PAYMENT',\n",
              " 'TENURE']"
            ]
          },
          "metadata": {},
          "execution_count": 20
        }
      ]
    },
    {
      "cell_type": "markdown",
      "source": [
        "### **PySpark DataFrame to Pandas DataFrame**"
      ],
      "metadata": {
        "id": "Pnk4pBK6ZBYc"
      }
    },
    {
      "cell_type": "markdown",
      "source": [
        "One advantage is for more EDA:\n",
        "\n",
        "If needed, we can use the toPandas() function to create a Pandas dataframe on the driver node, which means that any Python plotting library can be used for visualizing the results. However, **this approach should be used for only small dataframes, since all of the data is eagerly fetched into memory on the driver node.**"
      ],
      "metadata": {
        "id": "LjSmPpQPaleL"
      }
    },
    {
      "cell_type": "code",
      "source": [
        "#df = csv_file.toPandas() #convert the PySpark DataFrame into a Pandas DataFrame\n",
        "df_topandas = data_test.toPandas() # or use df (csv)"
      ],
      "metadata": {
        "id": "u-oiQ0l7auh3"
      },
      "execution_count": null,
      "outputs": []
    },
    {
      "cell_type": "code",
      "source": [
        "df_topandas"
      ],
      "metadata": {
        "colab": {
          "base_uri": "https://localhost:8080/",
          "height": 487
        },
        "id": "v1DUTMaebbzO",
        "outputId": "5b04731c-73df-432f-ab21-97f5cc3eea74"
      },
      "execution_count": null,
      "outputs": [
        {
          "output_type": "execute_result",
          "data": {
            "text/html": [
              "\n",
              "  <div id=\"df-2d099ec4-6869-4f84-82e9-3037a4335489\">\n",
              "    <div class=\"colab-df-container\">\n",
              "      <div>\n",
              "<style scoped>\n",
              "    .dataframe tbody tr th:only-of-type {\n",
              "        vertical-align: middle;\n",
              "    }\n",
              "\n",
              "    .dataframe tbody tr th {\n",
              "        vertical-align: top;\n",
              "    }\n",
              "\n",
              "    .dataframe thead th {\n",
              "        text-align: right;\n",
              "    }\n",
              "</style>\n",
              "<table border=\"1\" class=\"dataframe\">\n",
              "  <thead>\n",
              "    <tr style=\"text-align: right;\">\n",
              "      <th></th>\n",
              "      <th>CUST_ID</th>\n",
              "      <th>BALANCE</th>\n",
              "      <th>BALANCE_FREQUENCY</th>\n",
              "      <th>PURCHASES</th>\n",
              "      <th>ONEOFF_PURCHASES</th>\n",
              "      <th>INSTALLMENTS_PURCHASES</th>\n",
              "      <th>CASH_ADVANCE</th>\n",
              "      <th>PURCHASES_FREQUENCY</th>\n",
              "      <th>ONEOFF_PURCHASES_FREQUENCY</th>\n",
              "      <th>PURCHASES_INSTALLMENTS_FREQUENCY</th>\n",
              "      <th>CASH_ADVANCE_FREQUENCY</th>\n",
              "      <th>CASH_ADVANCE_TRX</th>\n",
              "      <th>PURCHASES_TRX</th>\n",
              "      <th>CREDIT_LIMIT</th>\n",
              "      <th>PAYMENTS</th>\n",
              "      <th>MINIMUM_PAYMENTS</th>\n",
              "      <th>PRC_FULL_PAYMENT</th>\n",
              "      <th>TENURE</th>\n",
              "    </tr>\n",
              "  </thead>\n",
              "  <tbody>\n",
              "    <tr>\n",
              "      <th>0</th>\n",
              "      <td>C10001</td>\n",
              "      <td>40.900749</td>\n",
              "      <td>0.818182</td>\n",
              "      <td>95.40</td>\n",
              "      <td>0.00</td>\n",
              "      <td>95.40</td>\n",
              "      <td>0.000000</td>\n",
              "      <td>0.166667</td>\n",
              "      <td>0.000000</td>\n",
              "      <td>0.083333</td>\n",
              "      <td>0.000000</td>\n",
              "      <td>0</td>\n",
              "      <td>2</td>\n",
              "      <td>1000.0</td>\n",
              "      <td>201.802084</td>\n",
              "      <td>139.509787</td>\n",
              "      <td>0.000000</td>\n",
              "      <td>12</td>\n",
              "    </tr>\n",
              "    <tr>\n",
              "      <th>1</th>\n",
              "      <td>C10002</td>\n",
              "      <td>3202.467416</td>\n",
              "      <td>0.909091</td>\n",
              "      <td>0.00</td>\n",
              "      <td>0.00</td>\n",
              "      <td>0.00</td>\n",
              "      <td>6442.945483</td>\n",
              "      <td>0.000000</td>\n",
              "      <td>0.000000</td>\n",
              "      <td>0.000000</td>\n",
              "      <td>0.250000</td>\n",
              "      <td>4</td>\n",
              "      <td>0</td>\n",
              "      <td>7000.0</td>\n",
              "      <td>4103.032597</td>\n",
              "      <td>1072.340217</td>\n",
              "      <td>0.222222</td>\n",
              "      <td>12</td>\n",
              "    </tr>\n",
              "    <tr>\n",
              "      <th>2</th>\n",
              "      <td>C10003</td>\n",
              "      <td>2495.148862</td>\n",
              "      <td>1.000000</td>\n",
              "      <td>773.17</td>\n",
              "      <td>773.17</td>\n",
              "      <td>0.00</td>\n",
              "      <td>0.000000</td>\n",
              "      <td>1.000000</td>\n",
              "      <td>1.000000</td>\n",
              "      <td>0.000000</td>\n",
              "      <td>0.000000</td>\n",
              "      <td>0</td>\n",
              "      <td>12</td>\n",
              "      <td>7500.0</td>\n",
              "      <td>622.066742</td>\n",
              "      <td>627.284787</td>\n",
              "      <td>0.000000</td>\n",
              "      <td>12</td>\n",
              "    </tr>\n",
              "    <tr>\n",
              "      <th>3</th>\n",
              "      <td>C10004</td>\n",
              "      <td>1666.670542</td>\n",
              "      <td>0.636364</td>\n",
              "      <td>1499.00</td>\n",
              "      <td>1499.00</td>\n",
              "      <td>0.00</td>\n",
              "      <td>205.788017</td>\n",
              "      <td>0.083333</td>\n",
              "      <td>0.083333</td>\n",
              "      <td>0.000000</td>\n",
              "      <td>0.083333</td>\n",
              "      <td>1</td>\n",
              "      <td>1</td>\n",
              "      <td>7500.0</td>\n",
              "      <td>0.000000</td>\n",
              "      <td>NaN</td>\n",
              "      <td>0.000000</td>\n",
              "      <td>12</td>\n",
              "    </tr>\n",
              "    <tr>\n",
              "      <th>4</th>\n",
              "      <td>C10005</td>\n",
              "      <td>817.714335</td>\n",
              "      <td>1.000000</td>\n",
              "      <td>16.00</td>\n",
              "      <td>16.00</td>\n",
              "      <td>0.00</td>\n",
              "      <td>0.000000</td>\n",
              "      <td>0.083333</td>\n",
              "      <td>0.083333</td>\n",
              "      <td>0.000000</td>\n",
              "      <td>0.000000</td>\n",
              "      <td>0</td>\n",
              "      <td>1</td>\n",
              "      <td>1200.0</td>\n",
              "      <td>678.334763</td>\n",
              "      <td>244.791237</td>\n",
              "      <td>0.000000</td>\n",
              "      <td>12</td>\n",
              "    </tr>\n",
              "    <tr>\n",
              "      <th>...</th>\n",
              "      <td>...</td>\n",
              "      <td>...</td>\n",
              "      <td>...</td>\n",
              "      <td>...</td>\n",
              "      <td>...</td>\n",
              "      <td>...</td>\n",
              "      <td>...</td>\n",
              "      <td>...</td>\n",
              "      <td>...</td>\n",
              "      <td>...</td>\n",
              "      <td>...</td>\n",
              "      <td>...</td>\n",
              "      <td>...</td>\n",
              "      <td>...</td>\n",
              "      <td>...</td>\n",
              "      <td>...</td>\n",
              "      <td>...</td>\n",
              "      <td>...</td>\n",
              "    </tr>\n",
              "    <tr>\n",
              "      <th>8945</th>\n",
              "      <td>C19186</td>\n",
              "      <td>28.493517</td>\n",
              "      <td>1.000000</td>\n",
              "      <td>291.12</td>\n",
              "      <td>0.00</td>\n",
              "      <td>291.12</td>\n",
              "      <td>0.000000</td>\n",
              "      <td>1.000000</td>\n",
              "      <td>0.000000</td>\n",
              "      <td>0.833333</td>\n",
              "      <td>0.000000</td>\n",
              "      <td>0</td>\n",
              "      <td>6</td>\n",
              "      <td>1000.0</td>\n",
              "      <td>325.594462</td>\n",
              "      <td>48.886365</td>\n",
              "      <td>0.500000</td>\n",
              "      <td>6</td>\n",
              "    </tr>\n",
              "    <tr>\n",
              "      <th>8946</th>\n",
              "      <td>C19187</td>\n",
              "      <td>19.183215</td>\n",
              "      <td>1.000000</td>\n",
              "      <td>300.00</td>\n",
              "      <td>0.00</td>\n",
              "      <td>300.00</td>\n",
              "      <td>0.000000</td>\n",
              "      <td>1.000000</td>\n",
              "      <td>0.000000</td>\n",
              "      <td>0.833333</td>\n",
              "      <td>0.000000</td>\n",
              "      <td>0</td>\n",
              "      <td>6</td>\n",
              "      <td>1000.0</td>\n",
              "      <td>275.861322</td>\n",
              "      <td>NaN</td>\n",
              "      <td>0.000000</td>\n",
              "      <td>6</td>\n",
              "    </tr>\n",
              "    <tr>\n",
              "      <th>8947</th>\n",
              "      <td>C19188</td>\n",
              "      <td>23.398673</td>\n",
              "      <td>0.833333</td>\n",
              "      <td>144.40</td>\n",
              "      <td>0.00</td>\n",
              "      <td>144.40</td>\n",
              "      <td>0.000000</td>\n",
              "      <td>0.833333</td>\n",
              "      <td>0.000000</td>\n",
              "      <td>0.666667</td>\n",
              "      <td>0.000000</td>\n",
              "      <td>0</td>\n",
              "      <td>5</td>\n",
              "      <td>1000.0</td>\n",
              "      <td>81.270775</td>\n",
              "      <td>82.418369</td>\n",
              "      <td>0.250000</td>\n",
              "      <td>6</td>\n",
              "    </tr>\n",
              "    <tr>\n",
              "      <th>8948</th>\n",
              "      <td>C19189</td>\n",
              "      <td>13.457564</td>\n",
              "      <td>0.833333</td>\n",
              "      <td>0.00</td>\n",
              "      <td>0.00</td>\n",
              "      <td>0.00</td>\n",
              "      <td>36.558778</td>\n",
              "      <td>0.000000</td>\n",
              "      <td>0.000000</td>\n",
              "      <td>0.000000</td>\n",
              "      <td>0.166667</td>\n",
              "      <td>2</td>\n",
              "      <td>0</td>\n",
              "      <td>500.0</td>\n",
              "      <td>52.549959</td>\n",
              "      <td>55.755628</td>\n",
              "      <td>0.250000</td>\n",
              "      <td>6</td>\n",
              "    </tr>\n",
              "    <tr>\n",
              "      <th>8949</th>\n",
              "      <td>C19190</td>\n",
              "      <td>372.708075</td>\n",
              "      <td>0.666667</td>\n",
              "      <td>1093.25</td>\n",
              "      <td>1093.25</td>\n",
              "      <td>0.00</td>\n",
              "      <td>127.040008</td>\n",
              "      <td>0.666667</td>\n",
              "      <td>0.666667</td>\n",
              "      <td>0.000000</td>\n",
              "      <td>0.333333</td>\n",
              "      <td>2</td>\n",
              "      <td>23</td>\n",
              "      <td>1200.0</td>\n",
              "      <td>63.165404</td>\n",
              "      <td>88.288956</td>\n",
              "      <td>0.000000</td>\n",
              "      <td>6</td>\n",
              "    </tr>\n",
              "  </tbody>\n",
              "</table>\n",
              "<p>8950 rows × 18 columns</p>\n",
              "</div>\n",
              "      <button class=\"colab-df-convert\" onclick=\"convertToInteractive('df-2d099ec4-6869-4f84-82e9-3037a4335489')\"\n",
              "              title=\"Convert this dataframe to an interactive table.\"\n",
              "              style=\"display:none;\">\n",
              "        \n",
              "  <svg xmlns=\"http://www.w3.org/2000/svg\" height=\"24px\"viewBox=\"0 0 24 24\"\n",
              "       width=\"24px\">\n",
              "    <path d=\"M0 0h24v24H0V0z\" fill=\"none\"/>\n",
              "    <path d=\"M18.56 5.44l.94 2.06.94-2.06 2.06-.94-2.06-.94-.94-2.06-.94 2.06-2.06.94zm-11 1L8.5 8.5l.94-2.06 2.06-.94-2.06-.94L8.5 2.5l-.94 2.06-2.06.94zm10 10l.94 2.06.94-2.06 2.06-.94-2.06-.94-.94-2.06-.94 2.06-2.06.94z\"/><path d=\"M17.41 7.96l-1.37-1.37c-.4-.4-.92-.59-1.43-.59-.52 0-1.04.2-1.43.59L10.3 9.45l-7.72 7.72c-.78.78-.78 2.05 0 2.83L4 21.41c.39.39.9.59 1.41.59.51 0 1.02-.2 1.41-.59l7.78-7.78 2.81-2.81c.8-.78.8-2.07 0-2.86zM5.41 20L4 18.59l7.72-7.72 1.47 1.35L5.41 20z\"/>\n",
              "  </svg>\n",
              "      </button>\n",
              "      \n",
              "  <style>\n",
              "    .colab-df-container {\n",
              "      display:flex;\n",
              "      flex-wrap:wrap;\n",
              "      gap: 12px;\n",
              "    }\n",
              "\n",
              "    .colab-df-convert {\n",
              "      background-color: #E8F0FE;\n",
              "      border: none;\n",
              "      border-radius: 50%;\n",
              "      cursor: pointer;\n",
              "      display: none;\n",
              "      fill: #1967D2;\n",
              "      height: 32px;\n",
              "      padding: 0 0 0 0;\n",
              "      width: 32px;\n",
              "    }\n",
              "\n",
              "    .colab-df-convert:hover {\n",
              "      background-color: #E2EBFA;\n",
              "      box-shadow: 0px 1px 2px rgba(60, 64, 67, 0.3), 0px 1px 3px 1px rgba(60, 64, 67, 0.15);\n",
              "      fill: #174EA6;\n",
              "    }\n",
              "\n",
              "    [theme=dark] .colab-df-convert {\n",
              "      background-color: #3B4455;\n",
              "      fill: #D2E3FC;\n",
              "    }\n",
              "\n",
              "    [theme=dark] .colab-df-convert:hover {\n",
              "      background-color: #434B5C;\n",
              "      box-shadow: 0px 1px 3px 1px rgba(0, 0, 0, 0.15);\n",
              "      filter: drop-shadow(0px 1px 2px rgba(0, 0, 0, 0.3));\n",
              "      fill: #FFFFFF;\n",
              "    }\n",
              "  </style>\n",
              "\n",
              "      <script>\n",
              "        const buttonEl =\n",
              "          document.querySelector('#df-2d099ec4-6869-4f84-82e9-3037a4335489 button.colab-df-convert');\n",
              "        buttonEl.style.display =\n",
              "          google.colab.kernel.accessAllowed ? 'block' : 'none';\n",
              "\n",
              "        async function convertToInteractive(key) {\n",
              "          const element = document.querySelector('#df-2d099ec4-6869-4f84-82e9-3037a4335489');\n",
              "          const dataTable =\n",
              "            await google.colab.kernel.invokeFunction('convertToInteractive',\n",
              "                                                     [key], {});\n",
              "          if (!dataTable) return;\n",
              "\n",
              "          const docLinkHtml = 'Like what you see? Visit the ' +\n",
              "            '<a target=\"_blank\" href=https://colab.research.google.com/notebooks/data_table.ipynb>data table notebook</a>'\n",
              "            + ' to learn more about interactive tables.';\n",
              "          element.innerHTML = '';\n",
              "          dataTable['output_type'] = 'display_data';\n",
              "          await google.colab.output.renderOutput(dataTable, element);\n",
              "          const docLink = document.createElement('div');\n",
              "          docLink.innerHTML = docLinkHtml;\n",
              "          element.appendChild(docLink);\n",
              "        }\n",
              "      </script>\n",
              "    </div>\n",
              "  </div>\n",
              "  "
            ],
            "text/plain": [
              "     CUST_ID      BALANCE  ...  PRC_FULL_PAYMENT  TENURE\n",
              "0     C10001    40.900749  ...          0.000000      12\n",
              "1     C10002  3202.467416  ...          0.222222      12\n",
              "2     C10003  2495.148862  ...          0.000000      12\n",
              "3     C10004  1666.670542  ...          0.000000      12\n",
              "4     C10005   817.714335  ...          0.000000      12\n",
              "...      ...          ...  ...               ...     ...\n",
              "8945  C19186    28.493517  ...          0.500000       6\n",
              "8946  C19187    19.183215  ...          0.000000       6\n",
              "8947  C19188    23.398673  ...          0.250000       6\n",
              "8948  C19189    13.457564  ...          0.250000       6\n",
              "8949  C19190   372.708075  ...          0.000000       6\n",
              "\n",
              "[8950 rows x 18 columns]"
            ]
          },
          "metadata": {},
          "execution_count": 22
        }
      ]
    },
    {
      "cell_type": "code",
      "source": [
        "df_topandas.isna().sum()"
      ],
      "metadata": {
        "colab": {
          "base_uri": "https://localhost:8080/"
        },
        "id": "DOUDLcrdVGEc",
        "outputId": "dd412131-ae2f-41eb-fd2f-d5f350a2cce3"
      },
      "execution_count": null,
      "outputs": [
        {
          "output_type": "execute_result",
          "data": {
            "text/plain": [
              "CUST_ID                               0\n",
              "BALANCE                               0\n",
              "BALANCE_FREQUENCY                     0\n",
              "PURCHASES                             0\n",
              "ONEOFF_PURCHASES                      0\n",
              "INSTALLMENTS_PURCHASES                0\n",
              "CASH_ADVANCE                          0\n",
              "PURCHASES_FREQUENCY                   0\n",
              "ONEOFF_PURCHASES_FREQUENCY            0\n",
              "PURCHASES_INSTALLMENTS_FREQUENCY      0\n",
              "CASH_ADVANCE_FREQUENCY                0\n",
              "CASH_ADVANCE_TRX                      0\n",
              "PURCHASES_TRX                         0\n",
              "CREDIT_LIMIT                          1\n",
              "PAYMENTS                              0\n",
              "MINIMUM_PAYMENTS                    313\n",
              "PRC_FULL_PAYMENT                      0\n",
              "TENURE                                0\n",
              "dtype: int64"
            ]
          },
          "metadata": {},
          "execution_count": 23
        }
      ]
    },
    {
      "cell_type": "code",
      "source": [
        "type(df_topandas)"
      ],
      "metadata": {
        "colab": {
          "base_uri": "https://localhost:8080/"
        },
        "id": "cuI4XU6CbkNc",
        "outputId": "9d1302e4-e4f0-4ee5-baca-74c42b06df20"
      },
      "execution_count": null,
      "outputs": [
        {
          "output_type": "execute_result",
          "data": {
            "text/plain": [
              "pandas.core.frame.DataFrame"
            ]
          },
          "metadata": {},
          "execution_count": 24
        }
      ]
    },
    {
      "cell_type": "code",
      "source": [
        "df_topandas.fillna(0, inplace=True)"
      ],
      "metadata": {
        "id": "CODbMAcvqhHa"
      },
      "execution_count": null,
      "outputs": []
    },
    {
      "cell_type": "code",
      "source": [
        "df_topandas.isna().sum()"
      ],
      "metadata": {
        "colab": {
          "base_uri": "https://localhost:8080/"
        },
        "id": "Suqdr5iurA82",
        "outputId": "06d8ec92-cf10-41c0-c4e8-9008663b02f4"
      },
      "execution_count": null,
      "outputs": [
        {
          "output_type": "execute_result",
          "data": {
            "text/plain": [
              "CUST_ID                             0\n",
              "BALANCE                             0\n",
              "BALANCE_FREQUENCY                   0\n",
              "PURCHASES                           0\n",
              "ONEOFF_PURCHASES                    0\n",
              "INSTALLMENTS_PURCHASES              0\n",
              "CASH_ADVANCE                        0\n",
              "PURCHASES_FREQUENCY                 0\n",
              "ONEOFF_PURCHASES_FREQUENCY          0\n",
              "PURCHASES_INSTALLMENTS_FREQUENCY    0\n",
              "CASH_ADVANCE_FREQUENCY              0\n",
              "CASH_ADVANCE_TRX                    0\n",
              "PURCHASES_TRX                       0\n",
              "CREDIT_LIMIT                        0\n",
              "PAYMENTS                            0\n",
              "MINIMUM_PAYMENTS                    0\n",
              "PRC_FULL_PAYMENT                    0\n",
              "TENURE                              0\n",
              "dtype: int64"
            ]
          },
          "metadata": {},
          "execution_count": 26
        }
      ]
    },
    {
      "cell_type": "markdown",
      "source": [
        "### **Convert Pandas DF to Spark DF**\n",
        "\n",
        "Spark provides a createDataFrame(pandas_dataframe) method to convert pandas to Spark DataFrame, "
      ],
      "metadata": {
        "id": "UE0rmugjuaoL"
      }
    },
    {
      "cell_type": "code",
      "source": [
        "from pyspark.sql import SparkSession\n",
        "\n",
        "#Create PySpark SparkSession\n",
        "spark = SparkSession.builder \\\n",
        "    .master(\"local[1]\") \\\n",
        "    .appName(\"test\") \\\n",
        "    .getOrCreate()\n",
        "\n",
        "#Create PySpark DataFrame from Pandas\n",
        "sparkDF=spark.createDataFrame(df_topandas) \n",
        "sparkDF.printSchema()\n",
        "sparkDF.show()"
      ],
      "metadata": {
        "colab": {
          "base_uri": "https://localhost:8080/"
        },
        "id": "rVDVdxsZuuuF",
        "outputId": "28875fcf-d10b-4d7e-82df-49af5600b422"
      },
      "execution_count": null,
      "outputs": [
        {
          "output_type": "stream",
          "name": "stdout",
          "text": [
            "root\n",
            " |-- CUST_ID: string (nullable = true)\n",
            " |-- BALANCE: double (nullable = true)\n",
            " |-- BALANCE_FREQUENCY: double (nullable = true)\n",
            " |-- PURCHASES: double (nullable = true)\n",
            " |-- ONEOFF_PURCHASES: double (nullable = true)\n",
            " |-- INSTALLMENTS_PURCHASES: double (nullable = true)\n",
            " |-- CASH_ADVANCE: double (nullable = true)\n",
            " |-- PURCHASES_FREQUENCY: double (nullable = true)\n",
            " |-- ONEOFF_PURCHASES_FREQUENCY: double (nullable = true)\n",
            " |-- PURCHASES_INSTALLMENTS_FREQUENCY: double (nullable = true)\n",
            " |-- CASH_ADVANCE_FREQUENCY: double (nullable = true)\n",
            " |-- CASH_ADVANCE_TRX: long (nullable = true)\n",
            " |-- PURCHASES_TRX: long (nullable = true)\n",
            " |-- CREDIT_LIMIT: double (nullable = true)\n",
            " |-- PAYMENTS: double (nullable = true)\n",
            " |-- MINIMUM_PAYMENTS: double (nullable = true)\n",
            " |-- PRC_FULL_PAYMENT: double (nullable = true)\n",
            " |-- TENURE: long (nullable = true)\n",
            "\n",
            "+-------+-----------+-----------------+---------+----------------+----------------------+------------+-------------------+--------------------------+--------------------------------+----------------------+----------------+-------------+------------+-----------+----------------+----------------+------+\n",
            "|CUST_ID|    BALANCE|BALANCE_FREQUENCY|PURCHASES|ONEOFF_PURCHASES|INSTALLMENTS_PURCHASES|CASH_ADVANCE|PURCHASES_FREQUENCY|ONEOFF_PURCHASES_FREQUENCY|PURCHASES_INSTALLMENTS_FREQUENCY|CASH_ADVANCE_FREQUENCY|CASH_ADVANCE_TRX|PURCHASES_TRX|CREDIT_LIMIT|   PAYMENTS|MINIMUM_PAYMENTS|PRC_FULL_PAYMENT|TENURE|\n",
            "+-------+-----------+-----------------+---------+----------------+----------------------+------------+-------------------+--------------------------+--------------------------------+----------------------+----------------+-------------+------------+-----------+----------------+----------------+------+\n",
            "| C10001|  40.900749|         0.818182|     95.4|             0.0|                  95.4|         0.0|           0.166667|                       0.0|                        0.083333|                   0.0|               0|            2|      1000.0| 201.802084|      139.509787|             0.0|    12|\n",
            "| C10002|3202.467416|         0.909091|      0.0|             0.0|                   0.0| 6442.945483|                0.0|                       0.0|                             0.0|                  0.25|               4|            0|      7000.0|4103.032597|     1072.340217|        0.222222|    12|\n",
            "| C10003|2495.148862|              1.0|   773.17|          773.17|                   0.0|         0.0|                1.0|                       1.0|                             0.0|                   0.0|               0|           12|      7500.0| 622.066742|      627.284787|             0.0|    12|\n",
            "| C10004|1666.670542|         0.636364|   1499.0|          1499.0|                   0.0|  205.788017|           0.083333|                  0.083333|                             0.0|              0.083333|               1|            1|      7500.0|        0.0|             0.0|             0.0|    12|\n",
            "| C10005| 817.714335|              1.0|     16.0|            16.0|                   0.0|         0.0|           0.083333|                  0.083333|                             0.0|                   0.0|               0|            1|      1200.0| 678.334763|      244.791237|             0.0|    12|\n",
            "| C10006|1809.828751|              1.0|  1333.28|             0.0|               1333.28|         0.0|           0.666667|                       0.0|                        0.583333|                   0.0|               0|            8|      1800.0| 1400.05777|     2407.246035|             0.0|    12|\n",
            "| C10007| 627.260806|              1.0|  7091.01|         6402.63|                688.38|         0.0|                1.0|                       1.0|                             1.0|                   0.0|               0|           64|     13500.0|6354.314328|      198.065894|             1.0|    12|\n",
            "| C10008|1823.652743|              1.0|    436.2|             0.0|                 436.2|         0.0|                1.0|                       0.0|                             1.0|                   0.0|               0|           12|      2300.0| 679.065082|       532.03399|             0.0|    12|\n",
            "| C10009|1014.926473|              1.0|   861.49|          661.49|                 200.0|         0.0|           0.333333|                  0.083333|                            0.25|                   0.0|               0|            5|      7000.0| 688.278568|      311.963409|             0.0|    12|\n",
            "| C10010| 152.225975|         0.545455|   1281.6|          1281.6|                   0.0|         0.0|           0.166667|                  0.166667|                             0.0|                   0.0|               0|            3|     11000.0|1164.770591|      100.302262|             0.0|    12|\n",
            "| C10011|1293.124939|              1.0|   920.12|             0.0|                920.12|         0.0|                1.0|                       0.0|                             1.0|                   0.0|               0|           12|      1200.0|1083.301007|     2172.697765|             0.0|    12|\n",
            "| C10012| 630.794744|         0.818182|  1492.18|         1492.18|                   0.0|         0.0|               0.25|                      0.25|                             0.0|                   0.0|               0|            6|      2000.0| 705.618627|      155.549069|             0.0|    12|\n",
            "| C10013| 1516.92862|              1.0|  3217.99|         2500.23|                717.76|         0.0|                1.0|                      0.25|                        0.916667|                   0.0|               0|           26|      3000.0| 608.263689|      490.207013|            0.25|    12|\n",
            "| C10014| 921.693369|              1.0|  2137.93|          419.96|               1717.97|         0.0|               0.75|                  0.166667|                            0.75|                   0.0|               0|           26|      7500.0|1655.891435|      251.137986|        0.083333|    12|\n",
            "| C10015|2772.772734|              1.0|      0.0|             0.0|                   0.0|   346.81139|                0.0|                       0.0|                             0.0|              0.083333|               1|            0|      3000.0| 805.647974|      989.962866|             0.0|    12|\n",
            "| C10016|6886.213231|              1.0|   1611.7|             0.0|                1611.7| 2301.491267|                0.5|                       0.0|                             0.5|              0.166667|               4|           11|      8000.0|1993.439277|      2109.90649|             0.0|    12|\n",
            "| C10017|2072.074354|            0.875|      0.0|             0.0|                   0.0| 2784.274703|                0.0|                       0.0|                             0.0|                  0.25|               3|            0|      3000.0| 391.974562|      376.579631|             0.0|     8|\n",
            "| C10018|  41.089489|         0.454545|    519.0|             0.0|                 519.0|         0.0|           0.416667|                       0.0|                        0.333333|                   0.0|               0|            8|      2500.0| 254.590662|       73.203221|            0.25|    12|\n",
            "| C10019|1989.072228|              1.0|   504.35|           166.0|                338.35|         0.0|           0.666667|                  0.083333|                        0.583333|                   0.0|               0|            9|     13000.0|1720.837373|      744.613395|             0.0|    12|\n",
            "| C10020|3577.970933|              1.0|   398.64|             0.0|                398.64|         0.0|                1.0|                       0.0|                             1.0|                   0.0|               0|           12|      4000.0|1053.980464|     12465.54938|             0.0|    12|\n",
            "+-------+-----------+-----------------+---------+----------------+----------------------+------------+-------------------+--------------------------+--------------------------------+----------------------+----------------+-------------+------------+-----------+----------------+----------------+------+\n",
            "only showing top 20 rows\n",
            "\n"
          ]
        }
      ]
    },
    {
      "cell_type": "markdown",
      "source": [
        "**Taking it back to Parquet**"
      ],
      "metadata": {
        "id": "5RbuOc-sw4Lq"
      }
    },
    {
      "cell_type": "code",
      "source": [
        "# HDFS \n",
        "sparkDF.write.save('big_data_Project', format='parquet')"
      ],
      "metadata": {
        "id": "vVw1Pop-wjtD"
      },
      "execution_count": null,
      "outputs": []
    },
    {
      "cell_type": "markdown",
      "source": [
        "**Reading Parquet**\n",
        "\n",
        "\n"
      ],
      "metadata": {
        "id": "vch5XSzOw7Xs"
      }
    },
    {
      "cell_type": "code",
      "source": [
        "data_test = spark.read.parquet(\"big_data_Project\") #game_stats - defining new name for storage\n",
        "#https://spark.apache.org/docs/latest/api/python/reference/api/pyspark.sql.DataFrame.html (spark dataframe)"
      ],
      "metadata": {
        "id": "fIyZOe9rwkeq"
      },
      "execution_count": null,
      "outputs": []
    },
    {
      "cell_type": "markdown",
      "source": [
        "# **Machine Learning in Pyspark**\n",
        "\n",
        "Machine Learning Library (SPark) - MLlib\n",
        "\n",
        "The pandas Scikit-learn used for machine learning is great, however it does not scale to large data sets in a distributed environment.\n",
        "\n",
        "This notebook considers these ML Approaches;\n",
        "\n",
        "1. **Supervised Learning with Pyspark**: \n",
        "\n",
        "  > **Regression Model** (Linear)\n",
        "\n",
        "  > **Classification Model** (Logistic Regression)\n",
        "\n",
        "2. **Unspervised Learning with Pyspark**\n",
        "\n",
        "  > **Clustering** (Bisecting  K-means) etc\n",
        "\n",
        "\n",
        "\n",
        "---\n",
        "The steps to building and using a machine learning model are:\n",
        "\n",
        "\n",
        "* **Define/Algorithm Selection**: What type of model will it be? A linear regression? Some other type of model? Some other parameters of the model type are specified too.\n",
        "\n",
        "* **Fit:** Capture patterns from provided data. This is the heart of modeling.\n",
        "\n",
        "* **Predict:** Test your model and predict\n",
        "\n",
        "* **Evaluate:** Determine how accurate the model's predictions are.\n",
        "\n"
      ],
      "metadata": {
        "id": "DSi1aTXXnr0q"
      }
    },
    {
      "cell_type": "markdown",
      "source": [
        "In order to use **one of the supervised algorithms in MLlib, we need to set up our dataframe with a vector of features and a label as a scalar.** Once done, I can use the fit function to train the model. "
      ],
      "metadata": {
        "id": "8SWrO1GapBod"
      }
    },
    {
      "cell_type": "markdown",
      "source": [
        "## **Linear Regression Model**"
      ],
      "metadata": {
        "id": "Btw9PykarK2D"
      }
    },
    {
      "cell_type": "code",
      "source": [
        "#MLlib imports \n",
        "#dependencies\n",
        "from pyspark.ml.feature import VectorAssembler\n",
        "from pyspark.ml.regression import LinearRegression"
      ],
      "metadata": {
        "id": "BuAJE5NqoFNA"
      },
      "execution_count": null,
      "outputs": []
    },
    {
      "cell_type": "markdown",
      "source": [
        "**Handling Missing Values with Pyspark**"
      ],
      "metadata": {
        "id": "8ggpJSsVV4p4"
      }
    },
    {
      "cell_type": "code",
      "source": [
        "### Get count of both null and missing values in pyspark\n",
        "\n",
        "from pyspark.sql.functions import isnan, when, count, col\n",
        "\n",
        "data_test.select([count(when(isnan(c) | col(c).isNull(), c)).alias(c) for c in data_test.columns]).show()"
      ],
      "metadata": {
        "colab": {
          "base_uri": "https://localhost:8080/"
        },
        "outputId": "88e8c0a6-8628-4707-d084-669b77174e44",
        "id": "7I8vnm3yjtAT"
      },
      "execution_count": null,
      "outputs": [
        {
          "output_type": "stream",
          "name": "stdout",
          "text": [
            "+-------+-------+-----------------+---------+----------------+----------------------+------------+-------------------+--------------------------+--------------------------------+----------------------+----------------+-------------+------------+--------+----------------+----------------+------+\n",
            "|CUST_ID|BALANCE|BALANCE_FREQUENCY|PURCHASES|ONEOFF_PURCHASES|INSTALLMENTS_PURCHASES|CASH_ADVANCE|PURCHASES_FREQUENCY|ONEOFF_PURCHASES_FREQUENCY|PURCHASES_INSTALLMENTS_FREQUENCY|CASH_ADVANCE_FREQUENCY|CASH_ADVANCE_TRX|PURCHASES_TRX|CREDIT_LIMIT|PAYMENTS|MINIMUM_PAYMENTS|PRC_FULL_PAYMENT|TENURE|\n",
            "+-------+-------+-----------------+---------+----------------+----------------------+------------+-------------------+--------------------------+--------------------------------+----------------------+----------------+-------------+------------+--------+----------------+----------------+------+\n",
            "|      0|      0|                0|        0|               0|                     0|           0|                  0|                         0|                               0|                     0|               0|            0|           0|       0|               0|               0|     0|\n",
            "+-------+-------+-----------------+---------+----------------+----------------------+------------+-------------------+--------------------------+--------------------------------+----------------------+----------------+-------------+------------+--------+----------------+----------------+------+\n",
            "\n"
          ]
        }
      ]
    },
    {
      "cell_type": "code",
      "source": [
        "data_test.columns #to determine X features for our linear regression prediction"
      ],
      "metadata": {
        "colab": {
          "base_uri": "https://localhost:8080/"
        },
        "id": "zKGW91KHSJr5",
        "outputId": "a1639de3-3359-481b-eadd-5ed2c5e0e6e9"
      },
      "execution_count": null,
      "outputs": [
        {
          "output_type": "execute_result",
          "data": {
            "text/plain": [
              "['CUST_ID',\n",
              " 'BALANCE',\n",
              " 'BALANCE_FREQUENCY',\n",
              " 'PURCHASES',\n",
              " 'ONEOFF_PURCHASES',\n",
              " 'INSTALLMENTS_PURCHASES',\n",
              " 'CASH_ADVANCE',\n",
              " 'PURCHASES_FREQUENCY',\n",
              " 'ONEOFF_PURCHASES_FREQUENCY',\n",
              " 'PURCHASES_INSTALLMENTS_FREQUENCY',\n",
              " 'CASH_ADVANCE_FREQUENCY',\n",
              " 'CASH_ADVANCE_TRX',\n",
              " 'PURCHASES_TRX',\n",
              " 'CREDIT_LIMIT',\n",
              " 'PAYMENTS',\n",
              " 'MINIMUM_PAYMENTS',\n",
              " 'PRC_FULL_PAYMENT',\n",
              " 'TENURE']"
            ]
          },
          "metadata": {},
          "execution_count": 33
        }
      ]
    },
    {
      "cell_type": "markdown",
      "source": [
        "#### **Feature Selection:** \n",
        "\n",
        "`CUST_ID, BALANCE, PURCHASES, ONEOFF_PURCHASES, CREDIT_LIMIT, MINIMUM_PAYMENTS` (their index)\n",
        "\n",
        "**Target (Y)** is `Payments` (to predict payments per user)\n"
      ],
      "metadata": {
        "id": "zXI1SUAUSaYn"
      }
    },
    {
      "cell_type": "markdown",
      "source": [
        "### **PS**: **Confirm Data Types**\n",
        "\n",
        "**VectorAssembler Transformer does not take strings**\n",
        "\n",
        "**Vector Assembler** is a transformer that assembles all the features into one vector from multiple columns that contain type double. \n",
        "\n",
        "We will use a **StringIndexer** if any of the columns contains string values to convert it into *numeric values*"
      ],
      "metadata": {
        "id": "UyDCsPKWv3ZH"
      }
    },
    {
      "cell_type": "markdown",
      "source": [
        "### **Using the String Indexer to Convert (String to Numeric)**\n",
        "\n",
        "\n",
        "*'The best way that I've found to do it is to combine several StringIndex on a list and use a Pipeline to execute them all':* https://stackoverflow.com/questions/36942233/apply-stringindexer-to-several-columns-in-a-pyspark-dataframe"
      ],
      "metadata": {
        "id": "jtKbK2L6TThA"
      }
    },
    {
      "cell_type": "code",
      "source": [
        "from pyspark.ml import Pipeline\n",
        "from pyspark.ml.feature import StringIndexer\n",
        "\n",
        "indexers = [StringIndexer(inputCol=column, outputCol=column+\"_index\").fit(data_test) for column in list(set(data_test.columns)-set(['index'])) ]\n",
        "\n",
        "\n",
        "pipeline = Pipeline(stages=indexers)\n",
        "df_r = pipeline.fit(data_test).transform(data_test)\n",
        "\n",
        "df_r.show()"
      ],
      "metadata": {
        "colab": {
          "base_uri": "https://localhost:8080/"
        },
        "id": "hWw148sbUqrs",
        "outputId": "5b9ff340-13ba-4f66-bf73-cd6c509b5d4b"
      },
      "execution_count": null,
      "outputs": [
        {
          "output_type": "stream",
          "name": "stdout",
          "text": [
            "+-------+-----------+-----------------+---------+----------------+----------------------+------------+-------------------+--------------------------+--------------------------------+----------------------+----------------+-------------+------------+-----------+----------------+----------------+------+--------------------------------+------------------+--------------------------------------+------------------+-------------------+-------------+----------------------+----------------------+-------------+----------------------+----------------------------+---------------+-----------------------+-------------------------+--------------+----------------------+----------------------------+------------+\n",
            "|CUST_ID|    BALANCE|BALANCE_FREQUENCY|PURCHASES|ONEOFF_PURCHASES|INSTALLMENTS_PURCHASES|CASH_ADVANCE|PURCHASES_FREQUENCY|ONEOFF_PURCHASES_FREQUENCY|PURCHASES_INSTALLMENTS_FREQUENCY|CASH_ADVANCE_FREQUENCY|CASH_ADVANCE_TRX|PURCHASES_TRX|CREDIT_LIMIT|   PAYMENTS|MINIMUM_PAYMENTS|PRC_FULL_PAYMENT|TENURE|ONEOFF_PURCHASES_FREQUENCY_index|CASH_ADVANCE_index|PURCHASES_INSTALLMENTS_FREQUENCY_index|CREDIT_LIMIT_index|PURCHASES_TRX_index|CUST_ID_index|CASH_ADVANCE_TRX_index|MINIMUM_PAYMENTS_index|BALANCE_index|PRC_FULL_PAYMENT_index|INSTALLMENTS_PURCHASES_index|PURCHASES_index|BALANCE_FREQUENCY_index|PURCHASES_FREQUENCY_index|PAYMENTS_index|ONEOFF_PURCHASES_index|CASH_ADVANCE_FREQUENCY_index|TENURE_index|\n",
            "+-------+-----------+-----------------+---------+----------------+----------------------+------------+-------------------+--------------------------+--------------------------------+----------------------+----------------+-------------+------------+-----------+----------------+----------------+------+--------------------------------+------------------+--------------------------------------+------------------+-------------------+-------------+----------------------+----------------------+-------------+----------------------+----------------------------+---------------+-----------------------+-------------------------+--------------+----------------------+----------------------------+------------+\n",
            "| C14212| 105.069311|              1.0|  1344.87|         1344.87|                   0.0|         0.0|           0.916667|                  0.916667|                             0.0|                   0.0|               0|           12|      1700.0|1461.200691|      176.308343|            0.25|    12|                            10.0|               0.0|                                   0.0|              24.0|                2.0|       4096.0|                   0.0|                2676.0|        293.0|                   4.0|                         0.0|         1113.0|                    0.0|                      3.0|        1433.0|                 776.0|                         0.0|         0.0|\n",
            "| C14213|2446.709596|              1.0|      0.0|             0.0|                   0.0| 5281.049743|                0.0|                       0.0|                             0.0|                  0.25|               6|            0|      5000.0|5695.396335|      696.156899|             0.0|    12|                             0.0|            3241.0|                                   0.0|               7.0|                0.0|       4097.0|                   6.0|                7459.0|       3732.0|                   0.0|                         0.0|            0.0|                    0.0|                      1.0|        6606.0|                   0.0|                         3.0|         0.0|\n",
            "| C14214| 295.374207|         0.909091|      0.0|             0.0|                   0.0| 2032.983385|                0.0|                       0.0|                             0.0|                  0.25|               4|            0|      1200.0|2781.869782|      174.631958|             0.0|    12|                             0.0|            1395.0|                                   0.0|               2.0|                0.0|       4098.0|                   4.0|                2592.0|       4459.0|                   0.0|                         0.0|            0.0|                    1.0|                      1.0|        3829.0|                   0.0|                         3.0|         0.0|\n",
            "| C14215| 822.755885|              1.0|   531.14|          359.24|                 171.9|         0.0|                1.0|                  0.428571|                        0.571429|                   0.0|               0|           10|      3000.0| 267.707871|      117.131173|             0.0|     7|                            29.0|               0.0|                                  33.0|               0.0|               12.0|       4099.0|                   0.0|                 532.0|       8133.0|                   0.0|                       151.0|         4643.0|                    0.0|                      0.0|        3675.0|                2380.0|                         0.0|         5.0|\n",
            "| C14216|4433.582508|              1.0|      0.0|             0.0|                   0.0| 1434.153185|                0.0|                       0.0|                             0.0|              0.416667|               9|            0|      5500.0|6801.553821|     1209.064809|        0.083333|    12|                             0.0|             653.0|                                   0.0|              20.0|                0.0|       4100.0|                  10.0|                 640.0|       5930.0|                   2.0|                         0.0|            0.0|                    0.0|                      1.0|        7305.0|                   0.0|                         5.0|         0.0|\n",
            "| C14217|2785.584338|              1.0|      0.0|             0.0|                   0.0|  144.330518|                0.0|                       0.0|                             0.0|                   0.1|               1|            0|      3000.0| 446.776969|       733.62973|             0.0|    10|                             0.0|             668.0|                                   0.0|               0.0|                0.0|       4101.0|                   1.0|                7621.0|       4223.0|                   0.0|                         0.0|            0.0|                    0.0|                      1.0|        5658.0|                   0.0|                        15.0|         2.0|\n",
            "| C14218|10116.70899|              1.0| 10166.69|          3300.0|               6866.69|         0.0|           0.833333|                  0.333333|                        0.666667|                   0.0|               0|           45|     14000.0|2190.466875|     4253.469898|             0.0|    12|                             5.0|               0.0|                                   7.0|              32.0|               47.0|       4102.0|                   0.0|                5996.0|        170.0|                   0.0|                      3765.0|          390.0|                    0.0|                      6.0|        2974.0|                2253.0|                         0.0|         0.0|\n",
            "| C14219|9440.796576|              1.0|      0.0|             0.0|                   0.0|    5831.378|                0.0|                       0.0|                             0.0|              0.666667|              13|            0|     13000.0|2031.387858|     2432.132089|             0.0|    12|                             0.0|            3415.0|                                   0.0|              27.0|                0.0|       4103.0|                  13.0|                4338.0|       8650.0|                   0.0|                         0.0|            0.0|                    0.0|                      1.0|        2693.0|                   0.0|                         8.0|         0.0|\n",
            "| C14220|1435.975897|              1.0|   418.56|          418.56|                   0.0|         0.0|           0.333333|                  0.333333|                             0.0|                   0.0|               0|            4|      2150.0| 950.209773|      466.163755|             0.0|    12|                             5.0|               0.0|                                   0.0|              94.0|                6.0|       4104.0|                   0.0|                6282.0|       1637.0|                   0.0|                         0.0|         4003.0|                    0.0|                      7.0|        8537.0|                2611.0|                         0.0|         0.0|\n",
            "| C14221|1160.514847|              1.0|  3726.79|           664.0|               3062.79|         0.0|                1.0|                  0.083333|                             1.0|                   0.0|               0|           89|      3000.0|3312.651656|      310.179028|        0.083333|    12|                             1.0|               0.0|                                   1.0|               0.0|              131.0|       4105.0|                   0.0|                5134.0|        761.0|                   2.0|                      2304.0|         3721.0|                    0.0|                      0.0|        4529.0|                3323.0|                         0.0|         0.0|\n",
            "| C14222| 634.759973|              1.0|    19.91|             0.0|                 19.91|         0.0|           0.083333|                       0.0|                        0.083333|                   0.0|               0|            1|      6000.0| 610.491342|      246.804668|             0.0|    12|                             0.0|               0.0|                                   9.0|               6.0|                1.0|       4106.0|                   0.0|                4369.0|       7211.0|                   0.0|                      1505.0|         1982.0|                    0.0|                      2.0|        6909.0|                   0.0|                         0.0|         0.0|\n",
            "| C14223|  45.785125|         0.636364|     12.0|             0.0|                  12.0|  166.160258|                1.0|                       0.0|                        0.916667|              0.083333|               3|           12|      1200.0|  39.556692|       46.550149|             0.0|    12|                             0.0|             927.0|                                   3.0|               2.0|                2.0|       4107.0|                   3.0|                6248.0|       5993.0|                   0.0|                       678.0|          131.0|                    5.0|                      0.0|        5147.0|                   0.0|                         1.0|         0.0|\n",
            "| C14224| 968.504914|              1.0|   257.71|           45.65|                212.06|         0.0|           0.166667|                  0.083333|                        0.166667|                   0.0|               0|            4|      1000.0| 623.314494|      842.242726|             0.0|    12|                             1.0|               0.0|                                   6.0|               3.0|                6.0|       4108.0|                   0.0|                8047.0|       8737.0|                   0.0|                      1691.0|         2755.0|                    0.0|                      5.0|        6989.0|                   1.0|                         0.0|         0.0|\n",
            "| C14225| 200.806352|              1.0|  1957.45|         1799.14|                158.31|         0.0|                1.0|                       1.0|                        0.166667|                   0.0|               0|           49|      6000.0|1934.825977|      193.934077|            0.75|    12|                             3.0|               0.0|                                   6.0|               6.0|               48.0|       4109.0|                   0.0|                3391.0|       3019.0|                  13.0|                      1159.0|         2052.0|                    0.0|                      0.0|        2509.0|                1271.0|                         0.0|         0.0|\n",
            "| C14226|1634.559235|              1.0|  1062.94|         1006.18|                 56.76|         0.0|           0.583333|                       0.5|                        0.166667|                   0.0|               0|           15|      1800.0| 584.660133|     1332.692469|             0.0|    12|                             7.0|               0.0|                                   6.0|              13.0|               17.0|       4110.0|                   0.0|                1064.0|       2199.0|                   0.0|                      3385.0|          506.0|                    0.0|                      9.0|        6718.0|                 253.0|                         0.0|         0.0|\n",
            "| C14227|1839.926709|              1.0|   487.75|             0.0|                487.75|  266.614527|                0.5|                       0.0|                        0.416667|              0.083333|               1|            9|      3500.0| 791.115227|      385.482464|             0.0|    12|                             0.0|            1878.0|                                   2.0|              14.0|               10.0|       4111.0|                   1.0|                5708.0|       2641.0|                   0.0|                      3148.0|         4417.0|                    0.0|                      4.0|        7890.0|                   0.0|                         1.0|         0.0|\n",
            "| C14228|6743.313868|              1.0|  5591.26|          1770.5|               3820.76| 1074.347669|                1.0|                       1.0|                             1.0|                  0.25|               4|          162|      9500.0|2314.208069|     1682.939354|             0.0|    12|                             3.0|             130.0|                                   1.0|              21.0|              126.0|       4112.0|                   4.0|                2301.0|       7399.0|                   0.0|                      2686.0|         4776.0|                    0.0|                      0.0|        3170.0|                1244.0|                         3.0|         0.0|\n",
            "| C14229|1267.054186|              1.0|      0.0|             0.0|                   0.0| 1253.614385|                0.0|                       0.0|                             0.0|              0.166667|               8|            0|      1500.0| 209.297618|      470.721288|             0.0|    12|                             0.0|             414.0|                                   0.0|               1.0|                0.0|       4113.0|                   8.0|                6320.0|       1117.0|                   0.0|                         0.0|            0.0|                    0.0|                      1.0|        2795.0|                   0.0|                         2.0|         0.0|\n",
            "| C14230|2778.737121|              1.0|   1973.0|          1973.0|                   0.0|         0.0|           0.166667|                  0.166667|                             0.0|                   0.0|               0|            2|      6500.0| 630.766685|      728.216731|             0.0|    12|                             2.0|               0.0|                                   0.0|              12.0|                3.0|       4114.0|                   0.0|                7595.0|       4217.0|                   0.0|                         0.0|          174.0|                    0.0|                      5.0|        7029.0|                1406.0|                         0.0|         0.0|\n",
            "| C14231|1138.592025|              1.0|   327.99|          248.99|                  79.0|         0.0|           0.333333|                      0.25|                        0.166667|                   0.0|               0|            9|      1200.0| 559.386373|      902.962826|             0.0|    12|                             4.0|               0.0|                                   6.0|               2.0|               10.0|       4115.0|                   0.0|                8288.0|        679.0|                   0.0|                        54.0|         3385.0|                    0.0|                      7.0|        6528.0|                1794.0|                         0.0|         0.0|\n",
            "+-------+-----------+-----------------+---------+----------------+----------------------+------------+-------------------+--------------------------+--------------------------------+----------------------+----------------+-------------+------------+-----------+----------------+----------------+------+--------------------------------+------------------+--------------------------------------+------------------+-------------------+-------------+----------------------+----------------------+-------------+----------------------+----------------------------+---------------+-----------------------+-------------------------+--------------+----------------------+----------------------------+------------+\n",
            "only showing top 20 rows\n",
            "\n"
          ]
        }
      ]
    },
    {
      "cell_type": "code",
      "source": [
        "df_r.columns"
      ],
      "metadata": {
        "colab": {
          "base_uri": "https://localhost:8080/"
        },
        "id": "oO3OAc-nXf9l",
        "outputId": "8675d66f-67d5-496e-b0e1-488dd0128784"
      },
      "execution_count": null,
      "outputs": [
        {
          "output_type": "execute_result",
          "data": {
            "text/plain": [
              "['CUST_ID',\n",
              " 'BALANCE',\n",
              " 'BALANCE_FREQUENCY',\n",
              " 'PURCHASES',\n",
              " 'ONEOFF_PURCHASES',\n",
              " 'INSTALLMENTS_PURCHASES',\n",
              " 'CASH_ADVANCE',\n",
              " 'PURCHASES_FREQUENCY',\n",
              " 'ONEOFF_PURCHASES_FREQUENCY',\n",
              " 'PURCHASES_INSTALLMENTS_FREQUENCY',\n",
              " 'CASH_ADVANCE_FREQUENCY',\n",
              " 'CASH_ADVANCE_TRX',\n",
              " 'PURCHASES_TRX',\n",
              " 'CREDIT_LIMIT',\n",
              " 'PAYMENTS',\n",
              " 'MINIMUM_PAYMENTS',\n",
              " 'PRC_FULL_PAYMENT',\n",
              " 'TENURE',\n",
              " 'ONEOFF_PURCHASES_FREQUENCY_index',\n",
              " 'CASH_ADVANCE_index',\n",
              " 'PURCHASES_INSTALLMENTS_FREQUENCY_index',\n",
              " 'CREDIT_LIMIT_index',\n",
              " 'PURCHASES_TRX_index',\n",
              " 'CUST_ID_index',\n",
              " 'CASH_ADVANCE_TRX_index',\n",
              " 'MINIMUM_PAYMENTS_index',\n",
              " 'BALANCE_index',\n",
              " 'PRC_FULL_PAYMENT_index',\n",
              " 'INSTALLMENTS_PURCHASES_index',\n",
              " 'PURCHASES_index',\n",
              " 'BALANCE_FREQUENCY_index',\n",
              " 'PURCHASES_FREQUENCY_index',\n",
              " 'PAYMENTS_index',\n",
              " 'ONEOFF_PURCHASES_index',\n",
              " 'CASH_ADVANCE_FREQUENCY_index',\n",
              " 'TENURE_index']"
            ]
          },
          "metadata": {},
          "execution_count": 37
        }
      ]
    },
    {
      "cell_type": "code",
      "source": [
        "print((df_r.count(), len(df_r.columns))) #to get shape of a pyspark dataframe"
      ],
      "metadata": {
        "colab": {
          "base_uri": "https://localhost:8080/"
        },
        "id": "bV1ZSaaNX7pe",
        "outputId": "a36d0581-6f77-477b-ea44-33644093bd0d"
      },
      "execution_count": null,
      "outputs": [
        {
          "output_type": "stream",
          "name": "stdout",
          "text": [
            "(8950, 36)\n"
          ]
        }
      ]
    },
    {
      "cell_type": "code",
      "source": [
        "df_r.printSchema()"
      ],
      "metadata": {
        "colab": {
          "base_uri": "https://localhost:8080/"
        },
        "id": "bEONSlZeXsbq",
        "outputId": "b99f3a81-9cb1-4cad-8217-66aa9090eb91"
      },
      "execution_count": null,
      "outputs": [
        {
          "output_type": "stream",
          "name": "stdout",
          "text": [
            "root\n",
            " |-- CUST_ID: string (nullable = true)\n",
            " |-- BALANCE: double (nullable = true)\n",
            " |-- BALANCE_FREQUENCY: double (nullable = true)\n",
            " |-- PURCHASES: double (nullable = true)\n",
            " |-- ONEOFF_PURCHASES: double (nullable = true)\n",
            " |-- INSTALLMENTS_PURCHASES: double (nullable = true)\n",
            " |-- CASH_ADVANCE: double (nullable = true)\n",
            " |-- PURCHASES_FREQUENCY: double (nullable = true)\n",
            " |-- ONEOFF_PURCHASES_FREQUENCY: double (nullable = true)\n",
            " |-- PURCHASES_INSTALLMENTS_FREQUENCY: double (nullable = true)\n",
            " |-- CASH_ADVANCE_FREQUENCY: double (nullable = true)\n",
            " |-- CASH_ADVANCE_TRX: long (nullable = true)\n",
            " |-- PURCHASES_TRX: long (nullable = true)\n",
            " |-- CREDIT_LIMIT: double (nullable = true)\n",
            " |-- PAYMENTS: double (nullable = true)\n",
            " |-- MINIMUM_PAYMENTS: double (nullable = true)\n",
            " |-- PRC_FULL_PAYMENT: double (nullable = true)\n",
            " |-- TENURE: long (nullable = true)\n",
            " |-- ONEOFF_PURCHASES_FREQUENCY_index: double (nullable = false)\n",
            " |-- CASH_ADVANCE_index: double (nullable = false)\n",
            " |-- PURCHASES_INSTALLMENTS_FREQUENCY_index: double (nullable = false)\n",
            " |-- CREDIT_LIMIT_index: double (nullable = false)\n",
            " |-- PURCHASES_TRX_index: double (nullable = false)\n",
            " |-- CUST_ID_index: double (nullable = false)\n",
            " |-- CASH_ADVANCE_TRX_index: double (nullable = false)\n",
            " |-- MINIMUM_PAYMENTS_index: double (nullable = false)\n",
            " |-- BALANCE_index: double (nullable = false)\n",
            " |-- PRC_FULL_PAYMENT_index: double (nullable = false)\n",
            " |-- INSTALLMENTS_PURCHASES_index: double (nullable = false)\n",
            " |-- PURCHASES_index: double (nullable = false)\n",
            " |-- BALANCE_FREQUENCY_index: double (nullable = false)\n",
            " |-- PURCHASES_FREQUENCY_index: double (nullable = false)\n",
            " |-- PAYMENTS_index: double (nullable = false)\n",
            " |-- ONEOFF_PURCHASES_index: double (nullable = false)\n",
            " |-- CASH_ADVANCE_FREQUENCY_index: double (nullable = false)\n",
            " |-- TENURE_index: double (nullable = false)\n",
            "\n"
          ]
        }
      ]
    },
    {
      "cell_type": "markdown",
      "source": [
        "## **Data Preparation for Linear Regression Model**"
      ],
      "metadata": {
        "id": "f4DBDuC9ODoj"
      }
    },
    {
      "cell_type": "code",
      "source": [
        "#Input all the features in one vector column\n",
        "\n",
        "#using df_r dataframe\n",
        "\n",
        "assembler = VectorAssembler(inputCols=['CUST_ID_index', 'BALANCE_index', 'PURCHASES_index', \n",
        "    'ONEOFF_PURCHASES_index', 'CREDIT_LIMIT_index', 'TENURE_index'], outputCol = 'Attributes')\n",
        "\n",
        "result = assembler.transform(df_r) \n",
        "# same as  - train_dataset = assembler.transform(dataset)\n",
        "\n",
        "#Input vs Output\n",
        "final_data = result.select(\"Attributes\",\"PAYMENTS\")\n",
        "\n",
        "final_data.show()"
      ],
      "metadata": {
        "id": "xKv12K5Opbq-",
        "colab": {
          "base_uri": "https://localhost:8080/"
        },
        "outputId": "c33bfb51-5e82-49c9-a989-aaf1e5ba7eeb"
      },
      "execution_count": null,
      "outputs": [
        {
          "output_type": "stream",
          "name": "stdout",
          "text": [
            "+--------------------+-----------+\n",
            "|          Attributes|   PAYMENTS|\n",
            "+--------------------+-----------+\n",
            "|[4096.0,293.0,111...|1461.200691|\n",
            "|[4097.0,3732.0,0....|5695.396335|\n",
            "|[4098.0,4459.0,0....|2781.869782|\n",
            "|[4099.0,8133.0,46...| 267.707871|\n",
            "|[4100.0,5930.0,0....|6801.553821|\n",
            "|[4101.0,4223.0,0....| 446.776969|\n",
            "|[4102.0,170.0,390...|2190.466875|\n",
            "|[4103.0,8650.0,0....|2031.387858|\n",
            "|[4104.0,1637.0,40...| 950.209773|\n",
            "|[4105.0,761.0,372...|3312.651656|\n",
            "|[4106.0,7211.0,19...| 610.491342|\n",
            "|[4107.0,5993.0,13...|  39.556692|\n",
            "|[4108.0,8737.0,27...| 623.314494|\n",
            "|[4109.0,3019.0,20...|1934.825977|\n",
            "|[4110.0,2199.0,50...| 584.660133|\n",
            "|[4111.0,2641.0,44...| 791.115227|\n",
            "|[4112.0,7399.0,47...|2314.208069|\n",
            "|[4113.0,1117.0,0....| 209.297618|\n",
            "|[4114.0,4217.0,17...| 630.766685|\n",
            "|[4115.0,679.0,338...| 559.386373|\n",
            "+--------------------+-----------+\n",
            "only showing top 20 rows\n",
            "\n"
          ]
        }
      ]
    },
    {
      "cell_type": "markdown",
      "source": [
        "`Attributes` are the **input features** (X) from all the columns and `PAYMENTS` is the target column. \n",
        "\n",
        "Let's split the **training** and **testing data** according to our dataset (0.75 and 0.25)"
      ],
      "metadata": {
        "id": "tTHLQK8BZ0LS"
      }
    },
    {
      "cell_type": "markdown",
      "source": [
        "### **Model Training & Dataset Split**"
      ],
      "metadata": {
        "id": "4bt59ghsOLCv"
      }
    },
    {
      "cell_type": "code",
      "source": [
        "#Split training and testing data\n",
        "train_data,test_data = final_data.randomSplit([0.75,0.25])\n",
        "\n",
        "\n",
        "regressor = LinearRegression(featuresCol = 'Attributes', labelCol = 'PAYMENTS')\n",
        "\n",
        "#Learn to fit the model from training set\n",
        "regressor_model = regressor.fit(train_data)\n",
        "\n",
        "#To predict the prices on testing set\n",
        "reg_pred = regressor_model.evaluate(test_data)\n",
        "\n",
        "#Predict the model\n",
        "reg_pred.predictions.show()"
      ],
      "metadata": {
        "colab": {
          "base_uri": "https://localhost:8080/"
        },
        "id": "qCuyTWynZ8sb",
        "outputId": "c8487dab-3c93-476a-bfd8-a4803c3bac1b"
      },
      "execution_count": null,
      "outputs": [
        {
          "output_type": "stream",
          "name": "stdout",
          "text": [
            "+--------------------+-----------+------------------+\n",
            "|          Attributes|   PAYMENTS|        prediction|\n",
            "+--------------------+-----------+------------------+\n",
            "|(6,[0,1],[4191.0,...| 1282.18451| 1548.734138244636|\n",
            "|(6,[0,1],[4377.0,...| 540.703321| 1178.824432439429|\n",
            "|(6,[0,1],[4571.0,...| 810.389383|1363.6499219758477|\n",
            "|(6,[0,1],[4953.0,...| 180.865117| 1549.400150463565|\n",
            "|(6,[0,1],[5045.0,...|1809.765794| 1275.999536260399|\n",
            "|(6,[0,1],[5180.0,...|        0.0| 1196.911614154033|\n",
            "|(6,[0,1],[5184.0,...| 636.224436|1190.6255869087408|\n",
            "|(6,[0,1],[5323.0,...| 442.578729|1146.4927447974444|\n",
            "|(6,[0,1],[5594.0,...|3585.134646|1259.3788010661892|\n",
            "|(6,[0,1],[5628.0,...|        0.0|1340.2231932896136|\n",
            "|(6,[0,1],[5684.0,...|3489.163639| 1039.559268260854|\n",
            "|(6,[0,1],[5933.0,...| 2644.30567|1015.4386878395787|\n",
            "|(6,[0,1],[6674.0,...| 547.687792| 951.1829159281558|\n",
            "|(6,[0,1],[7056.0,...| 859.631936| 908.7839830783461|\n",
            "|(6,[0,1],[7105.0,...| 592.958317|1004.7636824705899|\n",
            "|(6,[0,1],[7108.0,...| 276.975673|1172.6777247770874|\n",
            "|(6,[0,1],[7297.0,...| 341.938368| 772.0922538001406|\n",
            "|(6,[0,1],[8041.0,...| 949.675235| 903.4382159105758|\n",
            "|(6,[0,1],[8409.0,...|  357.29622| 958.2618345830479|\n",
            "|(6,[0,1],[8464.0,...| 682.485692|  1090.60367555968|\n",
            "+--------------------+-----------+------------------+\n",
            "only showing top 20 rows\n",
            "\n"
          ]
        }
      ]
    },
    {
      "cell_type": "code",
      "source": [
        "regressor_model.summary"
      ],
      "metadata": {
        "colab": {
          "base_uri": "https://localhost:8080/"
        },
        "id": "LpyU0WwkcX-z",
        "outputId": "c8fc7532-71a8-4828-c215-989e3842b443"
      },
      "execution_count": null,
      "outputs": [
        {
          "output_type": "execute_result",
          "data": {
            "text/plain": [
              "<pyspark.ml.regression.LinearRegressionTrainingSummary at 0x7f4f86acb8d0>"
            ]
          },
          "metadata": {},
          "execution_count": 43
        }
      ]
    },
    {
      "metadata": {
        "id": "Y3vYyp5dwOm_"
      },
      "cell_type": "markdown",
      "source": [
        "We can also print the **coefficient** and **intercept** of the regression model by using the following command:"
      ]
    },
    {
      "cell_type": "code",
      "source": [
        "#coefficient of the regression model\n",
        "coeff = regressor_model.coefficients\n",
        "\n",
        "#X and Y intercept\n",
        "intr = regressor_model.intercept\n",
        "\n",
        "print (\"The coefficient of the model is : %a\" %coeff)\n",
        "print (\"The Intercept of the model is : %f\" %intr)"
      ],
      "metadata": {
        "colab": {
          "base_uri": "https://localhost:8080/"
        },
        "id": "Z7gKGtqYcqbp",
        "outputId": "fbd5979c-a2a6-4831-827d-72b7901d5715"
      },
      "execution_count": null,
      "outputs": [
        {
          "output_type": "stream",
          "name": "stdout",
          "text": [
            "The coefficient of the model is : DenseVector([-0.1355, 0.0645, -0.032, 0.2709, 21.0484, -149.6501])\n",
            "The Intercept of the model is : 1706.034015\n"
          ]
        }
      ]
    },
    {
      "metadata": {
        "id": "bYORz3Q9wTSW"
      },
      "cell_type": "markdown",
      "source": [
        "### **Model Evaluation**\n",
        "\n",
        "Once we are done with the basic linear regression operation, we can go a bit further and analyze our model statistically by importing RegressionEvaluator module from Pyspark."
      ]
    },
    {
      "metadata": {
        "id": "8qrQdEj62ptt",
        "outputId": "12f17cff-b3f7-4fac-fe5f-f60be4f6ffee",
        "colab": {
          "base_uri": "https://localhost:8080/"
        }
      },
      "cell_type": "code",
      "source": [
        "from pyspark.ml.evaluation import RegressionEvaluator\n",
        "eval = RegressionEvaluator(labelCol=\"PAYMENTS\", predictionCol=\"prediction\", metricName=\"rmse\")\n",
        "\n",
        "# Root Mean Square Error\n",
        "rmse = eval.evaluate(reg_pred.predictions)\n",
        "print(\"RMSE: %.3f\" % rmse)\n",
        "\n",
        "# Mean Square Error\n",
        "mse = eval.evaluate(reg_pred.predictions, {eval.metricName: \"mse\"})\n",
        "print(\"MSE: %.3f\" % mse)\n",
        "\n",
        "# Mean Absolute Error\n",
        "mae = eval.evaluate(reg_pred.predictions, {eval.metricName: \"mae\"})\n",
        "print(\"MAE: %.3f\" % mae)\n",
        "\n",
        "# r2 - coefficient of determination\n",
        "r2 = eval.evaluate(reg_pred.predictions, {eval.metricName: \"r2\"})\n",
        "print(\"r2: %.3f\" %r2)\n",
        "\n"
      ],
      "execution_count": null,
      "outputs": [
        {
          "output_type": "stream",
          "name": "stdout",
          "text": [
            "RMSE: 2199.891\n",
            "MSE: 4839520.551\n",
            "MAE: 1363.926\n",
            "r2: 0.077\n"
          ]
        }
      ]
    },
    {
      "cell_type": "markdown",
      "source": [
        "## **Classification Model with Pyspark**\n",
        "\n",
        "Data source: df_r"
      ],
      "metadata": {
        "id": "pmoaet6EgKHg"
      }
    },
    {
      "cell_type": "markdown",
      "source": [
        "**Data Transformation**\n",
        "\n",
        "Getting our label data & target column"
      ],
      "metadata": {
        "id": "fOQhVojdUZeC"
      }
    },
    {
      "cell_type": "code",
      "source": [
        "# we use a fucntion to creat a new column called target\n",
        "#https://towardsdatascience.com/5-ways-to-add-a-new-column-in-a-pyspark-dataframe-4e75c2fd8c08"
      ],
      "metadata": {
        "id": "eW3k2lAHWVNN"
      },
      "execution_count": null,
      "outputs": []
    },
    {
      "cell_type": "code",
      "source": [
        "from pyspark.sql import functions as f\n",
        "xy = data_test.withColumn('label', f.when(f.col('PURCHASES_FREQUENCY') > 0.5, \"Yes\").otherwise(\"No\"))\n",
        "# I can also say \"True of False\""
      ],
      "metadata": {
        "id": "v0nupAO5L8YH"
      },
      "execution_count": null,
      "outputs": []
    },
    {
      "cell_type": "code",
      "source": [
        "xy.show()"
      ],
      "metadata": {
        "colab": {
          "base_uri": "https://localhost:8080/"
        },
        "id": "zDRAS_QPS4j-",
        "outputId": "18dfadd7-28a6-4503-aa63-49400331431b"
      },
      "execution_count": null,
      "outputs": [
        {
          "output_type": "stream",
          "name": "stdout",
          "text": [
            "+-------+-----------+-----------------+---------+----------------+----------------------+------------+-------------------+--------------------------+--------------------------------+----------------------+----------------+-------------+------------+-----------+----------------+----------------+------+-----+\n",
            "|CUST_ID|    BALANCE|BALANCE_FREQUENCY|PURCHASES|ONEOFF_PURCHASES|INSTALLMENTS_PURCHASES|CASH_ADVANCE|PURCHASES_FREQUENCY|ONEOFF_PURCHASES_FREQUENCY|PURCHASES_INSTALLMENTS_FREQUENCY|CASH_ADVANCE_FREQUENCY|CASH_ADVANCE_TRX|PURCHASES_TRX|CREDIT_LIMIT|   PAYMENTS|MINIMUM_PAYMENTS|PRC_FULL_PAYMENT|TENURE|label|\n",
            "+-------+-----------+-----------------+---------+----------------+----------------------+------------+-------------------+--------------------------+--------------------------------+----------------------+----------------+-------------+------------+-----------+----------------+----------------+------+-----+\n",
            "| C14212| 105.069311|              1.0|  1344.87|         1344.87|                   0.0|         0.0|           0.916667|                  0.916667|                             0.0|                   0.0|               0|           12|      1700.0|1461.200691|      176.308343|            0.25|    12|  Yes|\n",
            "| C14213|2446.709596|              1.0|      0.0|             0.0|                   0.0| 5281.049743|                0.0|                       0.0|                             0.0|                  0.25|               6|            0|      5000.0|5695.396335|      696.156899|             0.0|    12|   No|\n",
            "| C14214| 295.374207|         0.909091|      0.0|             0.0|                   0.0| 2032.983385|                0.0|                       0.0|                             0.0|                  0.25|               4|            0|      1200.0|2781.869782|      174.631958|             0.0|    12|   No|\n",
            "| C14215| 822.755885|              1.0|   531.14|          359.24|                 171.9|         0.0|                1.0|                  0.428571|                        0.571429|                   0.0|               0|           10|      3000.0| 267.707871|      117.131173|             0.0|     7|  Yes|\n",
            "| C14216|4433.582508|              1.0|      0.0|             0.0|                   0.0| 1434.153185|                0.0|                       0.0|                             0.0|              0.416667|               9|            0|      5500.0|6801.553821|     1209.064809|        0.083333|    12|   No|\n",
            "| C14217|2785.584338|              1.0|      0.0|             0.0|                   0.0|  144.330518|                0.0|                       0.0|                             0.0|                   0.1|               1|            0|      3000.0| 446.776969|       733.62973|             0.0|    10|   No|\n",
            "| C14218|10116.70899|              1.0| 10166.69|          3300.0|               6866.69|         0.0|           0.833333|                  0.333333|                        0.666667|                   0.0|               0|           45|     14000.0|2190.466875|     4253.469898|             0.0|    12|  Yes|\n",
            "| C14219|9440.796576|              1.0|      0.0|             0.0|                   0.0|    5831.378|                0.0|                       0.0|                             0.0|              0.666667|              13|            0|     13000.0|2031.387858|     2432.132089|             0.0|    12|   No|\n",
            "| C14220|1435.975897|              1.0|   418.56|          418.56|                   0.0|         0.0|           0.333333|                  0.333333|                             0.0|                   0.0|               0|            4|      2150.0| 950.209773|      466.163755|             0.0|    12|   No|\n",
            "| C14221|1160.514847|              1.0|  3726.79|           664.0|               3062.79|         0.0|                1.0|                  0.083333|                             1.0|                   0.0|               0|           89|      3000.0|3312.651656|      310.179028|        0.083333|    12|  Yes|\n",
            "| C14222| 634.759973|              1.0|    19.91|             0.0|                 19.91|         0.0|           0.083333|                       0.0|                        0.083333|                   0.0|               0|            1|      6000.0| 610.491342|      246.804668|             0.0|    12|   No|\n",
            "| C14223|  45.785125|         0.636364|     12.0|             0.0|                  12.0|  166.160258|                1.0|                       0.0|                        0.916667|              0.083333|               3|           12|      1200.0|  39.556692|       46.550149|             0.0|    12|  Yes|\n",
            "| C14224| 968.504914|              1.0|   257.71|           45.65|                212.06|         0.0|           0.166667|                  0.083333|                        0.166667|                   0.0|               0|            4|      1000.0| 623.314494|      842.242726|             0.0|    12|   No|\n",
            "| C14225| 200.806352|              1.0|  1957.45|         1799.14|                158.31|         0.0|                1.0|                       1.0|                        0.166667|                   0.0|               0|           49|      6000.0|1934.825977|      193.934077|            0.75|    12|  Yes|\n",
            "| C14226|1634.559235|              1.0|  1062.94|         1006.18|                 56.76|         0.0|           0.583333|                       0.5|                        0.166667|                   0.0|               0|           15|      1800.0| 584.660133|     1332.692469|             0.0|    12|  Yes|\n",
            "| C14227|1839.926709|              1.0|   487.75|             0.0|                487.75|  266.614527|                0.5|                       0.0|                        0.416667|              0.083333|               1|            9|      3500.0| 791.115227|      385.482464|             0.0|    12|   No|\n",
            "| C14228|6743.313868|              1.0|  5591.26|          1770.5|               3820.76| 1074.347669|                1.0|                       1.0|                             1.0|                  0.25|               4|          162|      9500.0|2314.208069|     1682.939354|             0.0|    12|  Yes|\n",
            "| C14229|1267.054186|              1.0|      0.0|             0.0|                   0.0| 1253.614385|                0.0|                       0.0|                             0.0|              0.166667|               8|            0|      1500.0| 209.297618|      470.721288|             0.0|    12|   No|\n",
            "| C14230|2778.737121|              1.0|   1973.0|          1973.0|                   0.0|         0.0|           0.166667|                  0.166667|                             0.0|                   0.0|               0|            2|      6500.0| 630.766685|      728.216731|             0.0|    12|   No|\n",
            "| C14231|1138.592025|              1.0|   327.99|          248.99|                  79.0|         0.0|           0.333333|                      0.25|                        0.166667|                   0.0|               0|            9|      1200.0| 559.386373|      902.962826|             0.0|    12|   No|\n",
            "+-------+-----------+-----------------+---------+----------------+----------------------+------------+-------------------+--------------------------+--------------------------------+----------------------+----------------+-------------+------------+-----------+----------------+----------------+------+-----+\n",
            "only showing top 20 rows\n",
            "\n"
          ]
        }
      ]
    },
    {
      "cell_type": "code",
      "source": [
        "xy.columns"
      ],
      "metadata": {
        "colab": {
          "base_uri": "https://localhost:8080/"
        },
        "id": "8z4RrFVJMd-N",
        "outputId": "3f333006-f077-4922-b31b-59304a3522b7"
      },
      "execution_count": null,
      "outputs": [
        {
          "output_type": "execute_result",
          "data": {
            "text/plain": [
              "['CUST_ID',\n",
              " 'BALANCE',\n",
              " 'BALANCE_FREQUENCY',\n",
              " 'PURCHASES',\n",
              " 'ONEOFF_PURCHASES',\n",
              " 'INSTALLMENTS_PURCHASES',\n",
              " 'CASH_ADVANCE',\n",
              " 'PURCHASES_FREQUENCY',\n",
              " 'ONEOFF_PURCHASES_FREQUENCY',\n",
              " 'PURCHASES_INSTALLMENTS_FREQUENCY',\n",
              " 'CASH_ADVANCE_FREQUENCY',\n",
              " 'CASH_ADVANCE_TRX',\n",
              " 'PURCHASES_TRX',\n",
              " 'CREDIT_LIMIT',\n",
              " 'PAYMENTS',\n",
              " 'MINIMUM_PAYMENTS',\n",
              " 'PRC_FULL_PAYMENT',\n",
              " 'TENURE',\n",
              " 'label']"
            ]
          },
          "metadata": {},
          "execution_count": 48
        }
      ]
    },
    {
      "cell_type": "code",
      "source": [
        "xy.printSchema()"
      ],
      "metadata": {
        "colab": {
          "base_uri": "https://localhost:8080/"
        },
        "id": "ujwHw7FnThZU",
        "outputId": "7ec75066-3133-4026-bb84-e0726a8b94ea"
      },
      "execution_count": null,
      "outputs": [
        {
          "output_type": "stream",
          "name": "stdout",
          "text": [
            "root\n",
            " |-- CUST_ID: string (nullable = true)\n",
            " |-- BALANCE: double (nullable = true)\n",
            " |-- BALANCE_FREQUENCY: double (nullable = true)\n",
            " |-- PURCHASES: double (nullable = true)\n",
            " |-- ONEOFF_PURCHASES: double (nullable = true)\n",
            " |-- INSTALLMENTS_PURCHASES: double (nullable = true)\n",
            " |-- CASH_ADVANCE: double (nullable = true)\n",
            " |-- PURCHASES_FREQUENCY: double (nullable = true)\n",
            " |-- ONEOFF_PURCHASES_FREQUENCY: double (nullable = true)\n",
            " |-- PURCHASES_INSTALLMENTS_FREQUENCY: double (nullable = true)\n",
            " |-- CASH_ADVANCE_FREQUENCY: double (nullable = true)\n",
            " |-- CASH_ADVANCE_TRX: long (nullable = true)\n",
            " |-- PURCHASES_TRX: long (nullable = true)\n",
            " |-- CREDIT_LIMIT: double (nullable = true)\n",
            " |-- PAYMENTS: double (nullable = true)\n",
            " |-- MINIMUM_PAYMENTS: double (nullable = true)\n",
            " |-- PRC_FULL_PAYMENT: double (nullable = true)\n",
            " |-- TENURE: long (nullable = true)\n",
            " |-- label: string (nullable = false)\n",
            "\n"
          ]
        }
      ]
    },
    {
      "cell_type": "code",
      "source": [
        "print(type(xy))"
      ],
      "metadata": {
        "colab": {
          "base_uri": "https://localhost:8080/"
        },
        "id": "SPsjcesx7upt",
        "outputId": "3f4099f7-7652-46b8-8ad7-89c671071659"
      },
      "execution_count": null,
      "outputs": [
        {
          "output_type": "stream",
          "name": "stdout",
          "text": [
            "<class 'pyspark.sql.dataframe.DataFrame'>\n"
          ]
        }
      ]
    },
    {
      "cell_type": "code",
      "source": [
        "train = xy.withColumn(\"label\", xy.PURCHASES_FREQUENCY>=0.5)\n",
        "train = xy.withColumn(\"label\", xy[\"label\"].cast(\"string\"))\n",
        "\n",
        "from pyspark.ml.feature import StringIndexer\n",
        "indexer2 = StringIndexer(inputCol=\"label\", outputCol=\"target\")\n",
        "training_cl = indexer2.fit(train).transform(train)\n",
        "\n",
        "training_cl.limit(5).toPandas()\n",
        "#target column created"
      ],
      "metadata": {
        "colab": {
          "base_uri": "https://localhost:8080/",
          "height": 270
        },
        "id": "euII9Vi9FX62",
        "outputId": "c4460e45-3f46-4242-edb8-cbc8f76d9abc"
      },
      "execution_count": null,
      "outputs": [
        {
          "output_type": "execute_result",
          "data": {
            "text/html": [
              "\n",
              "  <div id=\"df-4169b1eb-8e4b-4750-9af4-617be2bf58b3\">\n",
              "    <div class=\"colab-df-container\">\n",
              "      <div>\n",
              "<style scoped>\n",
              "    .dataframe tbody tr th:only-of-type {\n",
              "        vertical-align: middle;\n",
              "    }\n",
              "\n",
              "    .dataframe tbody tr th {\n",
              "        vertical-align: top;\n",
              "    }\n",
              "\n",
              "    .dataframe thead th {\n",
              "        text-align: right;\n",
              "    }\n",
              "</style>\n",
              "<table border=\"1\" class=\"dataframe\">\n",
              "  <thead>\n",
              "    <tr style=\"text-align: right;\">\n",
              "      <th></th>\n",
              "      <th>CUST_ID</th>\n",
              "      <th>BALANCE</th>\n",
              "      <th>BALANCE_FREQUENCY</th>\n",
              "      <th>PURCHASES</th>\n",
              "      <th>ONEOFF_PURCHASES</th>\n",
              "      <th>INSTALLMENTS_PURCHASES</th>\n",
              "      <th>CASH_ADVANCE</th>\n",
              "      <th>PURCHASES_FREQUENCY</th>\n",
              "      <th>ONEOFF_PURCHASES_FREQUENCY</th>\n",
              "      <th>PURCHASES_INSTALLMENTS_FREQUENCY</th>\n",
              "      <th>CASH_ADVANCE_FREQUENCY</th>\n",
              "      <th>CASH_ADVANCE_TRX</th>\n",
              "      <th>PURCHASES_TRX</th>\n",
              "      <th>CREDIT_LIMIT</th>\n",
              "      <th>PAYMENTS</th>\n",
              "      <th>MINIMUM_PAYMENTS</th>\n",
              "      <th>PRC_FULL_PAYMENT</th>\n",
              "      <th>TENURE</th>\n",
              "      <th>label</th>\n",
              "      <th>target</th>\n",
              "    </tr>\n",
              "  </thead>\n",
              "  <tbody>\n",
              "    <tr>\n",
              "      <th>0</th>\n",
              "      <td>C14212</td>\n",
              "      <td>105.069311</td>\n",
              "      <td>1.000000</td>\n",
              "      <td>1344.87</td>\n",
              "      <td>1344.87</td>\n",
              "      <td>0.0</td>\n",
              "      <td>0.000000</td>\n",
              "      <td>0.916667</td>\n",
              "      <td>0.916667</td>\n",
              "      <td>0.000000</td>\n",
              "      <td>0.000000</td>\n",
              "      <td>0</td>\n",
              "      <td>12</td>\n",
              "      <td>1700.0</td>\n",
              "      <td>1461.200691</td>\n",
              "      <td>176.308343</td>\n",
              "      <td>0.250000</td>\n",
              "      <td>12</td>\n",
              "      <td>Yes</td>\n",
              "      <td>1.0</td>\n",
              "    </tr>\n",
              "    <tr>\n",
              "      <th>1</th>\n",
              "      <td>C14213</td>\n",
              "      <td>2446.709596</td>\n",
              "      <td>1.000000</td>\n",
              "      <td>0.00</td>\n",
              "      <td>0.00</td>\n",
              "      <td>0.0</td>\n",
              "      <td>5281.049743</td>\n",
              "      <td>0.000000</td>\n",
              "      <td>0.000000</td>\n",
              "      <td>0.000000</td>\n",
              "      <td>0.250000</td>\n",
              "      <td>6</td>\n",
              "      <td>0</td>\n",
              "      <td>5000.0</td>\n",
              "      <td>5695.396335</td>\n",
              "      <td>696.156899</td>\n",
              "      <td>0.000000</td>\n",
              "      <td>12</td>\n",
              "      <td>No</td>\n",
              "      <td>0.0</td>\n",
              "    </tr>\n",
              "    <tr>\n",
              "      <th>2</th>\n",
              "      <td>C14214</td>\n",
              "      <td>295.374207</td>\n",
              "      <td>0.909091</td>\n",
              "      <td>0.00</td>\n",
              "      <td>0.00</td>\n",
              "      <td>0.0</td>\n",
              "      <td>2032.983385</td>\n",
              "      <td>0.000000</td>\n",
              "      <td>0.000000</td>\n",
              "      <td>0.000000</td>\n",
              "      <td>0.250000</td>\n",
              "      <td>4</td>\n",
              "      <td>0</td>\n",
              "      <td>1200.0</td>\n",
              "      <td>2781.869782</td>\n",
              "      <td>174.631958</td>\n",
              "      <td>0.000000</td>\n",
              "      <td>12</td>\n",
              "      <td>No</td>\n",
              "      <td>0.0</td>\n",
              "    </tr>\n",
              "    <tr>\n",
              "      <th>3</th>\n",
              "      <td>C14215</td>\n",
              "      <td>822.755885</td>\n",
              "      <td>1.000000</td>\n",
              "      <td>531.14</td>\n",
              "      <td>359.24</td>\n",
              "      <td>171.9</td>\n",
              "      <td>0.000000</td>\n",
              "      <td>1.000000</td>\n",
              "      <td>0.428571</td>\n",
              "      <td>0.571429</td>\n",
              "      <td>0.000000</td>\n",
              "      <td>0</td>\n",
              "      <td>10</td>\n",
              "      <td>3000.0</td>\n",
              "      <td>267.707871</td>\n",
              "      <td>117.131173</td>\n",
              "      <td>0.000000</td>\n",
              "      <td>7</td>\n",
              "      <td>Yes</td>\n",
              "      <td>1.0</td>\n",
              "    </tr>\n",
              "    <tr>\n",
              "      <th>4</th>\n",
              "      <td>C14216</td>\n",
              "      <td>4433.582508</td>\n",
              "      <td>1.000000</td>\n",
              "      <td>0.00</td>\n",
              "      <td>0.00</td>\n",
              "      <td>0.0</td>\n",
              "      <td>1434.153185</td>\n",
              "      <td>0.000000</td>\n",
              "      <td>0.000000</td>\n",
              "      <td>0.000000</td>\n",
              "      <td>0.416667</td>\n",
              "      <td>9</td>\n",
              "      <td>0</td>\n",
              "      <td>5500.0</td>\n",
              "      <td>6801.553821</td>\n",
              "      <td>1209.064809</td>\n",
              "      <td>0.083333</td>\n",
              "      <td>12</td>\n",
              "      <td>No</td>\n",
              "      <td>0.0</td>\n",
              "    </tr>\n",
              "  </tbody>\n",
              "</table>\n",
              "</div>\n",
              "      <button class=\"colab-df-convert\" onclick=\"convertToInteractive('df-4169b1eb-8e4b-4750-9af4-617be2bf58b3')\"\n",
              "              title=\"Convert this dataframe to an interactive table.\"\n",
              "              style=\"display:none;\">\n",
              "        \n",
              "  <svg xmlns=\"http://www.w3.org/2000/svg\" height=\"24px\"viewBox=\"0 0 24 24\"\n",
              "       width=\"24px\">\n",
              "    <path d=\"M0 0h24v24H0V0z\" fill=\"none\"/>\n",
              "    <path d=\"M18.56 5.44l.94 2.06.94-2.06 2.06-.94-2.06-.94-.94-2.06-.94 2.06-2.06.94zm-11 1L8.5 8.5l.94-2.06 2.06-.94-2.06-.94L8.5 2.5l-.94 2.06-2.06.94zm10 10l.94 2.06.94-2.06 2.06-.94-2.06-.94-.94-2.06-.94 2.06-2.06.94z\"/><path d=\"M17.41 7.96l-1.37-1.37c-.4-.4-.92-.59-1.43-.59-.52 0-1.04.2-1.43.59L10.3 9.45l-7.72 7.72c-.78.78-.78 2.05 0 2.83L4 21.41c.39.39.9.59 1.41.59.51 0 1.02-.2 1.41-.59l7.78-7.78 2.81-2.81c.8-.78.8-2.07 0-2.86zM5.41 20L4 18.59l7.72-7.72 1.47 1.35L5.41 20z\"/>\n",
              "  </svg>\n",
              "      </button>\n",
              "      \n",
              "  <style>\n",
              "    .colab-df-container {\n",
              "      display:flex;\n",
              "      flex-wrap:wrap;\n",
              "      gap: 12px;\n",
              "    }\n",
              "\n",
              "    .colab-df-convert {\n",
              "      background-color: #E8F0FE;\n",
              "      border: none;\n",
              "      border-radius: 50%;\n",
              "      cursor: pointer;\n",
              "      display: none;\n",
              "      fill: #1967D2;\n",
              "      height: 32px;\n",
              "      padding: 0 0 0 0;\n",
              "      width: 32px;\n",
              "    }\n",
              "\n",
              "    .colab-df-convert:hover {\n",
              "      background-color: #E2EBFA;\n",
              "      box-shadow: 0px 1px 2px rgba(60, 64, 67, 0.3), 0px 1px 3px 1px rgba(60, 64, 67, 0.15);\n",
              "      fill: #174EA6;\n",
              "    }\n",
              "\n",
              "    [theme=dark] .colab-df-convert {\n",
              "      background-color: #3B4455;\n",
              "      fill: #D2E3FC;\n",
              "    }\n",
              "\n",
              "    [theme=dark] .colab-df-convert:hover {\n",
              "      background-color: #434B5C;\n",
              "      box-shadow: 0px 1px 3px 1px rgba(0, 0, 0, 0.15);\n",
              "      filter: drop-shadow(0px 1px 2px rgba(0, 0, 0, 0.3));\n",
              "      fill: #FFFFFF;\n",
              "    }\n",
              "  </style>\n",
              "\n",
              "      <script>\n",
              "        const buttonEl =\n",
              "          document.querySelector('#df-4169b1eb-8e4b-4750-9af4-617be2bf58b3 button.colab-df-convert');\n",
              "        buttonEl.style.display =\n",
              "          google.colab.kernel.accessAllowed ? 'block' : 'none';\n",
              "\n",
              "        async function convertToInteractive(key) {\n",
              "          const element = document.querySelector('#df-4169b1eb-8e4b-4750-9af4-617be2bf58b3');\n",
              "          const dataTable =\n",
              "            await google.colab.kernel.invokeFunction('convertToInteractive',\n",
              "                                                     [key], {});\n",
              "          if (!dataTable) return;\n",
              "\n",
              "          const docLinkHtml = 'Like what you see? Visit the ' +\n",
              "            '<a target=\"_blank\" href=https://colab.research.google.com/notebooks/data_table.ipynb>data table notebook</a>'\n",
              "            + ' to learn more about interactive tables.';\n",
              "          element.innerHTML = '';\n",
              "          dataTable['output_type'] = 'display_data';\n",
              "          await google.colab.output.renderOutput(dataTable, element);\n",
              "          const docLink = document.createElement('div');\n",
              "          docLink.innerHTML = docLinkHtml;\n",
              "          element.appendChild(docLink);\n",
              "        }\n",
              "      </script>\n",
              "    </div>\n",
              "  </div>\n",
              "  "
            ],
            "text/plain": [
              "  CUST_ID      BALANCE  BALANCE_FREQUENCY  ...  TENURE  label  target\n",
              "0  C14212   105.069311           1.000000  ...      12    Yes     1.0\n",
              "1  C14213  2446.709596           1.000000  ...      12     No     0.0\n",
              "2  C14214   295.374207           0.909091  ...      12     No     0.0\n",
              "3  C14215   822.755885           1.000000  ...       7    Yes     1.0\n",
              "4  C14216  4433.582508           1.000000  ...      12     No     0.0\n",
              "\n",
              "[5 rows x 20 columns]"
            ]
          },
          "metadata": {},
          "execution_count": 51
        }
      ]
    },
    {
      "cell_type": "code",
      "source": [
        "training_cl.show()"
      ],
      "metadata": {
        "colab": {
          "base_uri": "https://localhost:8080/"
        },
        "id": "oTQMcOUoXh6v",
        "outputId": "501b92cb-7552-4886-f506-b3377a3db1a5"
      },
      "execution_count": null,
      "outputs": [
        {
          "output_type": "stream",
          "name": "stdout",
          "text": [
            "+-------+-----------+-----------------+---------+----------------+----------------------+------------+-------------------+--------------------------+--------------------------------+----------------------+----------------+-------------+------------+-----------+----------------+----------------+------+-----+------+\n",
            "|CUST_ID|    BALANCE|BALANCE_FREQUENCY|PURCHASES|ONEOFF_PURCHASES|INSTALLMENTS_PURCHASES|CASH_ADVANCE|PURCHASES_FREQUENCY|ONEOFF_PURCHASES_FREQUENCY|PURCHASES_INSTALLMENTS_FREQUENCY|CASH_ADVANCE_FREQUENCY|CASH_ADVANCE_TRX|PURCHASES_TRX|CREDIT_LIMIT|   PAYMENTS|MINIMUM_PAYMENTS|PRC_FULL_PAYMENT|TENURE|label|target|\n",
            "+-------+-----------+-----------------+---------+----------------+----------------------+------------+-------------------+--------------------------+--------------------------------+----------------------+----------------+-------------+------------+-----------+----------------+----------------+------+-----+------+\n",
            "| C14212| 105.069311|              1.0|  1344.87|         1344.87|                   0.0|         0.0|           0.916667|                  0.916667|                             0.0|                   0.0|               0|           12|      1700.0|1461.200691|      176.308343|            0.25|    12|  Yes|   1.0|\n",
            "| C14213|2446.709596|              1.0|      0.0|             0.0|                   0.0| 5281.049743|                0.0|                       0.0|                             0.0|                  0.25|               6|            0|      5000.0|5695.396335|      696.156899|             0.0|    12|   No|   0.0|\n",
            "| C14214| 295.374207|         0.909091|      0.0|             0.0|                   0.0| 2032.983385|                0.0|                       0.0|                             0.0|                  0.25|               4|            0|      1200.0|2781.869782|      174.631958|             0.0|    12|   No|   0.0|\n",
            "| C14215| 822.755885|              1.0|   531.14|          359.24|                 171.9|         0.0|                1.0|                  0.428571|                        0.571429|                   0.0|               0|           10|      3000.0| 267.707871|      117.131173|             0.0|     7|  Yes|   1.0|\n",
            "| C14216|4433.582508|              1.0|      0.0|             0.0|                   0.0| 1434.153185|                0.0|                       0.0|                             0.0|              0.416667|               9|            0|      5500.0|6801.553821|     1209.064809|        0.083333|    12|   No|   0.0|\n",
            "| C14217|2785.584338|              1.0|      0.0|             0.0|                   0.0|  144.330518|                0.0|                       0.0|                             0.0|                   0.1|               1|            0|      3000.0| 446.776969|       733.62973|             0.0|    10|   No|   0.0|\n",
            "| C14218|10116.70899|              1.0| 10166.69|          3300.0|               6866.69|         0.0|           0.833333|                  0.333333|                        0.666667|                   0.0|               0|           45|     14000.0|2190.466875|     4253.469898|             0.0|    12|  Yes|   1.0|\n",
            "| C14219|9440.796576|              1.0|      0.0|             0.0|                   0.0|    5831.378|                0.0|                       0.0|                             0.0|              0.666667|              13|            0|     13000.0|2031.387858|     2432.132089|             0.0|    12|   No|   0.0|\n",
            "| C14220|1435.975897|              1.0|   418.56|          418.56|                   0.0|         0.0|           0.333333|                  0.333333|                             0.0|                   0.0|               0|            4|      2150.0| 950.209773|      466.163755|             0.0|    12|   No|   0.0|\n",
            "| C14221|1160.514847|              1.0|  3726.79|           664.0|               3062.79|         0.0|                1.0|                  0.083333|                             1.0|                   0.0|               0|           89|      3000.0|3312.651656|      310.179028|        0.083333|    12|  Yes|   1.0|\n",
            "| C14222| 634.759973|              1.0|    19.91|             0.0|                 19.91|         0.0|           0.083333|                       0.0|                        0.083333|                   0.0|               0|            1|      6000.0| 610.491342|      246.804668|             0.0|    12|   No|   0.0|\n",
            "| C14223|  45.785125|         0.636364|     12.0|             0.0|                  12.0|  166.160258|                1.0|                       0.0|                        0.916667|              0.083333|               3|           12|      1200.0|  39.556692|       46.550149|             0.0|    12|  Yes|   1.0|\n",
            "| C14224| 968.504914|              1.0|   257.71|           45.65|                212.06|         0.0|           0.166667|                  0.083333|                        0.166667|                   0.0|               0|            4|      1000.0| 623.314494|      842.242726|             0.0|    12|   No|   0.0|\n",
            "| C14225| 200.806352|              1.0|  1957.45|         1799.14|                158.31|         0.0|                1.0|                       1.0|                        0.166667|                   0.0|               0|           49|      6000.0|1934.825977|      193.934077|            0.75|    12|  Yes|   1.0|\n",
            "| C14226|1634.559235|              1.0|  1062.94|         1006.18|                 56.76|         0.0|           0.583333|                       0.5|                        0.166667|                   0.0|               0|           15|      1800.0| 584.660133|     1332.692469|             0.0|    12|  Yes|   1.0|\n",
            "| C14227|1839.926709|              1.0|   487.75|             0.0|                487.75|  266.614527|                0.5|                       0.0|                        0.416667|              0.083333|               1|            9|      3500.0| 791.115227|      385.482464|             0.0|    12|   No|   0.0|\n",
            "| C14228|6743.313868|              1.0|  5591.26|          1770.5|               3820.76| 1074.347669|                1.0|                       1.0|                             1.0|                  0.25|               4|          162|      9500.0|2314.208069|     1682.939354|             0.0|    12|  Yes|   1.0|\n",
            "| C14229|1267.054186|              1.0|      0.0|             0.0|                   0.0| 1253.614385|                0.0|                       0.0|                             0.0|              0.166667|               8|            0|      1500.0| 209.297618|      470.721288|             0.0|    12|   No|   0.0|\n",
            "| C14230|2778.737121|              1.0|   1973.0|          1973.0|                   0.0|         0.0|           0.166667|                  0.166667|                             0.0|                   0.0|               0|            2|      6500.0| 630.766685|      728.216731|             0.0|    12|   No|   0.0|\n",
            "| C14231|1138.592025|              1.0|   327.99|          248.99|                  79.0|         0.0|           0.333333|                      0.25|                        0.166667|                   0.0|               0|            9|      1200.0| 559.386373|      902.962826|             0.0|    12|   No|   0.0|\n",
            "+-------+-----------+-----------------+---------+----------------+----------------------+------------+-------------------+--------------------------+--------------------------------+----------------------+----------------+-------------+------------+-----------+----------------+----------------+------+-----+------+\n",
            "only showing top 20 rows\n",
            "\n"
          ]
        }
      ]
    },
    {
      "cell_type": "code",
      "source": [
        "training_cl.printSchema()"
      ],
      "metadata": {
        "colab": {
          "base_uri": "https://localhost:8080/"
        },
        "id": "4ln23ZEgXm30",
        "outputId": "554c07d1-a275-45ad-dbfa-048ea482e858"
      },
      "execution_count": null,
      "outputs": [
        {
          "output_type": "stream",
          "name": "stdout",
          "text": [
            "root\n",
            " |-- CUST_ID: string (nullable = true)\n",
            " |-- BALANCE: double (nullable = true)\n",
            " |-- BALANCE_FREQUENCY: double (nullable = true)\n",
            " |-- PURCHASES: double (nullable = true)\n",
            " |-- ONEOFF_PURCHASES: double (nullable = true)\n",
            " |-- INSTALLMENTS_PURCHASES: double (nullable = true)\n",
            " |-- CASH_ADVANCE: double (nullable = true)\n",
            " |-- PURCHASES_FREQUENCY: double (nullable = true)\n",
            " |-- ONEOFF_PURCHASES_FREQUENCY: double (nullable = true)\n",
            " |-- PURCHASES_INSTALLMENTS_FREQUENCY: double (nullable = true)\n",
            " |-- CASH_ADVANCE_FREQUENCY: double (nullable = true)\n",
            " |-- CASH_ADVANCE_TRX: long (nullable = true)\n",
            " |-- PURCHASES_TRX: long (nullable = true)\n",
            " |-- CREDIT_LIMIT: double (nullable = true)\n",
            " |-- PAYMENTS: double (nullable = true)\n",
            " |-- MINIMUM_PAYMENTS: double (nullable = true)\n",
            " |-- PRC_FULL_PAYMENT: double (nullable = true)\n",
            " |-- TENURE: long (nullable = true)\n",
            " |-- label: string (nullable = false)\n",
            " |-- target: double (nullable = false)\n",
            "\n"
          ]
        }
      ]
    },
    {
      "cell_type": "markdown",
      "source": [
        "### **Data Properties**\n",
        "\n"
      ],
      "metadata": {
        "id": "CpH2f-hcCJZc"
      }
    },
    {
      "cell_type": "code",
      "source": [
        "# Calculate statistical varables for columns \n",
        "training_cl.describe().toPandas().transpose()"
      ],
      "metadata": {
        "colab": {
          "base_uri": "https://localhost:8080/",
          "height": 708
        },
        "id": "d7a6xBVfKNCf",
        "outputId": "d93b46f3-5d05-4175-c89e-dcca9aec4724"
      },
      "execution_count": null,
      "outputs": [
        {
          "output_type": "execute_result",
          "data": {
            "text/html": [
              "\n",
              "  <div id=\"df-aac70e51-41da-4b60-a098-e696779edb88\">\n",
              "    <div class=\"colab-df-container\">\n",
              "      <div>\n",
              "<style scoped>\n",
              "    .dataframe tbody tr th:only-of-type {\n",
              "        vertical-align: middle;\n",
              "    }\n",
              "\n",
              "    .dataframe tbody tr th {\n",
              "        vertical-align: top;\n",
              "    }\n",
              "\n",
              "    .dataframe thead th {\n",
              "        text-align: right;\n",
              "    }\n",
              "</style>\n",
              "<table border=\"1\" class=\"dataframe\">\n",
              "  <thead>\n",
              "    <tr style=\"text-align: right;\">\n",
              "      <th></th>\n",
              "      <th>0</th>\n",
              "      <th>1</th>\n",
              "      <th>2</th>\n",
              "      <th>3</th>\n",
              "      <th>4</th>\n",
              "    </tr>\n",
              "  </thead>\n",
              "  <tbody>\n",
              "    <tr>\n",
              "      <th>summary</th>\n",
              "      <td>count</td>\n",
              "      <td>mean</td>\n",
              "      <td>stddev</td>\n",
              "      <td>min</td>\n",
              "      <td>max</td>\n",
              "    </tr>\n",
              "    <tr>\n",
              "      <th>CUST_ID</th>\n",
              "      <td>8950</td>\n",
              "      <td>None</td>\n",
              "      <td>None</td>\n",
              "      <td>C10001</td>\n",
              "      <td>C19190</td>\n",
              "    </tr>\n",
              "    <tr>\n",
              "      <th>BALANCE</th>\n",
              "      <td>8950</td>\n",
              "      <td>1564.4748276781013</td>\n",
              "      <td>2081.5318794565537</td>\n",
              "      <td>0.0</td>\n",
              "      <td>19043.13856</td>\n",
              "    </tr>\n",
              "    <tr>\n",
              "      <th>BALANCE_FREQUENCY</th>\n",
              "      <td>8950</td>\n",
              "      <td>0.8772707255865909</td>\n",
              "      <td>0.23690400268476833</td>\n",
              "      <td>0.0</td>\n",
              "      <td>1.0</td>\n",
              "    </tr>\n",
              "    <tr>\n",
              "      <th>PURCHASES</th>\n",
              "      <td>8950</td>\n",
              "      <td>1003.2048335195524</td>\n",
              "      <td>2136.634781872888</td>\n",
              "      <td>0.0</td>\n",
              "      <td>49039.57</td>\n",
              "    </tr>\n",
              "    <tr>\n",
              "      <th>ONEOFF_PURCHASES</th>\n",
              "      <td>8950</td>\n",
              "      <td>592.4373709497205</td>\n",
              "      <td>1659.887917437812</td>\n",
              "      <td>0.0</td>\n",
              "      <td>40761.25</td>\n",
              "    </tr>\n",
              "    <tr>\n",
              "      <th>INSTALLMENTS_PURCHASES</th>\n",
              "      <td>8950</td>\n",
              "      <td>411.06764469273656</td>\n",
              "      <td>904.3381151753822</td>\n",
              "      <td>0.0</td>\n",
              "      <td>22500.0</td>\n",
              "    </tr>\n",
              "    <tr>\n",
              "      <th>CASH_ADVANCE</th>\n",
              "      <td>8950</td>\n",
              "      <td>978.8711124654759</td>\n",
              "      <td>2097.1638766432325</td>\n",
              "      <td>0.0</td>\n",
              "      <td>47137.21176</td>\n",
              "    </tr>\n",
              "    <tr>\n",
              "      <th>PURCHASES_FREQUENCY</th>\n",
              "      <td>8950</td>\n",
              "      <td>0.49035054837988934</td>\n",
              "      <td>0.40137074736904077</td>\n",
              "      <td>0.0</td>\n",
              "      <td>1.0</td>\n",
              "    </tr>\n",
              "    <tr>\n",
              "      <th>ONEOFF_PURCHASES_FREQUENCY</th>\n",
              "      <td>8950</td>\n",
              "      <td>0.20245768357542027</td>\n",
              "      <td>0.29833606518471945</td>\n",
              "      <td>0.0</td>\n",
              "      <td>1.0</td>\n",
              "    </tr>\n",
              "    <tr>\n",
              "      <th>PURCHASES_INSTALLMENTS_FREQUENCY</th>\n",
              "      <td>8950</td>\n",
              "      <td>0.36443734156424507</td>\n",
              "      <td>0.39744777974541307</td>\n",
              "      <td>0.0</td>\n",
              "      <td>1.0</td>\n",
              "    </tr>\n",
              "    <tr>\n",
              "      <th>CASH_ADVANCE_FREQUENCY</th>\n",
              "      <td>8950</td>\n",
              "      <td>0.13514420033519575</td>\n",
              "      <td>0.20012138814749697</td>\n",
              "      <td>0.0</td>\n",
              "      <td>1.5</td>\n",
              "    </tr>\n",
              "    <tr>\n",
              "      <th>CASH_ADVANCE_TRX</th>\n",
              "      <td>8950</td>\n",
              "      <td>3.2488268156424582</td>\n",
              "      <td>6.824646744165834</td>\n",
              "      <td>0</td>\n",
              "      <td>123</td>\n",
              "    </tr>\n",
              "    <tr>\n",
              "      <th>PURCHASES_TRX</th>\n",
              "      <td>8950</td>\n",
              "      <td>14.709832402234637</td>\n",
              "      <td>24.857649109884736</td>\n",
              "      <td>0</td>\n",
              "      <td>358</td>\n",
              "    </tr>\n",
              "    <tr>\n",
              "      <th>CREDIT_LIMIT</th>\n",
              "      <td>8950</td>\n",
              "      <td>4493.947277241676</td>\n",
              "      <td>3638.9225426545486</td>\n",
              "      <td>0.0</td>\n",
              "      <td>30000.0</td>\n",
              "    </tr>\n",
              "    <tr>\n",
              "      <th>PAYMENTS</th>\n",
              "      <td>8950</td>\n",
              "      <td>1733.1438520248068</td>\n",
              "      <td>2895.06375690457</td>\n",
              "      <td>0.0</td>\n",
              "      <td>50721.48336</td>\n",
              "    </tr>\n",
              "    <tr>\n",
              "      <th>MINIMUM_PAYMENTS</th>\n",
              "      <td>8950</td>\n",
              "      <td>833.9834531719565</td>\n",
              "      <td>2335.989918070599</td>\n",
              "      <td>0.0</td>\n",
              "      <td>76406.20752</td>\n",
              "    </tr>\n",
              "    <tr>\n",
              "      <th>PRC_FULL_PAYMENT</th>\n",
              "      <td>8950</td>\n",
              "      <td>0.15371464849162056</td>\n",
              "      <td>0.2924991962338786</td>\n",
              "      <td>0.0</td>\n",
              "      <td>1.0</td>\n",
              "    </tr>\n",
              "    <tr>\n",
              "      <th>TENURE</th>\n",
              "      <td>8950</td>\n",
              "      <td>11.51731843575419</td>\n",
              "      <td>1.3383307693673268</td>\n",
              "      <td>6</td>\n",
              "      <td>12</td>\n",
              "    </tr>\n",
              "    <tr>\n",
              "      <th>label</th>\n",
              "      <td>8950</td>\n",
              "      <td>None</td>\n",
              "      <td>None</td>\n",
              "      <td>No</td>\n",
              "      <td>Yes</td>\n",
              "    </tr>\n",
              "    <tr>\n",
              "      <th>target</th>\n",
              "      <td>8950</td>\n",
              "      <td>0.4633519553072626</td>\n",
              "      <td>0.49868297225889024</td>\n",
              "      <td>0.0</td>\n",
              "      <td>1.0</td>\n",
              "    </tr>\n",
              "  </tbody>\n",
              "</table>\n",
              "</div>\n",
              "      <button class=\"colab-df-convert\" onclick=\"convertToInteractive('df-aac70e51-41da-4b60-a098-e696779edb88')\"\n",
              "              title=\"Convert this dataframe to an interactive table.\"\n",
              "              style=\"display:none;\">\n",
              "        \n",
              "  <svg xmlns=\"http://www.w3.org/2000/svg\" height=\"24px\"viewBox=\"0 0 24 24\"\n",
              "       width=\"24px\">\n",
              "    <path d=\"M0 0h24v24H0V0z\" fill=\"none\"/>\n",
              "    <path d=\"M18.56 5.44l.94 2.06.94-2.06 2.06-.94-2.06-.94-.94-2.06-.94 2.06-2.06.94zm-11 1L8.5 8.5l.94-2.06 2.06-.94-2.06-.94L8.5 2.5l-.94 2.06-2.06.94zm10 10l.94 2.06.94-2.06 2.06-.94-2.06-.94-.94-2.06-.94 2.06-2.06.94z\"/><path d=\"M17.41 7.96l-1.37-1.37c-.4-.4-.92-.59-1.43-.59-.52 0-1.04.2-1.43.59L10.3 9.45l-7.72 7.72c-.78.78-.78 2.05 0 2.83L4 21.41c.39.39.9.59 1.41.59.51 0 1.02-.2 1.41-.59l7.78-7.78 2.81-2.81c.8-.78.8-2.07 0-2.86zM5.41 20L4 18.59l7.72-7.72 1.47 1.35L5.41 20z\"/>\n",
              "  </svg>\n",
              "      </button>\n",
              "      \n",
              "  <style>\n",
              "    .colab-df-container {\n",
              "      display:flex;\n",
              "      flex-wrap:wrap;\n",
              "      gap: 12px;\n",
              "    }\n",
              "\n",
              "    .colab-df-convert {\n",
              "      background-color: #E8F0FE;\n",
              "      border: none;\n",
              "      border-radius: 50%;\n",
              "      cursor: pointer;\n",
              "      display: none;\n",
              "      fill: #1967D2;\n",
              "      height: 32px;\n",
              "      padding: 0 0 0 0;\n",
              "      width: 32px;\n",
              "    }\n",
              "\n",
              "    .colab-df-convert:hover {\n",
              "      background-color: #E2EBFA;\n",
              "      box-shadow: 0px 1px 2px rgba(60, 64, 67, 0.3), 0px 1px 3px 1px rgba(60, 64, 67, 0.15);\n",
              "      fill: #174EA6;\n",
              "    }\n",
              "\n",
              "    [theme=dark] .colab-df-convert {\n",
              "      background-color: #3B4455;\n",
              "      fill: #D2E3FC;\n",
              "    }\n",
              "\n",
              "    [theme=dark] .colab-df-convert:hover {\n",
              "      background-color: #434B5C;\n",
              "      box-shadow: 0px 1px 3px 1px rgba(0, 0, 0, 0.15);\n",
              "      filter: drop-shadow(0px 1px 2px rgba(0, 0, 0, 0.3));\n",
              "      fill: #FFFFFF;\n",
              "    }\n",
              "  </style>\n",
              "\n",
              "      <script>\n",
              "        const buttonEl =\n",
              "          document.querySelector('#df-aac70e51-41da-4b60-a098-e696779edb88 button.colab-df-convert');\n",
              "        buttonEl.style.display =\n",
              "          google.colab.kernel.accessAllowed ? 'block' : 'none';\n",
              "\n",
              "        async function convertToInteractive(key) {\n",
              "          const element = document.querySelector('#df-aac70e51-41da-4b60-a098-e696779edb88');\n",
              "          const dataTable =\n",
              "            await google.colab.kernel.invokeFunction('convertToInteractive',\n",
              "                                                     [key], {});\n",
              "          if (!dataTable) return;\n",
              "\n",
              "          const docLinkHtml = 'Like what you see? Visit the ' +\n",
              "            '<a target=\"_blank\" href=https://colab.research.google.com/notebooks/data_table.ipynb>data table notebook</a>'\n",
              "            + ' to learn more about interactive tables.';\n",
              "          element.innerHTML = '';\n",
              "          dataTable['output_type'] = 'display_data';\n",
              "          await google.colab.output.renderOutput(dataTable, element);\n",
              "          const docLink = document.createElement('div');\n",
              "          docLink.innerHTML = docLinkHtml;\n",
              "          element.appendChild(docLink);\n",
              "        }\n",
              "      </script>\n",
              "    </div>\n",
              "  </div>\n",
              "  "
            ],
            "text/plain": [
              "                                      0  ...            4\n",
              "summary                           count  ...          max\n",
              "CUST_ID                            8950  ...       C19190\n",
              "BALANCE                            8950  ...  19043.13856\n",
              "BALANCE_FREQUENCY                  8950  ...          1.0\n",
              "PURCHASES                          8950  ...     49039.57\n",
              "ONEOFF_PURCHASES                   8950  ...     40761.25\n",
              "INSTALLMENTS_PURCHASES             8950  ...      22500.0\n",
              "CASH_ADVANCE                       8950  ...  47137.21176\n",
              "PURCHASES_FREQUENCY                8950  ...          1.0\n",
              "ONEOFF_PURCHASES_FREQUENCY         8950  ...          1.0\n",
              "PURCHASES_INSTALLMENTS_FREQUENCY   8950  ...          1.0\n",
              "CASH_ADVANCE_FREQUENCY             8950  ...          1.5\n",
              "CASH_ADVANCE_TRX                   8950  ...          123\n",
              "PURCHASES_TRX                      8950  ...          358\n",
              "CREDIT_LIMIT                       8950  ...      30000.0\n",
              "PAYMENTS                           8950  ...  50721.48336\n",
              "MINIMUM_PAYMENTS                   8950  ...  76406.20752\n",
              "PRC_FULL_PAYMENT                   8950  ...          1.0\n",
              "TENURE                             8950  ...           12\n",
              "label                              8950  ...          Yes\n",
              "target                             8950  ...          1.0\n",
              "\n",
              "[21 rows x 5 columns]"
            ]
          },
          "metadata": {},
          "execution_count": 58
        }
      ]
    },
    {
      "cell_type": "code",
      "source": [
        "# Plot scatter matrix between the columns \n",
        "import pandas as pd\n",
        "from pandas.plotting import scatter_matrix\n",
        "numeric_features = [t[0] for t in training_cl.dtypes if t[1] == 'int' or t[1] == 'double']\n",
        "\n",
        "sampled_data = training_cl.select(numeric_features).sample(False, 0.8).toPandas()\n",
        "axs = scatter_matrix(sampled_data, figsize=(8, 15))\n",
        "n = len(sampled_data.columns)\n",
        "for i in range(n):\n",
        "    v = axs[i, 0]\n",
        "    v.yaxis.label.set_rotation(0)\n",
        "    v.yaxis.label.set_ha('right')\n",
        "    v.set_yticks(())\n",
        "    h = axs[n-1, i]\n",
        "    h.xaxis.label.set_rotation(90)\n",
        "    h.set_xticks(())"
      ],
      "metadata": {
        "colab": {
          "base_uri": "https://localhost:8080/",
          "height": 1000
        },
        "id": "VooctpSxL0WF",
        "outputId": "32e5855f-2a6b-4bfb-bfa2-e71eda10ed28"
      },
      "execution_count": null,
      "outputs": [
        {
          "output_type": "display_data",
          "data": {
            "image/png": "[encoded data removed]",
            "text/plain": [
              "<Figure size 576x1080 with 225 Axes>"
            ]
          },
          "metadata": {
            "needs_background": "light"
          }
        }
      ]
    },
    {
      "cell_type": "code",
      "source": [
        "# Correlation matrix between the input features and Class\n",
        "import six\n",
        "for i in training_cl.columns:\n",
        "    if not( isinstance(training_cl.select(i).take(1)[0][0], six.string_types)):\n",
        "        print( \"Correlation to Class for \", i, training_cl.stat.corr('target',i))"
      ],
      "metadata": {
        "colab": {
          "base_uri": "https://localhost:8080/"
        },
        "id": "7lyNSnBGMlCL",
        "outputId": "67bd3fc8-ab23-4804-b357-5a85167afe43"
      },
      "execution_count": null,
      "outputs": [
        {
          "output_type": "stream",
          "name": "stdout",
          "text": [
            "Correlation to Class for  BALANCE -0.057859712421735245\n",
            "Correlation to Class for  BALANCE_FREQUENCY 0.2431212549738119\n",
            "Correlation to Class for  PURCHASES 0.3538977873678623\n",
            "Correlation to Class for  ONEOFF_PURCHASES 0.23656837443714865\n",
            "Correlation to Class for  INSTALLMENTS_PURCHASES 0.4020578361665616\n",
            "Correlation to Class for  CASH_ADVANCE -0.17088024750624253\n",
            "Correlation to Class for  PURCHASES_FREQUENCY 0.9178944269853585\n",
            "Correlation to Class for  ONEOFF_PURCHASES_FREQUENCY 0.4490101142301152\n",
            "Correlation to Class for  PURCHASES_INSTALLMENTS_FREQUENCY 0.798918146252267\n",
            "Correlation to Class for  CASH_ADVANCE_FREQUENCY -0.24354911963745834\n",
            "Correlation to Class for  CASH_ADVANCE_TRX -0.155168623483919\n",
            "Correlation to Class for  PURCHASES_TRX 0.5176416770591831\n",
            "Correlation to Class for  CREDIT_LIMIT 0.10493081759365298\n",
            "Correlation to Class for  PAYMENTS 0.10065122200909772\n",
            "Correlation to Class for  MINIMUM_PAYMENTS 0.012805165805485921\n",
            "Correlation to Class for  PRC_FULL_PAYMENT 0.27544566793390013\n",
            "Correlation to Class for  TENURE 0.03912549673062846\n",
            "Correlation to Class for  target 1.0\n"
          ]
        }
      ]
    },
    {
      "cell_type": "markdown",
      "source": [
        "This would guide my decision towards feature selection for my classification model."
      ],
      "metadata": {
        "id": "OesPZLNWYjjW"
      }
    },
    {
      "cell_type": "markdown",
      "source": [
        "### **Prep Data for Machine Learning with Pyspar**k\n",
        "\n",
        "Prepare Data for Machine Learning algorithm. Divide data into only two columns since spark support two columns only, one for features and the second one is label [Class/Y]"
      ],
      "metadata": {
        "id": "gmH0qHPDO5od"
      }
    },
    {
      "cell_type": "code",
      "source": [
        "# Spark support only two columns during training one for features and second one is labels\n",
        "# Vector Assembler is used to assemble all the features used for training \n",
        "# Y (Class) in the label where to train a Classification model for estimating the \n",
        "# default payment\n",
        "\n",
        "from pyspark.ml.feature import VectorAssembler\n",
        "vectorAssembler = VectorAssembler(inputCols = ['PURCHASES_FREQUENCY', 'BALANCE', 'PURCHASES_INSTALLMENTS_FREQUENCY', \n",
        "    'PRC_FULL_PAYMENT', 'PURCHASES', 'CASH_ADVANCE_FREQUENCY'], outputCol = 'features')\n",
        "\n",
        "\n",
        "default_df = vectorAssembler.transform(training_cl)\n",
        "\n",
        "default_df= default_df.select(['features', 'target'])\n",
        "default_df.show()\n"
      ],
      "metadata": {
        "colab": {
          "base_uri": "https://localhost:8080/"
        },
        "id": "mRQu4YPGOtwn",
        "outputId": "3ef2062a-c0fb-474d-f3c3-9f76d2442580"
      },
      "execution_count": null,
      "outputs": [
        {
          "output_type": "stream",
          "name": "stdout",
          "text": [
            "+--------------------+------+\n",
            "|            features|target|\n",
            "+--------------------+------+\n",
            "|[0.916667,105.069...|   1.0|\n",
            "|(6,[1,5],[2446.70...|   0.0|\n",
            "|(6,[1,5],[295.374...|   0.0|\n",
            "|[1.0,822.755885,0...|   1.0|\n",
            "|[0.0,4433.582508,...|   0.0|\n",
            "|(6,[1,5],[2785.58...|   0.0|\n",
            "|[0.833333,10116.7...|   1.0|\n",
            "|(6,[1,5],[9440.79...|   0.0|\n",
            "|[0.333333,1435.97...|   0.0|\n",
            "|[1.0,1160.514847,...|   1.0|\n",
            "|[0.083333,634.759...|   0.0|\n",
            "|[1.0,45.785125,0....|   1.0|\n",
            "|[0.166667,968.504...|   0.0|\n",
            "|[1.0,200.806352,0...|   1.0|\n",
            "|[0.583333,1634.55...|   1.0|\n",
            "|[0.5,1839.926709,...|   0.0|\n",
            "|[1.0,6743.313868,...|   1.0|\n",
            "|(6,[1,5],[1267.05...|   0.0|\n",
            "|[0.166667,2778.73...|   0.0|\n",
            "|[0.333333,1138.59...|   0.0|\n",
            "+--------------------+------+\n",
            "only showing top 20 rows\n",
            "\n"
          ]
        }
      ]
    },
    {
      "cell_type": "code",
      "source": [
        "# Splitting data into training and testing 80% training and 20% testing\n",
        "weights = [.8, .2]\n",
        "#seed = 42 # seed=0L\n",
        "rawTrainData, rawValidationData = default_df.randomSplit(weights)"
      ],
      "metadata": {
        "id": "Kae6lWNzRWnD"
      },
      "execution_count": null,
      "outputs": []
    },
    {
      "cell_type": "code",
      "source": [
        "rawValidationData .show(100) #test dataset"
      ],
      "metadata": {
        "colab": {
          "base_uri": "https://localhost:8080/"
        },
        "id": "xGL5ZONwRqmk",
        "outputId": "1b543b8d-622c-4e7d-d07d-9a48cf03bcaf"
      },
      "execution_count": null,
      "outputs": [
        {
          "output_type": "stream",
          "name": "stdout",
          "text": [
            "+--------------------+------+\n",
            "|            features|target|\n",
            "+--------------------+------+\n",
            "|(6,[1,5],[4.81721...|   0.0|\n",
            "|(6,[1,5],[37.3247...|   0.0|\n",
            "|(6,[1,5],[40.7642...|   0.0|\n",
            "|(6,[1,5],[45.1608...|   0.0|\n",
            "|(6,[1,5],[46.9965...|   0.0|\n",
            "|(6,[1,5],[71.8373...|   0.0|\n",
            "|(6,[1,5],[85.9007...|   0.0|\n",
            "|(6,[1,5],[116.172...|   0.0|\n",
            "|(6,[1,5],[123.822...|   0.0|\n",
            "|(6,[1,5],[134.613...|   0.0|\n",
            "|(6,[1,5],[137.507...|   0.0|\n",
            "|(6,[1,5],[150.897...|   0.0|\n",
            "|(6,[1,5],[153.602...|   0.0|\n",
            "|(6,[1,5],[173.075...|   0.0|\n",
            "|(6,[1,5],[174.909...|   0.0|\n",
            "|(6,[1,5],[195.361...|   0.0|\n",
            "|(6,[1,5],[197.159...|   0.0|\n",
            "|(6,[1,5],[211.162...|   0.0|\n",
            "|(6,[1,5],[214.592...|   0.0|\n",
            "|(6,[1,5],[218.890...|   0.0|\n",
            "|(6,[1,5],[229.272...|   0.0|\n",
            "|(6,[1,5],[249.489...|   0.0|\n",
            "|(6,[1,5],[298.651...|   0.0|\n",
            "|(6,[1,5],[300.819...|   0.0|\n",
            "|(6,[1,5],[303.740...|   0.0|\n",
            "|(6,[1,5],[312.197...|   0.0|\n",
            "|(6,[1,5],[323.801...|   0.0|\n",
            "|(6,[1,5],[324.334...|   0.0|\n",
            "|(6,[1,5],[350.306...|   0.0|\n",
            "|(6,[1,5],[376.997...|   0.0|\n",
            "|(6,[1,5],[390.008...|   0.0|\n",
            "|(6,[1,5],[435.490...|   0.0|\n",
            "|(6,[1,5],[443.339...|   0.0|\n",
            "|(6,[1,5],[445.179...|   0.0|\n",
            "|(6,[1,5],[452.907...|   0.0|\n",
            "|(6,[1,5],[460.331...|   0.0|\n",
            "|(6,[1,5],[468.851...|   0.0|\n",
            "|(6,[1,5],[526.858...|   0.0|\n",
            "|(6,[1,5],[539.162...|   0.0|\n",
            "|(6,[1,5],[561.157...|   0.0|\n",
            "|(6,[1,5],[587.625...|   0.0|\n",
            "|(6,[1,5],[617.413...|   0.0|\n",
            "|(6,[1,5],[624.633...|   0.0|\n",
            "|(6,[1,5],[653.881...|   0.0|\n",
            "|(6,[1,5],[662.691...|   0.0|\n",
            "|(6,[1,5],[664.911...|   0.0|\n",
            "|(6,[1,5],[683.391...|   0.0|\n",
            "|(6,[1,5],[694.707...|   0.0|\n",
            "|(6,[1,5],[722.855...|   0.0|\n",
            "|(6,[1,5],[741.053...|   0.0|\n",
            "|(6,[1,5],[804.006...|   0.0|\n",
            "|(6,[1,5],[811.638...|   0.0|\n",
            "|(6,[1,5],[819.462...|   0.0|\n",
            "|(6,[1,5],[825.207...|   0.0|\n",
            "|(6,[1,5],[827.000...|   0.0|\n",
            "|(6,[1,5],[834.789...|   0.0|\n",
            "|(6,[1,5],[844.022...|   0.0|\n",
            "|(6,[1,5],[884.230...|   0.0|\n",
            "|(6,[1,5],[895.308...|   0.0|\n",
            "|(6,[1,5],[912.912...|   0.0|\n",
            "|(6,[1,5],[918.227...|   0.0|\n",
            "|(6,[1,5],[952.260...|   0.0|\n",
            "|(6,[1,5],[954.617...|   0.0|\n",
            "|(6,[1,5],[970.598...|   0.0|\n",
            "|(6,[1,5],[1000.81...|   0.0|\n",
            "|(6,[1,5],[1002.79...|   0.0|\n",
            "|(6,[1,5],[1017.98...|   0.0|\n",
            "|(6,[1,5],[1040.03...|   0.0|\n",
            "|(6,[1,5],[1044.87...|   0.0|\n",
            "|(6,[1,5],[1050.52...|   0.0|\n",
            "|(6,[1,5],[1052.79...|   0.0|\n",
            "|(6,[1,5],[1054.41...|   0.0|\n",
            "|(6,[1,5],[1056.98...|   0.0|\n",
            "|(6,[1,5],[1060.34...|   0.0|\n",
            "|(6,[1,5],[1061.57...|   0.0|\n",
            "|(6,[1,5],[1064.47...|   0.0|\n",
            "|(6,[1,5],[1080.85...|   0.0|\n",
            "|(6,[1,5],[1085.31...|   0.0|\n",
            "|(6,[1,5],[1087.56...|   0.0|\n",
            "|(6,[1,5],[1098.45...|   0.0|\n",
            "|(6,[1,5],[1101.85...|   0.0|\n",
            "|(6,[1,5],[1109.87...|   0.0|\n",
            "|(6,[1,5],[1142.30...|   0.0|\n",
            "|(6,[1,5],[1143.33...|   0.0|\n",
            "|(6,[1,5],[1155.97...|   0.0|\n",
            "|(6,[1,5],[1157.30...|   0.0|\n",
            "|(6,[1,5],[1159.61...|   0.0|\n",
            "|(6,[1,5],[1179.61...|   0.0|\n",
            "|(6,[1,5],[1184.97...|   0.0|\n",
            "|(6,[1,5],[1199.66...|   0.0|\n",
            "|(6,[1,5],[1207.76...|   0.0|\n",
            "|(6,[1,5],[1219.04...|   0.0|\n",
            "|(6,[1,5],[1243.25...|   0.0|\n",
            "|(6,[1,5],[1274.54...|   0.0|\n",
            "|(6,[1,5],[1286.78...|   0.0|\n",
            "|(6,[1,5],[1305.88...|   0.0|\n",
            "|(6,[1,5],[1322.00...|   0.0|\n",
            "|(6,[1,5],[1411.91...|   0.0|\n",
            "|(6,[1,5],[1418.83...|   0.0|\n",
            "|(6,[1,5],[1433.40...|   0.0|\n",
            "+--------------------+------+\n",
            "only showing top 100 rows\n",
            "\n"
          ]
        }
      ]
    },
    {
      "cell_type": "markdown",
      "source": [
        "### **Logistic Regression- Classification**"
      ],
      "metadata": {
        "id": "jlvcU8HISCrV"
      }
    },
    {
      "cell_type": "code",
      "source": [
        "# training the logistic regression madel\n",
        "from pyspark.ml.classification import LogisticRegression\n",
        "lr =  LogisticRegression(featuresCol = 'features', \n",
        "                         labelCol='target', maxIter=10, regParam=0.3, elasticNetParam=0.8)\n",
        "\n",
        "lr_model = lr.fit(rawTrainData)\n",
        "\n",
        "print(\"Coefficients: \" + str(lr_model.coefficients))\n",
        "print(\"Intercept: \" + str(lr_model.intercept))"
      ],
      "metadata": {
        "colab": {
          "base_uri": "https://localhost:8080/"
        },
        "id": "3Mae755YR-Ar",
        "outputId": "2317cba3-1588-4ca4-c89d-b00cdd218227"
      },
      "execution_count": null,
      "outputs": [
        {
          "output_type": "stream",
          "name": "stdout",
          "text": [
            "Coefficients: [1.6735319539883504,0.0,0.20236884315549838,0.0,0.0,0.0]\n",
            "Intercept: -1.0743069568479464\n"
          ]
        }
      ]
    },
    {
      "cell_type": "code",
      "source": [
        "# Summary of the training data \n",
        "# Extract the summary from the returned LogisticRegressionModel instance trained\n",
        "# in the earlier step\n",
        "\n",
        "trainingSummary = lr_model.summary\n",
        "\n",
        "# Obtain the objective per iteration\n",
        "objectiveHistory = trainingSummary.objectiveHistory\n",
        "print(\"objectiveHistory:\")\n",
        "for objective in objectiveHistory:\n",
        "    print(objective)\n",
        "\n",
        "# Obtain the receiver-operating characteristic as a dataframe and areaUnderROC.\n",
        "trainingSummary.roc.show()\n",
        "print(\"areaUnderROC: \" + str(trainingSummary.areaUnderROC))\n",
        "\n",
        "# Set the model threshold to maximize F-Measure\n",
        "fMeasure = trainingSummary.fMeasureByThreshold\n",
        "maxFMeasure = fMeasure.groupBy().max('F-Measure').select('max(F-Measure)').head()\n",
        "bestThreshold = fMeasure.where(fMeasure['F-Measure'] == maxFMeasure['max(F-Measure)']) \\\n",
        "    .select('threshold').head()['threshold']\n",
        "lr.setThreshold(bestThreshold)"
      ],
      "metadata": {
        "colab": {
          "base_uri": "https://localhost:8080/"
        },
        "id": "00lU6jiaSwjK",
        "outputId": "f3d9d766-4717-4b2d-8d5a-2762d03d0863"
      },
      "execution_count": null,
      "outputs": [
        {
          "output_type": "stream",
          "name": "stdout",
          "text": [
            "objectiveHistory:\n",
            "0.6909642284923642\n",
            "0.6804386095922033\n",
            "0.6523831617465304\n",
            "0.6463881327943434\n",
            "0.6228766291967845\n",
            "0.6175130865995994\n",
            "0.6157398706208057\n",
            "0.6142618359967075\n",
            "0.6138514489607172\n",
            "0.6125688172646736\n",
            "0.6124232516380379\n",
            "+---+-------------------+\n",
            "|FPR|                TPR|\n",
            "+---+-------------------+\n",
            "|0.0|                0.0|\n",
            "|0.0| 0.3739886125262212|\n",
            "|0.0|0.38267905304165417|\n",
            "|0.0| 0.3958645489961043|\n",
            "|0.0| 0.4294276296074318|\n",
            "|0.0| 0.4396164219358705|\n",
            "|0.0| 0.4408151033862751|\n",
            "|0.0|0.44920587353910696|\n",
            "|0.0|0.44980521426430925|\n",
            "|0.0| 0.4626910398561582|\n",
            "|0.0| 0.4632903805813605|\n",
            "|0.0|0.47228049145939466|\n",
            "|0.0|0.47677554689841173|\n",
            "|0.0| 0.4824692837878334|\n",
            "|0.0| 0.5151333533113575|\n",
            "|0.0| 0.5418040155828588|\n",
            "|0.0| 0.5495954450104885|\n",
            "|0.0| 0.5954450104884627|\n",
            "|0.0| 0.6053341324543002|\n",
            "|0.0| 0.6074318249925083|\n",
            "+---+-------------------+\n",
            "only showing top 20 rows\n",
            "\n",
            "areaUnderROC: 0.9999831637023899\n"
          ]
        },
        {
          "output_type": "execute_result",
          "data": {
            "text/plain": [
              "LogisticRegression_b74ebf22427d"
            ]
          },
          "metadata": {},
          "execution_count": 65
        }
      ]
    },
    {
      "cell_type": "code",
      "source": [
        "rawTrainData.describe().show()"
      ],
      "metadata": {
        "colab": {
          "base_uri": "https://localhost:8080/"
        },
        "id": "_OqFzSypTOG-",
        "outputId": "916e2fdc-d5c0-499f-f42c-16b283c1352d"
      },
      "execution_count": null,
      "outputs": [
        {
          "output_type": "stream",
          "name": "stdout",
          "text": [
            "+-------+-------------------+\n",
            "|summary|             target|\n",
            "+-------+-------------------+\n",
            "|  count|               7146|\n",
            "|   mean|0.46697453120626925|\n",
            "| stddev| 0.4989430380960091|\n",
            "|    min|                0.0|\n",
            "|    max|                1.0|\n",
            "+-------+-------------------+\n",
            "\n"
          ]
        }
      ]
    },
    {
      "cell_type": "markdown",
      "source": [
        "### **Testing the Logistic Regression (Classification Model)**"
      ],
      "metadata": {
        "id": "ls-wTGTDTQA8"
      }
    },
    {
      "cell_type": "code",
      "source": [
        "# Testing the trained logistic regression model\n",
        "\n",
        "from pyspark.ml.evaluation import MulticlassClassificationEvaluator\n",
        "\n",
        "lr_predictions = lr_model.transform(rawValidationData)\n",
        "lr_predictions.select(\"prediction\",\"target\",\"features\").show(8)\n",
        "\n",
        "# Select (prediction, true label) and compute test error\n",
        "\n",
        "evaluator = MulticlassClassificationEvaluator(\n",
        "    labelCol=\"target\", predictionCol=\"prediction\", metricName=\"accuracy\")\n",
        "accuracy = evaluator.evaluate(lr_predictions)\n",
        "\n",
        "print(\"Test Error = %g \" % (1.0 - accuracy))\n",
        "print(\"Accuracy = %g \" % ( accuracy))"
      ],
      "metadata": {
        "colab": {
          "base_uri": "https://localhost:8080/"
        },
        "id": "4oJl4mcjTUnh",
        "outputId": "3f5cd4a9-8178-4f1f-c9aa-bcc2ed50ba72"
      },
      "execution_count": null,
      "outputs": [
        {
          "output_type": "stream",
          "name": "stdout",
          "text": [
            "+----------+------+--------------------+\n",
            "|prediction|target|            features|\n",
            "+----------+------+--------------------+\n",
            "|       0.0|   0.0|(6,[1,5],[4.81721...|\n",
            "|       0.0|   0.0|(6,[1,5],[37.3247...|\n",
            "|       0.0|   0.0|(6,[1,5],[40.7642...|\n",
            "|       0.0|   0.0|(6,[1,5],[45.1608...|\n",
            "|       0.0|   0.0|(6,[1,5],[46.9965...|\n",
            "|       0.0|   0.0|(6,[1,5],[71.8373...|\n",
            "|       0.0|   0.0|(6,[1,5],[85.9007...|\n",
            "|       0.0|   0.0|(6,[1,5],[116.172...|\n",
            "+----------+------+--------------------+\n",
            "only showing top 8 rows\n",
            "\n",
            "Test Error = 0.0199557 \n",
            "Accuracy = 0.980044 \n"
          ]
        }
      ]
    },
    {
      "cell_type": "code",
      "source": [
        "from pyspark.ml.evaluation import BinaryClassificationEvaluator\n",
        "\n",
        "areaUnderROC_Test = BinaryClassificationEvaluator(metricName = 'areaUnderROC', labelCol=\"target\")\n",
        "ART = areaUnderROC_Test.evaluate(lr_predictions)\n",
        "print(\"Area Under Curve test\",ART)"
      ],
      "metadata": {
        "colab": {
          "base_uri": "https://localhost:8080/"
        },
        "id": "AlfJ9K6BTdm9",
        "outputId": "fd233b36-6f34-4893-bff4-2d25cc33f0c6"
      },
      "execution_count": null,
      "outputs": [
        {
          "output_type": "stream",
          "name": "stdout",
          "text": [
            "Area Under Curve test 0.9998161810368383\n"
          ]
        }
      ]
    },
    {
      "cell_type": "markdown",
      "source": [
        "## **Clustering with Pyspark**\n",
        "\n"
      ],
      "metadata": {
        "id": "EH8-srO8UKiG"
      }
    },
    {
      "cell_type": "markdown",
      "source": [
        "**Bisecting k-means**\n",
        "\n",
        "\n",
        "Bisecting k-means is a kind of hierarchical clustering using a divisive (or “top-down”) approach: all observations start in one cluster, and splits are performed recursively as one moves down the hierarchy.\n",
        "\n",
        "Bisecting K-means can often be much faster than regular K-means, but it will generally produce a different clustering.\n",
        "\n",
        "BisectingKMeans is implemented as an Estimator and generates a BisectingKMeansModel as the base model.\n",
        "\n",
        "\n"
      ],
      "metadata": {
        "id": "gmE8C20noFJ9"
      }
    },
    {
      "cell_type": "code",
      "source": [
        "from pyspark.ml.clustering import BisectingKMeans\n",
        "from pyspark.ml.evaluation import ClusteringEvaluator\n",
        "\n",
        "\n",
        "# Trains a bisecting k-means model.\n",
        "bkm = BisectingKMeans().setK(2).setSeed(1)\n",
        "model = bkm.fit(default_df)\n",
        "\n",
        "# Make predictions\n",
        "predictions_cl = model.transform(default_df)\n",
        "\n",
        "\n",
        "# Silhouette score\n",
        "# Evaluate the predictions using the Silhouette score.\n",
        "# Evaluate clustering by computing Silhouette score\n",
        "evaluator = ClusteringEvaluator()\n",
        "\n",
        "silhouette = evaluator.evaluate(predictions_cl)\n",
        "print(\"Silhouette with squared euclidean distance = \" + str(silhouette))\n",
        "\n",
        "\n",
        "\n",
        "\n",
        "# Shows the result.\n",
        "print(\"Cluster Centers: \")\n",
        "centers = model.clusterCenters()\n",
        "for center in centers:\n",
        "    print(center)"
      ],
      "metadata": {
        "colab": {
          "base_uri": "https://localhost:8080/"
        },
        "id": "FeaUx3ADmD8n",
        "outputId": "1e015a87-3f10-4c6d-9783-f29a4b4098dc"
      },
      "execution_count": null,
      "outputs": [
        {
          "output_type": "stream",
          "name": "stdout",
          "text": [
            "Silhouette with squared euclidean distance = 0.7647965640889247\n",
            "Cluster Centers: \n",
            "[4.82562570e-01 8.85739513e+02 3.57625981e-01 1.72003256e-01\n",
            " 7.22821457e+02 1.09915274e-01]\n",
            "[5.36097446e-01 5.55139318e+03 4.04447545e-01 4.62866390e-02\n",
            " 2.65018799e+03 2.83339922e-01]\n"
          ]
        }
      ]
    },
    {
      "cell_type": "markdown",
      "source": [
        "**Prediction**"
      ],
      "metadata": {
        "id": "BsFIJpRgs3HK"
      }
    },
    {
      "cell_type": "code",
      "source": [
        "predictions_cl.select(\"features\",\"prediction\").limit(5).toPandas()"
      ],
      "metadata": {
        "colab": {
          "base_uri": "https://localhost:8080/",
          "height": 206
        },
        "id": "7L5E7IrhoMwb",
        "outputId": "597ec1b1-b733-4635-da36-28942e61f78d"
      },
      "execution_count": null,
      "outputs": [
        {
          "output_type": "execute_result",
          "data": {
            "text/html": [
              "\n",
              "  <div id=\"df-d2d4d918-19ff-40a0-86c9-89425c7d6505\">\n",
              "    <div class=\"colab-df-container\">\n",
              "      <div>\n",
              "<style scoped>\n",
              "    .dataframe tbody tr th:only-of-type {\n",
              "        vertical-align: middle;\n",
              "    }\n",
              "\n",
              "    .dataframe tbody tr th {\n",
              "        vertical-align: top;\n",
              "    }\n",
              "\n",
              "    .dataframe thead th {\n",
              "        text-align: right;\n",
              "    }\n",
              "</style>\n",
              "<table border=\"1\" class=\"dataframe\">\n",
              "  <thead>\n",
              "    <tr style=\"text-align: right;\">\n",
              "      <th></th>\n",
              "      <th>features</th>\n",
              "      <th>prediction</th>\n",
              "    </tr>\n",
              "  </thead>\n",
              "  <tbody>\n",
              "    <tr>\n",
              "      <th>0</th>\n",
              "      <td>[0.916667, 105.069311, 0.0, 0.25, 1344.87, 0.0]</td>\n",
              "      <td>0</td>\n",
              "    </tr>\n",
              "    <tr>\n",
              "      <th>1</th>\n",
              "      <td>(0.0, 2446.709596, 0.0, 0.0, 0.0, 0.25)</td>\n",
              "      <td>0</td>\n",
              "    </tr>\n",
              "    <tr>\n",
              "      <th>2</th>\n",
              "      <td>(0.0, 295.374207, 0.0, 0.0, 0.0, 0.25)</td>\n",
              "      <td>0</td>\n",
              "    </tr>\n",
              "    <tr>\n",
              "      <th>3</th>\n",
              "      <td>[1.0, 822.755885, 0.571429, 0.0, 531.14, 0.0]</td>\n",
              "      <td>0</td>\n",
              "    </tr>\n",
              "    <tr>\n",
              "      <th>4</th>\n",
              "      <td>[0.0, 4433.582508, 0.0, 0.083333, 0.0, 0.416667]</td>\n",
              "      <td>1</td>\n",
              "    </tr>\n",
              "  </tbody>\n",
              "</table>\n",
              "</div>\n",
              "      <button class=\"colab-df-convert\" onclick=\"convertToInteractive('df-d2d4d918-19ff-40a0-86c9-89425c7d6505')\"\n",
              "              title=\"Convert this dataframe to an interactive table.\"\n",
              "              style=\"display:none;\">\n",
              "        \n",
              "  <svg xmlns=\"http://www.w3.org/2000/svg\" height=\"24px\"viewBox=\"0 0 24 24\"\n",
              "       width=\"24px\">\n",
              "    <path d=\"M0 0h24v24H0V0z\" fill=\"none\"/>\n",
              "    <path d=\"M18.56 5.44l.94 2.06.94-2.06 2.06-.94-2.06-.94-.94-2.06-.94 2.06-2.06.94zm-11 1L8.5 8.5l.94-2.06 2.06-.94-2.06-.94L8.5 2.5l-.94 2.06-2.06.94zm10 10l.94 2.06.94-2.06 2.06-.94-2.06-.94-.94-2.06-.94 2.06-2.06.94z\"/><path d=\"M17.41 7.96l-1.37-1.37c-.4-.4-.92-.59-1.43-.59-.52 0-1.04.2-1.43.59L10.3 9.45l-7.72 7.72c-.78.78-.78 2.05 0 2.83L4 21.41c.39.39.9.59 1.41.59.51 0 1.02-.2 1.41-.59l7.78-7.78 2.81-2.81c.8-.78.8-2.07 0-2.86zM5.41 20L4 18.59l7.72-7.72 1.47 1.35L5.41 20z\"/>\n",
              "  </svg>\n",
              "      </button>\n",
              "      \n",
              "  <style>\n",
              "    .colab-df-container {\n",
              "      display:flex;\n",
              "      flex-wrap:wrap;\n",
              "      gap: 12px;\n",
              "    }\n",
              "\n",
              "    .colab-df-convert {\n",
              "      background-color: #E8F0FE;\n",
              "      border: none;\n",
              "      border-radius: 50%;\n",
              "      cursor: pointer;\n",
              "      display: none;\n",
              "      fill: #1967D2;\n",
              "      height: 32px;\n",
              "      padding: 0 0 0 0;\n",
              "      width: 32px;\n",
              "    }\n",
              "\n",
              "    .colab-df-convert:hover {\n",
              "      background-color: #E2EBFA;\n",
              "      box-shadow: 0px 1px 2px rgba(60, 64, 67, 0.3), 0px 1px 3px 1px rgba(60, 64, 67, 0.15);\n",
              "      fill: #174EA6;\n",
              "    }\n",
              "\n",
              "    [theme=dark] .colab-df-convert {\n",
              "      background-color: #3B4455;\n",
              "      fill: #D2E3FC;\n",
              "    }\n",
              "\n",
              "    [theme=dark] .colab-df-convert:hover {\n",
              "      background-color: #434B5C;\n",
              "      box-shadow: 0px 1px 3px 1px rgba(0, 0, 0, 0.15);\n",
              "      filter: drop-shadow(0px 1px 2px rgba(0, 0, 0, 0.3));\n",
              "      fill: #FFFFFF;\n",
              "    }\n",
              "  </style>\n",
              "\n",
              "      <script>\n",
              "        const buttonEl =\n",
              "          document.querySelector('#df-d2d4d918-19ff-40a0-86c9-89425c7d6505 button.colab-df-convert');\n",
              "        buttonEl.style.display =\n",
              "          google.colab.kernel.accessAllowed ? 'block' : 'none';\n",
              "\n",
              "        async function convertToInteractive(key) {\n",
              "          const element = document.querySelector('#df-d2d4d918-19ff-40a0-86c9-89425c7d6505');\n",
              "          const dataTable =\n",
              "            await google.colab.kernel.invokeFunction('convertToInteractive',\n",
              "                                                     [key], {});\n",
              "          if (!dataTable) return;\n",
              "\n",
              "          const docLinkHtml = 'Like what you see? Visit the ' +\n",
              "            '<a target=\"_blank\" href=https://colab.research.google.com/notebooks/data_table.ipynb>data table notebook</a>'\n",
              "            + ' to learn more about interactive tables.';\n",
              "          element.innerHTML = '';\n",
              "          dataTable['output_type'] = 'display_data';\n",
              "          await google.colab.output.renderOutput(dataTable, element);\n",
              "          const docLink = document.createElement('div');\n",
              "          docLink.innerHTML = docLinkHtml;\n",
              "          element.appendChild(docLink);\n",
              "        }\n",
              "      </script>\n",
              "    </div>\n",
              "  </div>\n",
              "  "
            ],
            "text/plain": [
              "                                           features  prediction\n",
              "0   [0.916667, 105.069311, 0.0, 0.25, 1344.87, 0.0]           0\n",
              "1           (0.0, 2446.709596, 0.0, 0.0, 0.0, 0.25)           0\n",
              "2            (0.0, 295.374207, 0.0, 0.0, 0.0, 0.25)           0\n",
              "3     [1.0, 822.755885, 0.571429, 0.0, 531.14, 0.0]           0\n",
              "4  [0.0, 4433.582508, 0.0, 0.083333, 0.0, 0.416667]           1"
            ]
          },
          "metadata": {},
          "execution_count": 70
        }
      ]
    },
    {
      "cell_type": "markdown",
      "source": [
        "###  **Cluster frequencies**"
      ],
      "metadata": {
        "id": "H1SM4p_FsfLc"
      }
    },
    {
      "cell_type": "code",
      "source": [
        "predictions_cl.groupBy('prediction').count().show()"
      ],
      "metadata": {
        "colab": {
          "base_uri": "https://localhost:8080/"
        },
        "id": "P5mOwKdtsb1V",
        "outputId": "ed72744f-0875-4535-b9a4-31bd6163053b"
      },
      "execution_count": null,
      "outputs": [
        {
          "output_type": "stream",
          "name": "stdout",
          "text": [
            "+----------+-----+\n",
            "|prediction|count|\n",
            "+----------+-----+\n",
            "|         1| 1302|\n",
            "|         0| 7648|\n",
            "+----------+-----+\n",
            "\n"
          ]
        }
      ]
    },
    {
      "cell_type": "markdown",
      "source": [
        "### **Note:**\n",
        "\n",
        "**Use toPandas restrictedly:** We want to avoid loading data into memory, calling toPandas() would do this and actually prevent operations from being performed in a distributed mode. Though it could be used say when the data is already aggregated, yet avoid using it for large dataframes."
      ],
      "metadata": {
        "id": "J6D6wzBHl_4Y"
      }
    }
  ]
}