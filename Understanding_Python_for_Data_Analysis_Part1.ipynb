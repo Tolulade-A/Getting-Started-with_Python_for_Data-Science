{
  "nbformat": 4,
  "nbformat_minor": 0,
  "metadata": {
    "colab": {
      "name": "Understanding Python for Data Analysis_Part1.ipynb",
      "provenance": [],
      "mount_file_id": "1v437s3KJcnU884HJ3mpXWAVhj0giPLOV",
      "authorship_tag": "ABX9TyO0/4oyfjmIuL6ZnBMw0yoE"
    },
    "kernelspec": {
      "name": "python3",
      "display_name": "Python 3"
    },
    "language_info": {
      "name": "python"
    }
  },
  "cells": [
    {
      "cell_type": "markdown",
      "source": [
        "# **Introduction**\n",
        "\n",
        "**A Presentation made for:** **Learning on the Go**\n",
        "\n",
        "**Facilitator:**  **Tolulade Ademisoye** \n",
        "\n",
        "This notebook is a basic record to guide folks with no idea about data science with python. It's basic material guide for begineers and **should not** be taken as a **professional text**.\n",
        "\n",
        "---\n",
        "\n",
        "Things we will cover here;\n",
        "\n",
        "\n",
        "1.   Data Extraction Process\n",
        "2.   Data Pre-processing\n",
        "3.   Data Cleaning\n",
        "4.   Exploratory Data Analysis\n",
        "5.   Conclusions\n",
        "\n"
      ],
      "metadata": {
        "id": "PFy68OSPjaH_"
      }
    },
    {
      "cell_type": "markdown",
      "source": [
        "## **Python Libraries for Data Science**\n",
        "\n",
        "\n",
        "*   **Pandas** - dataframe\n",
        "*   **Numpy** - maths\n",
        "*   **Matplotlib** - visual plot\n",
        "*   **Seaborn**- visual plot\n",
        "*   **Raceplot** - Interactive Plots\n",
        "*   **SciPy** - High level computations\n",
        "*   **Scrapy** - web data extraction\n",
        "*   **BeautifulSoup** - web data extraction\n",
        "\n",
        "Etc\n",
        "\n",
        "---\n",
        "\n",
        "\n",
        "**Machine Learning**\n",
        "\n",
        "*   **TensorFlow** - framework for neural network, speech recognition etc\n",
        "*   **Keras** - deep learning\n",
        "*   **Pytorch** - deep learning too etc\n",
        "*   **Scikit-learn** - contains most ml algorithms *(clustering, classification, regression, model selection, dimensionality reduction)*\n",
        "\n",
        "Etc\n",
        "\n",
        "[More on libraries:](https://www.dataquest.io/blog/15-python-libraries-for-data-science/) \n",
        "\n",
        "[Libraries](https://www.simplilearn.com/top-python-libraries-for-data-science-article)\n",
        "\n",
        "\n",
        "\n",
        "\n"
      ],
      "metadata": {
        "id": "tN73xU_yPbqc"
      }
    },
    {
      "cell_type": "markdown",
      "source": [
        "### **Python Data Types**\n",
        "\n",
        "In Python, the **data type** is set when you assign a value to **a variable**:\n",
        "\n",
        "**Built-in Data Types**\n",
        "\n",
        "\n",
        "*Variables* can store data of different types, and different types can do different things.\n",
        "\n",
        "Python has the following data types built-in by default, in these categories:\n",
        "\n",
        "**Text Type**:\t`str`\n",
        "\n",
        "**Numeric Types**:\t`int, float, complex`\n",
        "\n",
        "**Sequence Types**:\t`list, tuple, range`\n",
        "\n",
        "**Mapping Type**:\t`dict`\n",
        "\n",
        "**Set Types**:\t`set, frozenset`\n",
        "\n",
        "**Boolean Type**:\t`bool`\n",
        "\n",
        "**Binary Types**:\t`bytes, bytearray, memoryview`"
      ],
      "metadata": {
        "id": "jv7OUUnpgCMz"
      }
    },
    {
      "cell_type": "code",
      "source": [
        "#Print the data type of the variable x:\n",
        "x = 5\n",
        "print(type(x))"
      ],
      "metadata": {
        "id": "u8ELjQ3Ng9jE"
      },
      "execution_count": null,
      "outputs": []
    },
    {
      "cell_type": "code",
      "source": [
        "#Example\tData Type\tTry it\n",
        "x = \"Hello World\"\t#str\t\n",
        "x = 20\t#int\t\n",
        "x = 20.5\t#float\t\n",
        "x = 1j\t#complex\t\n",
        "x = [\"apple\", \"banana\", \"cherry\"]\t#list\t\n",
        "x = (\"apple\", \"banana\", \"cherry\")\t#tuple\t\n",
        "x = range(6)\t#range\t\n",
        "x = {\"name\" : \"John\", \"age\" : 36}\t#dict\t\n",
        "x = {\"apple\", \"banana\", \"cherry\"}\t#set\t\n",
        "x = frozenset({\"apple\", \"banana\", \"cherry\"})\t#frozenset\t\n",
        "x = True\t#bool\t\n",
        "x = b\"Hello\"\t#bytes\t\n",
        "x = bytearray(5)\t#bytearray\t\n",
        "x = memoryview(bytes(5))\t#memoryview"
      ],
      "metadata": {
        "id": "b4bcPtZAhHpG"
      },
      "execution_count": null,
      "outputs": []
    },
    {
      "cell_type": "markdown",
      "source": [
        "**Setting the Specific Data Type**\n",
        "\n",
        "You can run this individually!"
      ],
      "metadata": {
        "id": "tNZ_kYA6h7WH"
      }
    },
    {
      "cell_type": "code",
      "source": [
        "x = str(\"Hello World\")\t#str\t\n",
        "x = int(20)\t#int\t\n",
        "x = float(20.5)\t#float\t\n",
        "x = complex(1j)\t#complex\t\n",
        "x = list((\"apple\", \"banana\", \"cherry\"))\t#list\t\n",
        "x = tuple((\"apple\", \"banana\", \"cherry\"))\t#tuple\t\n",
        "x = range(6)\t#range\t\n",
        "x = dict(name=\"John\", age=36)\t#dict\t\n",
        "x = set((\"apple\", \"banana\", \"cherry\"))\t#set\t\n",
        "x = frozenset((\"apple\", \"banana\", \"cherry\"))\t#frozenset\t\n",
        "x = bool(5)\t#bool\t\n",
        "x = bytes(5)\t#bytes\t\n",
        "x = bytearray(5)\t#bytearray\t\n",
        "x = memoryview(bytes(5))\t#memoryview"
      ],
      "metadata": {
        "id": "O9qrGL_Ah8og"
      },
      "execution_count": null,
      "outputs": []
    },
    {
      "cell_type": "markdown",
      "source": [
        "### **Python Data Structures**\n",
        "\n",
        "**Lists, sets, tuples, and dictionary** are the basic data structures in the Python programming language.\n",
        "\n",
        "1.  **Lists:** `List_A = [item 1, item 2, item 3….., item n]` A list is defined as an ordered collection of items.\n",
        "\n",
        "**Characteristics:**\n",
        "\n",
        "\n",
        "\n",
        "*   **Lists can be nested**: Can contain any type of object. It can include another list or a sublist, no limit.\n",
        "\n",
        "*   **Lists are mutable**: A user can search, add, shift, move, and delete elements from a list at their own will.\n",
        "\n",
        "\n",
        "---\n",
        "\n",
        "\n",
        "2. **Tuples**: A tuple is a built-in data structure in Python that is an ordered collection of objects. Unlike lists, tuples come with limited functionality. whereas tuples are **immutable**.\n",
        "\n",
        "`tuple_A = (item 1, item 2, item 3,…, item n)`. The use of parentheses in creating tuples is optional, but they are recommended to distinguish them.\n",
        "\n",
        "**Types:**\n",
        "\n",
        "\n",
        "\n",
        "*   Single Item Tuple: \n",
        "\n",
        "E.g some_tuple = (item 1, ).  use a comma after the item to enable python o differentiate between the tuple and the parentheses surrounding the object in the equation.\n",
        "\n",
        "*   Empty Tuple:\n",
        "\n",
        "`Empty_tuple= ( )`\n",
        "\n",
        "**Advantages of Tuple:**\n",
        "\n",
        "Tuples are immutable, so they can be used to prevent accidental addition, modification, or removal of data unlike Lists.\n",
        "\n",
        "\n",
        "---\n",
        "\n",
        "3. **Sets**: \n",
        "\n",
        "A unique collection of unique elements that do not follow a specific order. Sets are used when the existence of an object in a collection of objects is more important than the number of times it appears or the order of the objects. \n",
        "\n",
        "Unlike tuples, sets are mutable – they can be modified, added, replaced, or removed. A sample set can be represented as follows:\n",
        "\n",
        "**Characteristics:**\n",
        "\n",
        ".\n",
        "\n",
        "*   Sets are used to store multiple items in a single variable\n",
        "*   **Unordered**: Items in a set do not have a defined order\n",
        "*   **Unchanged**: Items cannot be changed after the set has been created.\n",
        "*   **Duplicates Not Allowed**\n",
        "\n",
        "\n",
        "`set_a = {“item 1”, “item 2”, “item 3”,….., “item n”}`\n",
        "\n",
        "\n",
        "**Create a Set**:\n",
        "\n",
        "`thisset = {\"apple\", \"banana\", \"cherry\"}`\n",
        "\n",
        "`print(thisset)`\n",
        "\n",
        "no duplicates\n",
        "\n",
        "`thisset = {\"apple\", \"banana\", \"cherry\", \"apple\"}`\n",
        "\n",
        "`print(thisset)`\n",
        "\n",
        "\n",
        "Contain different data types. \n",
        "\n",
        "Example (String, int and boolean data types)\n",
        "\n",
        "`set1 = {\"apple\", \"banana\", \"cherry\"}`\n",
        "\n",
        "`set2 = {1, 5, 7, 9, 3}`\n",
        "\n",
        "`set3 = {True, False, False}`\n",
        "\n",
        "Combination\n",
        "\n",
        "`set1 = {\"abc\", 34, True, 40, \"male\"}`\n",
        "\n",
        "\n",
        "\n",
        "---\n",
        "\n",
        "4.  **Dictionaries**:\n",
        "\n",
        "Dictionaries are used to store data values in **key:value pairs**.\n",
        "\n",
        "`thisdict = {\n",
        "  \"brand\": \"Ford\",\n",
        "  \"model\": \"Mustang\",\n",
        "  \"year\": 1964\n",
        "}`\n",
        "\n",
        "`print(thisdict)`\n",
        "\n",
        "\n",
        "**Characteristics**:\n",
        "\n",
        "Dictionary items:\n",
        "\n",
        "* Items are ordered, \n",
        "* Changeable, \n",
        "* Does not allow duplicates.\n",
        "\n",
        "Dictionary items can be referred to by using the key name.\n",
        "\n",
        "\n",
        "*Check the length of dictionary*: `print(len(thisdict))`\n",
        "\n",
        "**Dict also stores different data types**:\n",
        "\n",
        "`thisdict = {\n",
        "  \"brand\": \"Ford\",\n",
        "  \"electric\": False,\n",
        "  \"year\": 1964,\n",
        "  \"colors\": [\"red\", \"white\", \"blue\"]\n",
        "}`\n",
        "\n",
        "\n",
        "\n",
        "\n",
        "\n",
        "---\n",
        "\n",
        "\n",
        "\n",
        "![image.png](data:image/png;base64,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)image source -see reference\n",
        "\n",
        "\n",
        "---\n",
        "\n",
        "\n",
        "**For more reading**- [reference](https://corporatefinanceinstitute.com/resources/knowledge/other/python-data-structures/)\n",
        "\n",
        "[Others](https://www.w3schools.com/python/python_sets.asp)\n"
      ],
      "metadata": {
        "id": "jpCzXhRTRmnA"
      }
    },
    {
      "cell_type": "markdown",
      "source": [
        "## **Data Extraction Process**\n",
        "\n",
        "The first thing critical to starting any project is to understand where your dataset lies, what platform is it stored on.\n",
        "\n",
        "\n",
        "---\n",
        "\n",
        "**Data Format Types:**\n",
        "\n",
        "1.  CSV\n",
        "2.  Json\n",
        "3.  Excel \n",
        "4.  XML\n",
        "5. Txt etc\n",
        "\n",
        "\n",
        "\n",
        "---\n",
        "\n",
        "\n",
        "**Examples of dataset locations:**\n",
        "\n",
        "\n",
        "\n",
        "*   **Kaggle datasets**; either competitions or datasets\n",
        "*   **Google Drive**\n",
        "*   **Local PC drive**\n",
        "*   **API**\n",
        "*   **Cloud databases;** PostgreSQL, MongoDB, AWS S3, Azure, etc\n",
        "\n",
        "\n",
        "\n",
        "---\n",
        "\n",
        "**How to extract/call your dataset into python:**\n",
        "\n",
        "I'll write some script for a few, the others can be researched."
      ],
      "metadata": {
        "id": "WWjFNyPQkQX9"
      }
    },
    {
      "cell_type": "markdown",
      "source": [
        "### **Data Extraction from Kaggle**"
      ],
      "metadata": {
        "id": "2p3Uty7xpRy5"
      }
    },
    {
      "cell_type": "code",
      "execution_count": null,
      "metadata": {
        "id": "7gT_8jfDjTTT"
      },
      "outputs": [],
      "source": [
        "#Data Extraction from Kaggle dataset to colab\n",
        "\n",
        "#1. upload kaggle json API Token to google drive (in kaggle account)...\n",
        "#to avoid uploading the JSON file every time the notebook is reloaded or restarted.\n",
        "#2. mount drive to notebook\n",
        "#3. install kaggle libray in colab & make a directory\n",
        "#4. copy the “kaggle.json” file from the mounted google drive to the current instance storage\n",
        "#5. download dataset-   ! kaggle datasets download <name-of-dataset> or\n",
        "#6 ! kaggle competitions download name of dataset (for competitions data)\n",
        "\n",
        "## Example\n",
        "#1. upload the kaggle json API\n",
        "#step 2 run these\n",
        "# ! pip install kaggle #install kaggle library\n",
        "#! mkdir ~/.kaggle #make a directory for kaggle\n",
        "#step 3\n",
        "#cp /content/drive/MyDrive/kaggle.json ~/.kaggle/kaggle.json\n",
        "#step 4\n",
        "# !kaggle datasets download -d url_in_kaggle_after_main-domain-name or\n",
        "#!kaggle datasets competitions -c url_in_kaggle_after_main-domain-name\n",
        "\n",
        "#step 5\n",
        "# ! unzip zip_file\n"
      ]
    },
    {
      "cell_type": "markdown",
      "source": [
        "## **Data Extraction from Git**"
      ],
      "metadata": {
        "id": "pflANXcnpXwy"
      }
    },
    {
      "cell_type": "code",
      "source": [
        "#url = 'copied_raw_GH_link'\n",
        "#df1 = pd.read_csv(url)\n",
        "# Dataset is now stored in a Pandas Dataframe"
      ],
      "metadata": {
        "id": "Ze5ucuPspdFu"
      },
      "execution_count": null,
      "outputs": []
    },
    {
      "cell_type": "markdown",
      "source": [
        "## **Data Extraction from Drives/Web**\n",
        "\n",
        "Good resources:\n",
        "\n",
        "[reference 1](https://towardsdatascience.com/3-ways-to-load-csv-files-into-colab-7c14fcbdcb92)\n",
        "\n",
        "[reference 2](https://towardsdatascience.com/7-ways-to-load-external-data-into-google-colab-7ba73e7d5fc7)"
      ],
      "metadata": {
        "id": "MrncGUe4pgb9"
      }
    },
    {
      "cell_type": "code",
      "source": [
        "# Data Extraction from Google drive /local drives /web\n",
        "\n",
        "# Method 1 -using google colab files module\n",
        "\n",
        "#from google.colab import files\n",
        "#uploaded = files.upload()\n",
        "\n",
        "# then run this\n",
        "#import io\n",
        "#df2 = pd.read_csv(io.BytesIO(uploaded['Filename.csv']))\n",
        "# Dataset is now stored in a Pandas Dataframe\n",
        "\n",
        "\n",
        "# Method 2 -using linux ! wget from web\n",
        "# !wget https://example.com/training-with-tolulade_filtered.zip (url)\n",
        "\n",
        "# or use this to download with get and change the file name after download\n",
        "\n",
        "# !wget https://example.com/training-with-tolulade_filtered.zip \\\n",
        "#      -O new_file_downloaded_name_.zip\n",
        "\n",
        "# method 3 from google drive\n",
        "\n",
        "# mount google drive to colab\n",
        "# df = pd.read_csv('file_path')\n"
      ],
      "metadata": {
        "id": "YEoKdBQim4EO"
      },
      "execution_count": null,
      "outputs": []
    },
    {
      "cell_type": "markdown",
      "source": [
        "This **project**, we have uploaded our raw dataset into our Google drive folder.\n",
        "\n",
        "Next, mount your **google drive into colab**."
      ],
      "metadata": {
        "id": "vXctJ1txHeS5"
      }
    },
    {
      "cell_type": "code",
      "source": [
        "import pandas as pd\n",
        "df = pd.read_csv('/content/drive/MyDrive/Project_Datasets/ReisparAcademy_ds3_STORES_US.csv')\n",
        "df"
      ],
      "metadata": {
        "colab": {
          "base_uri": "https://localhost:8080/",
          "height": 423
        },
        "id": "DoYNX036scK1",
        "outputId": "56b01792-b8e5-4a4a-b35a-bc217e0c6c9e"
      },
      "execution_count": null,
      "outputs": [
        {
          "output_type": "execute_result",
          "data": {
            "text/html": [
              "\n",
              "  <div id=\"df-d49cc212-1060-4d38-bb83-8833e6b855d9\">\n",
              "    <div class=\"colab-df-container\">\n",
              "      <div>\n",
              "<style scoped>\n",
              "    .dataframe tbody tr th:only-of-type {\n",
              "        vertical-align: middle;\n",
              "    }\n",
              "\n",
              "    .dataframe tbody tr th {\n",
              "        vertical-align: top;\n",
              "    }\n",
              "\n",
              "    .dataframe thead th {\n",
              "        text-align: right;\n",
              "    }\n",
              "</style>\n",
              "<table border=\"1\" class=\"dataframe\">\n",
              "  <thead>\n",
              "    <tr style=\"text-align: right;\">\n",
              "      <th></th>\n",
              "      <th>STORE</th>\n",
              "      <th>TURNOVER</th>\n",
              "      <th>SIZE</th>\n",
              "      <th>STAFF</th>\n",
              "      <th>MARGIN</th>\n",
              "    </tr>\n",
              "  </thead>\n",
              "  <tbody>\n",
              "    <tr>\n",
              "      <th>0</th>\n",
              "      <td>Akron</td>\n",
              "      <td>7.2</td>\n",
              "      <td>3.6</td>\n",
              "      <td>6.1</td>\n",
              "      <td>2.5</td>\n",
              "    </tr>\n",
              "    <tr>\n",
              "      <th>1</th>\n",
              "      <td>Albuquerque</td>\n",
              "      <td>5.4</td>\n",
              "      <td>3.4</td>\n",
              "      <td>1.5</td>\n",
              "      <td>0.4</td>\n",
              "    </tr>\n",
              "    <tr>\n",
              "      <th>2</th>\n",
              "      <td>Amarillo</td>\n",
              "      <td>6.9</td>\n",
              "      <td>3.2</td>\n",
              "      <td>5.7</td>\n",
              "      <td>2.3</td>\n",
              "    </tr>\n",
              "    <tr>\n",
              "      <th>3</th>\n",
              "      <td>Anaheim</td>\n",
              "      <td>5.5</td>\n",
              "      <td>2.3</td>\n",
              "      <td>4.0</td>\n",
              "      <td>1.3</td>\n",
              "    </tr>\n",
              "    <tr>\n",
              "      <th>4</th>\n",
              "      <td>Anchorage</td>\n",
              "      <td>6.1</td>\n",
              "      <td>2.9</td>\n",
              "      <td>4.7</td>\n",
              "      <td>1.4</td>\n",
              "    </tr>\n",
              "    <tr>\n",
              "      <th>...</th>\n",
              "      <td>...</td>\n",
              "      <td>...</td>\n",
              "      <td>...</td>\n",
              "      <td>...</td>\n",
              "      <td>...</td>\n",
              "    </tr>\n",
              "    <tr>\n",
              "      <th>145</th>\n",
              "      <td>Washington</td>\n",
              "      <td>5.1</td>\n",
              "      <td>3.3</td>\n",
              "      <td>1.7</td>\n",
              "      <td>0.5</td>\n",
              "    </tr>\n",
              "    <tr>\n",
              "      <th>146</th>\n",
              "      <td>Wichita</td>\n",
              "      <td>5.3</td>\n",
              "      <td>3.7</td>\n",
              "      <td>1.5</td>\n",
              "      <td>0.2</td>\n",
              "    </tr>\n",
              "    <tr>\n",
              "      <th>147</th>\n",
              "      <td>Winston-Salem</td>\n",
              "      <td>5.8</td>\n",
              "      <td>2.7</td>\n",
              "      <td>3.9</td>\n",
              "      <td>1.2</td>\n",
              "    </tr>\n",
              "    <tr>\n",
              "      <th>148</th>\n",
              "      <td>Worcester</td>\n",
              "      <td>6.2</td>\n",
              "      <td>2.8</td>\n",
              "      <td>4.8</td>\n",
              "      <td>1.8</td>\n",
              "    </tr>\n",
              "    <tr>\n",
              "      <th>149</th>\n",
              "      <td>Yonkers</td>\n",
              "      <td>5.8</td>\n",
              "      <td>2.8</td>\n",
              "      <td>5.1</td>\n",
              "      <td>2.4</td>\n",
              "    </tr>\n",
              "  </tbody>\n",
              "</table>\n",
              "<p>150 rows × 5 columns</p>\n",
              "</div>\n",
              "      <button class=\"colab-df-convert\" onclick=\"convertToInteractive('df-d49cc212-1060-4d38-bb83-8833e6b855d9')\"\n",
              "              title=\"Convert this dataframe to an interactive table.\"\n",
              "              style=\"display:none;\">\n",
              "        \n",
              "  <svg xmlns=\"http://www.w3.org/2000/svg\" height=\"24px\"viewBox=\"0 0 24 24\"\n",
              "       width=\"24px\">\n",
              "    <path d=\"M0 0h24v24H0V0z\" fill=\"none\"/>\n",
              "    <path d=\"M18.56 5.44l.94 2.06.94-2.06 2.06-.94-2.06-.94-.94-2.06-.94 2.06-2.06.94zm-11 1L8.5 8.5l.94-2.06 2.06-.94-2.06-.94L8.5 2.5l-.94 2.06-2.06.94zm10 10l.94 2.06.94-2.06 2.06-.94-2.06-.94-.94-2.06-.94 2.06-2.06.94z\"/><path d=\"M17.41 7.96l-1.37-1.37c-.4-.4-.92-.59-1.43-.59-.52 0-1.04.2-1.43.59L10.3 9.45l-7.72 7.72c-.78.78-.78 2.05 0 2.83L4 21.41c.39.39.9.59 1.41.59.51 0 1.02-.2 1.41-.59l7.78-7.78 2.81-2.81c.8-.78.8-2.07 0-2.86zM5.41 20L4 18.59l7.72-7.72 1.47 1.35L5.41 20z\"/>\n",
              "  </svg>\n",
              "      </button>\n",
              "      \n",
              "  <style>\n",
              "    .colab-df-container {\n",
              "      display:flex;\n",
              "      flex-wrap:wrap;\n",
              "      gap: 12px;\n",
              "    }\n",
              "\n",
              "    .colab-df-convert {\n",
              "      background-color: #E8F0FE;\n",
              "      border: none;\n",
              "      border-radius: 50%;\n",
              "      cursor: pointer;\n",
              "      display: none;\n",
              "      fill: #1967D2;\n",
              "      height: 32px;\n",
              "      padding: 0 0 0 0;\n",
              "      width: 32px;\n",
              "    }\n",
              "\n",
              "    .colab-df-convert:hover {\n",
              "      background-color: #E2EBFA;\n",
              "      box-shadow: 0px 1px 2px rgba(60, 64, 67, 0.3), 0px 1px 3px 1px rgba(60, 64, 67, 0.15);\n",
              "      fill: #174EA6;\n",
              "    }\n",
              "\n",
              "    [theme=dark] .colab-df-convert {\n",
              "      background-color: #3B4455;\n",
              "      fill: #D2E3FC;\n",
              "    }\n",
              "\n",
              "    [theme=dark] .colab-df-convert:hover {\n",
              "      background-color: #434B5C;\n",
              "      box-shadow: 0px 1px 3px 1px rgba(0, 0, 0, 0.15);\n",
              "      filter: drop-shadow(0px 1px 2px rgba(0, 0, 0, 0.3));\n",
              "      fill: #FFFFFF;\n",
              "    }\n",
              "  </style>\n",
              "\n",
              "      <script>\n",
              "        const buttonEl =\n",
              "          document.querySelector('#df-d49cc212-1060-4d38-bb83-8833e6b855d9 button.colab-df-convert');\n",
              "        buttonEl.style.display =\n",
              "          google.colab.kernel.accessAllowed ? 'block' : 'none';\n",
              "\n",
              "        async function convertToInteractive(key) {\n",
              "          const element = document.querySelector('#df-d49cc212-1060-4d38-bb83-8833e6b855d9');\n",
              "          const dataTable =\n",
              "            await google.colab.kernel.invokeFunction('convertToInteractive',\n",
              "                                                     [key], {});\n",
              "          if (!dataTable) return;\n",
              "\n",
              "          const docLinkHtml = 'Like what you see? Visit the ' +\n",
              "            '<a target=\"_blank\" href=https://colab.research.google.com/notebooks/data_table.ipynb>data table notebook</a>'\n",
              "            + ' to learn more about interactive tables.';\n",
              "          element.innerHTML = '';\n",
              "          dataTable['output_type'] = 'display_data';\n",
              "          await google.colab.output.renderOutput(dataTable, element);\n",
              "          const docLink = document.createElement('div');\n",
              "          docLink.innerHTML = docLinkHtml;\n",
              "          element.appendChild(docLink);\n",
              "        }\n",
              "      </script>\n",
              "    </div>\n",
              "  </div>\n",
              "  "
            ],
            "text/plain": [
              "             STORE  TURNOVER  SIZE  STAFF  MARGIN\n",
              "0            Akron       7.2   3.6    6.1     2.5\n",
              "1      Albuquerque       5.4   3.4    1.5     0.4\n",
              "2         Amarillo       6.9   3.2    5.7     2.3\n",
              "3          Anaheim       5.5   2.3    4.0     1.3\n",
              "4        Anchorage       6.1   2.9    4.7     1.4\n",
              "..             ...       ...   ...    ...     ...\n",
              "145     Washington       5.1   3.3    1.7     0.5\n",
              "146        Wichita       5.3   3.7    1.5     0.2\n",
              "147  Winston-Salem       5.8   2.7    3.9     1.2\n",
              "148      Worcester       6.2   2.8    4.8     1.8\n",
              "149        Yonkers       5.8   2.8    5.1     2.4\n",
              "\n",
              "[150 rows x 5 columns]"
            ]
          },
          "metadata": {},
          "execution_count": 1
        }
      ]
    },
    {
      "cell_type": "markdown",
      "source": [
        "Import Libraries and dependecies"
      ],
      "metadata": {
        "id": "X_aj0J-cHujd"
      }
    },
    {
      "cell_type": "code",
      "source": [
        "import numpy as np # maths\n",
        "import pandas as pd # data processing, \n",
        "import matplotlib.pyplot as plt\n",
        "import seaborn as sns\n",
        "import matplotlib as mpl\n",
        "import matplotlib.pyplot as plt\n",
        "\n",
        "from wordcloud import WordCloud, STOPWORDS\n",
        "\n",
        "# Inline backend\n",
        "%matplotlib inline\n",
        "mpl.style.use(['ggplot'])\n",
        "import warnings\n",
        "warnings.filterwarnings('ignore')"
      ],
      "metadata": {
        "id": "4Xg0k5F-ygUp"
      },
      "execution_count": null,
      "outputs": []
    },
    {
      "cell_type": "code",
      "source": [
        "df.info() # to get info from our dataset"
      ],
      "metadata": {
        "id": "FNSpzWVgxAQh",
        "colab": {
          "base_uri": "https://localhost:8080/"
        },
        "outputId": "07874ed8-4aef-42ff-f6bb-1a4d187fc7fc"
      },
      "execution_count": null,
      "outputs": [
        {
          "output_type": "stream",
          "name": "stdout",
          "text": [
            "<class 'pandas.core.frame.DataFrame'>\n",
            "RangeIndex: 150 entries, 0 to 149\n",
            "Data columns (total 5 columns):\n",
            " #   Column    Non-Null Count  Dtype  \n",
            "---  ------    --------------  -----  \n",
            " 0   STORE     150 non-null    object \n",
            " 1   TURNOVER  150 non-null    float64\n",
            " 2   SIZE      150 non-null    float64\n",
            " 3   STAFF     150 non-null    float64\n",
            " 4   MARGIN    150 non-null    float64\n",
            "dtypes: float64(4), object(1)\n",
            "memory usage: 6.0+ KB\n"
          ]
        }
      ]
    },
    {
      "cell_type": "code",
      "source": [
        "df.describe() #to describe the features"
      ],
      "metadata": {
        "id": "3E9y2wr2xCBy",
        "colab": {
          "base_uri": "https://localhost:8080/",
          "height": 300
        },
        "outputId": "e0462a0e-ffcd-4158-a670-605ef68d8cf1"
      },
      "execution_count": null,
      "outputs": [
        {
          "output_type": "execute_result",
          "data": {
            "text/html": [
              "\n",
              "  <div id=\"df-6ff53dd2-d18c-4a28-bf5b-a8098c31885b\">\n",
              "    <div class=\"colab-df-container\">\n",
              "      <div>\n",
              "<style scoped>\n",
              "    .dataframe tbody tr th:only-of-type {\n",
              "        vertical-align: middle;\n",
              "    }\n",
              "\n",
              "    .dataframe tbody tr th {\n",
              "        vertical-align: top;\n",
              "    }\n",
              "\n",
              "    .dataframe thead th {\n",
              "        text-align: right;\n",
              "    }\n",
              "</style>\n",
              "<table border=\"1\" class=\"dataframe\">\n",
              "  <thead>\n",
              "    <tr style=\"text-align: right;\">\n",
              "      <th></th>\n",
              "      <th>TURNOVER</th>\n",
              "      <th>SIZE</th>\n",
              "      <th>STAFF</th>\n",
              "      <th>MARGIN</th>\n",
              "    </tr>\n",
              "  </thead>\n",
              "  <tbody>\n",
              "    <tr>\n",
              "      <th>count</th>\n",
              "      <td>150.000000</td>\n",
              "      <td>150.000000</td>\n",
              "      <td>150.000000</td>\n",
              "      <td>150.000000</td>\n",
              "    </tr>\n",
              "    <tr>\n",
              "      <th>mean</th>\n",
              "      <td>5.843333</td>\n",
              "      <td>3.054000</td>\n",
              "      <td>3.758667</td>\n",
              "      <td>1.198667</td>\n",
              "    </tr>\n",
              "    <tr>\n",
              "      <th>std</th>\n",
              "      <td>0.828066</td>\n",
              "      <td>0.433594</td>\n",
              "      <td>1.764420</td>\n",
              "      <td>0.763161</td>\n",
              "    </tr>\n",
              "    <tr>\n",
              "      <th>min</th>\n",
              "      <td>4.300000</td>\n",
              "      <td>2.000000</td>\n",
              "      <td>1.000000</td>\n",
              "      <td>0.100000</td>\n",
              "    </tr>\n",
              "    <tr>\n",
              "      <th>25%</th>\n",
              "      <td>5.100000</td>\n",
              "      <td>2.800000</td>\n",
              "      <td>1.600000</td>\n",
              "      <td>0.300000</td>\n",
              "    </tr>\n",
              "    <tr>\n",
              "      <th>50%</th>\n",
              "      <td>5.800000</td>\n",
              "      <td>3.000000</td>\n",
              "      <td>4.350000</td>\n",
              "      <td>1.300000</td>\n",
              "    </tr>\n",
              "    <tr>\n",
              "      <th>75%</th>\n",
              "      <td>6.400000</td>\n",
              "      <td>3.300000</td>\n",
              "      <td>5.100000</td>\n",
              "      <td>1.800000</td>\n",
              "    </tr>\n",
              "    <tr>\n",
              "      <th>max</th>\n",
              "      <td>7.900000</td>\n",
              "      <td>4.400000</td>\n",
              "      <td>6.900000</td>\n",
              "      <td>2.500000</td>\n",
              "    </tr>\n",
              "  </tbody>\n",
              "</table>\n",
              "</div>\n",
              "      <button class=\"colab-df-convert\" onclick=\"convertToInteractive('df-6ff53dd2-d18c-4a28-bf5b-a8098c31885b')\"\n",
              "              title=\"Convert this dataframe to an interactive table.\"\n",
              "              style=\"display:none;\">\n",
              "        \n",
              "  <svg xmlns=\"http://www.w3.org/2000/svg\" height=\"24px\"viewBox=\"0 0 24 24\"\n",
              "       width=\"24px\">\n",
              "    <path d=\"M0 0h24v24H0V0z\" fill=\"none\"/>\n",
              "    <path d=\"M18.56 5.44l.94 2.06.94-2.06 2.06-.94-2.06-.94-.94-2.06-.94 2.06-2.06.94zm-11 1L8.5 8.5l.94-2.06 2.06-.94-2.06-.94L8.5 2.5l-.94 2.06-2.06.94zm10 10l.94 2.06.94-2.06 2.06-.94-2.06-.94-.94-2.06-.94 2.06-2.06.94z\"/><path d=\"M17.41 7.96l-1.37-1.37c-.4-.4-.92-.59-1.43-.59-.52 0-1.04.2-1.43.59L10.3 9.45l-7.72 7.72c-.78.78-.78 2.05 0 2.83L4 21.41c.39.39.9.59 1.41.59.51 0 1.02-.2 1.41-.59l7.78-7.78 2.81-2.81c.8-.78.8-2.07 0-2.86zM5.41 20L4 18.59l7.72-7.72 1.47 1.35L5.41 20z\"/>\n",
              "  </svg>\n",
              "      </button>\n",
              "      \n",
              "  <style>\n",
              "    .colab-df-container {\n",
              "      display:flex;\n",
              "      flex-wrap:wrap;\n",
              "      gap: 12px;\n",
              "    }\n",
              "\n",
              "    .colab-df-convert {\n",
              "      background-color: #E8F0FE;\n",
              "      border: none;\n",
              "      border-radius: 50%;\n",
              "      cursor: pointer;\n",
              "      display: none;\n",
              "      fill: #1967D2;\n",
              "      height: 32px;\n",
              "      padding: 0 0 0 0;\n",
              "      width: 32px;\n",
              "    }\n",
              "\n",
              "    .colab-df-convert:hover {\n",
              "      background-color: #E2EBFA;\n",
              "      box-shadow: 0px 1px 2px rgba(60, 64, 67, 0.3), 0px 1px 3px 1px rgba(60, 64, 67, 0.15);\n",
              "      fill: #174EA6;\n",
              "    }\n",
              "\n",
              "    [theme=dark] .colab-df-convert {\n",
              "      background-color: #3B4455;\n",
              "      fill: #D2E3FC;\n",
              "    }\n",
              "\n",
              "    [theme=dark] .colab-df-convert:hover {\n",
              "      background-color: #434B5C;\n",
              "      box-shadow: 0px 1px 3px 1px rgba(0, 0, 0, 0.15);\n",
              "      filter: drop-shadow(0px 1px 2px rgba(0, 0, 0, 0.3));\n",
              "      fill: #FFFFFF;\n",
              "    }\n",
              "  </style>\n",
              "\n",
              "      <script>\n",
              "        const buttonEl =\n",
              "          document.querySelector('#df-6ff53dd2-d18c-4a28-bf5b-a8098c31885b button.colab-df-convert');\n",
              "        buttonEl.style.display =\n",
              "          google.colab.kernel.accessAllowed ? 'block' : 'none';\n",
              "\n",
              "        async function convertToInteractive(key) {\n",
              "          const element = document.querySelector('#df-6ff53dd2-d18c-4a28-bf5b-a8098c31885b');\n",
              "          const dataTable =\n",
              "            await google.colab.kernel.invokeFunction('convertToInteractive',\n",
              "                                                     [key], {});\n",
              "          if (!dataTable) return;\n",
              "\n",
              "          const docLinkHtml = 'Like what you see? Visit the ' +\n",
              "            '<a target=\"_blank\" href=https://colab.research.google.com/notebooks/data_table.ipynb>data table notebook</a>'\n",
              "            + ' to learn more about interactive tables.';\n",
              "          element.innerHTML = '';\n",
              "          dataTable['output_type'] = 'display_data';\n",
              "          await google.colab.output.renderOutput(dataTable, element);\n",
              "          const docLink = document.createElement('div');\n",
              "          docLink.innerHTML = docLinkHtml;\n",
              "          element.appendChild(docLink);\n",
              "        }\n",
              "      </script>\n",
              "    </div>\n",
              "  </div>\n",
              "  "
            ],
            "text/plain": [
              "         TURNOVER        SIZE       STAFF      MARGIN\n",
              "count  150.000000  150.000000  150.000000  150.000000\n",
              "mean     5.843333    3.054000    3.758667    1.198667\n",
              "std      0.828066    0.433594    1.764420    0.763161\n",
              "min      4.300000    2.000000    1.000000    0.100000\n",
              "25%      5.100000    2.800000    1.600000    0.300000\n",
              "50%      5.800000    3.000000    4.350000    1.300000\n",
              "75%      6.400000    3.300000    5.100000    1.800000\n",
              "max      7.900000    4.400000    6.900000    2.500000"
            ]
          },
          "metadata": {},
          "execution_count": 4
        }
      ]
    },
    {
      "cell_type": "code",
      "source": [
        "print(f'Number of rows: {df.shape[0]}; Number of columns: {df.shape[1]}; Number of missing values: {sum(df.isna().sum())}')\n",
        "# df.isna().sum()"
      ],
      "metadata": {
        "id": "e5Zh1lgzxNWd",
        "colab": {
          "base_uri": "https://localhost:8080/"
        },
        "outputId": "8b15654d-98a0-4be7-e874-622641b8a1b6"
      },
      "execution_count": null,
      "outputs": [
        {
          "output_type": "stream",
          "name": "stdout",
          "text": [
            "Number of rows: 150; Number of columns: 5; Number of missing values: 0\n"
          ]
        }
      ]
    },
    {
      "cell_type": "code",
      "source": [
        "df.TURNOVER.value_counts() \n",
        "##counting the number of occurence for Turnover column"
      ],
      "metadata": {
        "id": "chdx0oroxOFp",
        "colab": {
          "base_uri": "https://localhost:8080/"
        },
        "outputId": "1c6f7beb-b1f6-44e4-b410-e46465edc453"
      },
      "execution_count": null,
      "outputs": [
        {
          "output_type": "execute_result",
          "data": {
            "text/plain": [
              "5.0    10\n",
              "6.3     9\n",
              "5.1     9\n",
              "6.7     8\n",
              "5.7     8\n",
              "6.4     7\n",
              "5.8     7\n",
              "5.5     7\n",
              "6.0     6\n",
              "6.1     6\n",
              "5.4     6\n",
              "5.6     6\n",
              "4.9     6\n",
              "4.8     5\n",
              "6.5     5\n",
              "6.2     4\n",
              "5.2     4\n",
              "7.7     4\n",
              "6.9     4\n",
              "4.6     4\n",
              "4.4     3\n",
              "5.9     3\n",
              "7.2     3\n",
              "6.8     3\n",
              "6.6     2\n",
              "4.7     2\n",
              "7.6     1\n",
              "7.4     1\n",
              "4.3     1\n",
              "7.9     1\n",
              "4.5     1\n",
              "5.3     1\n",
              "7.0     1\n",
              "7.3     1\n",
              "7.1     1\n",
              "Name: TURNOVER, dtype: int64"
            ]
          },
          "metadata": {},
          "execution_count": 6
        }
      ]
    },
    {
      "cell_type": "code",
      "source": [
        "df.SIZE.value_counts() "
      ],
      "metadata": {
        "colab": {
          "base_uri": "https://localhost:8080/"
        },
        "id": "YCzjy3PiMsUU",
        "outputId": "aca9b0e0-b914-45bd-baf9-c3c7a3156397"
      },
      "execution_count": null,
      "outputs": [
        {
          "output_type": "execute_result",
          "data": {
            "text/plain": [
              "3.0    26\n",
              "2.8    14\n",
              "3.2    13\n",
              "3.1    12\n",
              "3.4    12\n",
              "2.9    10\n",
              "2.7     9\n",
              "2.5     8\n",
              "3.8     6\n",
              "3.3     6\n",
              "3.5     6\n",
              "2.6     5\n",
              "2.3     4\n",
              "3.6     3\n",
              "2.4     3\n",
              "2.2     3\n",
              "3.7     3\n",
              "3.9     2\n",
              "4.4     1\n",
              "4.1     1\n",
              "4.0     1\n",
              "2.0     1\n",
              "4.2     1\n",
              "Name: SIZE, dtype: int64"
            ]
          },
          "metadata": {},
          "execution_count": 26
        }
      ]
    },
    {
      "cell_type": "code",
      "source": [
        "df.MARGIN.value_counts() "
      ],
      "metadata": {
        "colab": {
          "base_uri": "https://localhost:8080/"
        },
        "id": "9NleyxetMz9a",
        "outputId": "7edc1c35-3fab-4ce4-8789-73d657ec07ac"
      },
      "execution_count": null,
      "outputs": [
        {
          "output_type": "execute_result",
          "data": {
            "text/plain": [
              "0.2    28\n",
              "1.3    13\n",
              "1.8    12\n",
              "1.5    12\n",
              "2.3     8\n",
              "1.4     8\n",
              "0.3     7\n",
              "1.0     7\n",
              "0.4     7\n",
              "0.1     6\n",
              "2.0     6\n",
              "2.1     6\n",
              "1.2     5\n",
              "1.9     5\n",
              "1.6     4\n",
              "1.1     3\n",
              "2.2     3\n",
              "2.4     3\n",
              "2.5     3\n",
              "1.7     2\n",
              "0.5     1\n",
              "0.6     1\n",
              "Name: MARGIN, dtype: int64"
            ]
          },
          "metadata": {},
          "execution_count": 27
        }
      ]
    },
    {
      "cell_type": "code",
      "source": [
        "df.columns"
      ],
      "metadata": {
        "id": "XEkkLYv3yWHI",
        "colab": {
          "base_uri": "https://localhost:8080/"
        },
        "outputId": "f8b9d81f-ad9a-438b-f024-f6f40eb82b2f"
      },
      "execution_count": null,
      "outputs": [
        {
          "output_type": "execute_result",
          "data": {
            "text/plain": [
              "Index(['STORE', 'TURNOVER', 'SIZE', 'STAFF', 'MARGIN'], dtype='object')"
            ]
          },
          "metadata": {},
          "execution_count": 7
        }
      ]
    },
    {
      "cell_type": "markdown",
      "source": [
        "## EDA - Intro into Exploratory Data Analytics"
      ],
      "metadata": {
        "id": "4Fq_6iUyIGda"
      }
    },
    {
      "cell_type": "code",
      "source": [
        "sns.countplot(df['TURNOVER'])"
      ],
      "metadata": {
        "id": "eZXF52KCysrP",
        "colab": {
          "base_uri": "https://localhost:8080/",
          "height": 299
        },
        "outputId": "f41aa4ad-4274-4c7c-b597-69f8bc3f38cf"
      },
      "execution_count": null,
      "outputs": [
        {
          "output_type": "execute_result",
          "data": {
            "text/plain": [
              "<matplotlib.axes._subplots.AxesSubplot at 0x7ff5b6721d10>"
            ]
          },
          "metadata": {},
          "execution_count": 8
        },
        {
          "output_type": "display_data",
          "data": {
            "image/png": "[encoded data removed]",
            "text/plain": [
              "<Figure size 432x288 with 1 Axes>"
            ]
          },
          "metadata": {}
        }
      ]
    },
    {
      "cell_type": "code",
      "source": [
        "df.set_index('STORE', inplace=True)\n",
        "df.head()"
      ],
      "metadata": {
        "id": "wnryQXaKzS8M",
        "colab": {
          "base_uri": "https://localhost:8080/",
          "height": 237
        },
        "outputId": "88a6a9ae-7ab7-482b-f439-4b5be7c9b03b"
      },
      "execution_count": null,
      "outputs": [
        {
          "output_type": "execute_result",
          "data": {
            "text/html": [
              "\n",
              "  <div id=\"df-3adb210a-dfa4-4d07-912d-563811beed6c\">\n",
              "    <div class=\"colab-df-container\">\n",
              "      <div>\n",
              "<style scoped>\n",
              "    .dataframe tbody tr th:only-of-type {\n",
              "        vertical-align: middle;\n",
              "    }\n",
              "\n",
              "    .dataframe tbody tr th {\n",
              "        vertical-align: top;\n",
              "    }\n",
              "\n",
              "    .dataframe thead th {\n",
              "        text-align: right;\n",
              "    }\n",
              "</style>\n",
              "<table border=\"1\" class=\"dataframe\">\n",
              "  <thead>\n",
              "    <tr style=\"text-align: right;\">\n",
              "      <th></th>\n",
              "      <th>TURNOVER</th>\n",
              "      <th>SIZE</th>\n",
              "      <th>STAFF</th>\n",
              "      <th>MARGIN</th>\n",
              "    </tr>\n",
              "    <tr>\n",
              "      <th>STORE</th>\n",
              "      <th></th>\n",
              "      <th></th>\n",
              "      <th></th>\n",
              "      <th></th>\n",
              "    </tr>\n",
              "  </thead>\n",
              "  <tbody>\n",
              "    <tr>\n",
              "      <th>Akron</th>\n",
              "      <td>7.2</td>\n",
              "      <td>3.6</td>\n",
              "      <td>6.1</td>\n",
              "      <td>2.5</td>\n",
              "    </tr>\n",
              "    <tr>\n",
              "      <th>Albuquerque</th>\n",
              "      <td>5.4</td>\n",
              "      <td>3.4</td>\n",
              "      <td>1.5</td>\n",
              "      <td>0.4</td>\n",
              "    </tr>\n",
              "    <tr>\n",
              "      <th>Amarillo</th>\n",
              "      <td>6.9</td>\n",
              "      <td>3.2</td>\n",
              "      <td>5.7</td>\n",
              "      <td>2.3</td>\n",
              "    </tr>\n",
              "    <tr>\n",
              "      <th>Anaheim</th>\n",
              "      <td>5.5</td>\n",
              "      <td>2.3</td>\n",
              "      <td>4.0</td>\n",
              "      <td>1.3</td>\n",
              "    </tr>\n",
              "    <tr>\n",
              "      <th>Anchorage</th>\n",
              "      <td>6.1</td>\n",
              "      <td>2.9</td>\n",
              "      <td>4.7</td>\n",
              "      <td>1.4</td>\n",
              "    </tr>\n",
              "  </tbody>\n",
              "</table>\n",
              "</div>\n",
              "      <button class=\"colab-df-convert\" onclick=\"convertToInteractive('df-3adb210a-dfa4-4d07-912d-563811beed6c')\"\n",
              "              title=\"Convert this dataframe to an interactive table.\"\n",
              "              style=\"display:none;\">\n",
              "        \n",
              "  <svg xmlns=\"http://www.w3.org/2000/svg\" height=\"24px\"viewBox=\"0 0 24 24\"\n",
              "       width=\"24px\">\n",
              "    <path d=\"M0 0h24v24H0V0z\" fill=\"none\"/>\n",
              "    <path d=\"M18.56 5.44l.94 2.06.94-2.06 2.06-.94-2.06-.94-.94-2.06-.94 2.06-2.06.94zm-11 1L8.5 8.5l.94-2.06 2.06-.94-2.06-.94L8.5 2.5l-.94 2.06-2.06.94zm10 10l.94 2.06.94-2.06 2.06-.94-2.06-.94-.94-2.06-.94 2.06-2.06.94z\"/><path d=\"M17.41 7.96l-1.37-1.37c-.4-.4-.92-.59-1.43-.59-.52 0-1.04.2-1.43.59L10.3 9.45l-7.72 7.72c-.78.78-.78 2.05 0 2.83L4 21.41c.39.39.9.59 1.41.59.51 0 1.02-.2 1.41-.59l7.78-7.78 2.81-2.81c.8-.78.8-2.07 0-2.86zM5.41 20L4 18.59l7.72-7.72 1.47 1.35L5.41 20z\"/>\n",
              "  </svg>\n",
              "      </button>\n",
              "      \n",
              "  <style>\n",
              "    .colab-df-container {\n",
              "      display:flex;\n",
              "      flex-wrap:wrap;\n",
              "      gap: 12px;\n",
              "    }\n",
              "\n",
              "    .colab-df-convert {\n",
              "      background-color: #E8F0FE;\n",
              "      border: none;\n",
              "      border-radius: 50%;\n",
              "      cursor: pointer;\n",
              "      display: none;\n",
              "      fill: #1967D2;\n",
              "      height: 32px;\n",
              "      padding: 0 0 0 0;\n",
              "      width: 32px;\n",
              "    }\n",
              "\n",
              "    .colab-df-convert:hover {\n",
              "      background-color: #E2EBFA;\n",
              "      box-shadow: 0px 1px 2px rgba(60, 64, 67, 0.3), 0px 1px 3px 1px rgba(60, 64, 67, 0.15);\n",
              "      fill: #174EA6;\n",
              "    }\n",
              "\n",
              "    [theme=dark] .colab-df-convert {\n",
              "      background-color: #3B4455;\n",
              "      fill: #D2E3FC;\n",
              "    }\n",
              "\n",
              "    [theme=dark] .colab-df-convert:hover {\n",
              "      background-color: #434B5C;\n",
              "      box-shadow: 0px 1px 3px 1px rgba(0, 0, 0, 0.15);\n",
              "      filter: drop-shadow(0px 1px 2px rgba(0, 0, 0, 0.3));\n",
              "      fill: #FFFFFF;\n",
              "    }\n",
              "  </style>\n",
              "\n",
              "      <script>\n",
              "        const buttonEl =\n",
              "          document.querySelector('#df-3adb210a-dfa4-4d07-912d-563811beed6c button.colab-df-convert');\n",
              "        buttonEl.style.display =\n",
              "          google.colab.kernel.accessAllowed ? 'block' : 'none';\n",
              "\n",
              "        async function convertToInteractive(key) {\n",
              "          const element = document.querySelector('#df-3adb210a-dfa4-4d07-912d-563811beed6c');\n",
              "          const dataTable =\n",
              "            await google.colab.kernel.invokeFunction('convertToInteractive',\n",
              "                                                     [key], {});\n",
              "          if (!dataTable) return;\n",
              "\n",
              "          const docLinkHtml = 'Like what you see? Visit the ' +\n",
              "            '<a target=\"_blank\" href=https://colab.research.google.com/notebooks/data_table.ipynb>data table notebook</a>'\n",
              "            + ' to learn more about interactive tables.';\n",
              "          element.innerHTML = '';\n",
              "          dataTable['output_type'] = 'display_data';\n",
              "          await google.colab.output.renderOutput(dataTable, element);\n",
              "          const docLink = document.createElement('div');\n",
              "          docLink.innerHTML = docLinkHtml;\n",
              "          element.appendChild(docLink);\n",
              "        }\n",
              "      </script>\n",
              "    </div>\n",
              "  </div>\n",
              "  "
            ],
            "text/plain": [
              "             TURNOVER  SIZE  STAFF  MARGIN\n",
              "STORE                                     \n",
              "Akron             7.2   3.6    6.1     2.5\n",
              "Albuquerque       5.4   3.4    1.5     0.4\n",
              "Amarillo          6.9   3.2    5.7     2.3\n",
              "Anaheim           5.5   2.3    4.0     1.3\n",
              "Anchorage         6.1   2.9    4.7     1.4"
            ]
          },
          "metadata": {},
          "execution_count": 9
        }
      ]
    },
    {
      "cell_type": "code",
      "source": [
        "# df.reset_index()"
      ],
      "metadata": {
        "id": "rJHKXQMTy_I5"
      },
      "execution_count": null,
      "outputs": []
    },
    {
      "cell_type": "markdown",
      "source": [
        "**Plots with Matplotlib**"
      ],
      "metadata": {
        "id": "Misq8OYv0Xjj"
      }
    },
    {
      "cell_type": "code",
      "source": [
        "# Top 10 stores that contributed the most to Sales/Revenue/turnover\n",
        "df10 = df.copy(deep=True)\n",
        "\n",
        "df.sort_values(['MARGIN'], ascending=False, axis=0, inplace=True)\n",
        "\n",
        "# get the top 10 entries\n",
        "dften = df10.head(10)\n",
        "\n",
        "# transpose the dataframe\n",
        "#dften = dften[years].transpose()\n",
        "\n",
        "#dften.head()"
      ],
      "metadata": {
        "id": "H3toFwb30adS"
      },
      "execution_count": null,
      "outputs": []
    },
    {
      "cell_type": "code",
      "source": [
        "df10 = df.copy(deep=True)\n",
        "df10\n",
        "\n",
        "#When deep=True (default), a new object will be created with a copy of the calling object’s data and indices. \n",
        "#Modifications to the data or indices of the copy will not be reflected in the original object.\n",
        "#https://pandas.pydata.org/docs/reference/api/pandas.DataFrame.copy.html"
      ],
      "metadata": {
        "colab": {
          "base_uri": "https://localhost:8080/",
          "height": 455
        },
        "id": "h60UbV5UJYzT",
        "outputId": "5a340d40-2a0a-41e9-d546-75c296341682"
      },
      "execution_count": null,
      "outputs": [
        {
          "output_type": "execute_result",
          "data": {
            "text/html": [
              "\n",
              "  <div id=\"df-5447f497-f317-4bc6-a88e-4343dac17355\">\n",
              "    <div class=\"colab-df-container\">\n",
              "      <div>\n",
              "<style scoped>\n",
              "    .dataframe tbody tr th:only-of-type {\n",
              "        vertical-align: middle;\n",
              "    }\n",
              "\n",
              "    .dataframe tbody tr th {\n",
              "        vertical-align: top;\n",
              "    }\n",
              "\n",
              "    .dataframe thead th {\n",
              "        text-align: right;\n",
              "    }\n",
              "</style>\n",
              "<table border=\"1\" class=\"dataframe\">\n",
              "  <thead>\n",
              "    <tr style=\"text-align: right;\">\n",
              "      <th></th>\n",
              "      <th>TURNOVER</th>\n",
              "      <th>SIZE</th>\n",
              "      <th>STAFF</th>\n",
              "      <th>MARGIN</th>\n",
              "    </tr>\n",
              "    <tr>\n",
              "      <th>STORE</th>\n",
              "      <th></th>\n",
              "      <th></th>\n",
              "      <th></th>\n",
              "      <th></th>\n",
              "    </tr>\n",
              "  </thead>\n",
              "  <tbody>\n",
              "    <tr>\n",
              "      <th>Akron</th>\n",
              "      <td>7.2</td>\n",
              "      <td>3.6</td>\n",
              "      <td>6.1</td>\n",
              "      <td>2.5</td>\n",
              "    </tr>\n",
              "    <tr>\n",
              "      <th>Gilbert</th>\n",
              "      <td>6.3</td>\n",
              "      <td>3.3</td>\n",
              "      <td>6.0</td>\n",
              "      <td>2.5</td>\n",
              "    </tr>\n",
              "    <tr>\n",
              "      <th>Vancouver</th>\n",
              "      <td>6.7</td>\n",
              "      <td>3.3</td>\n",
              "      <td>5.7</td>\n",
              "      <td>2.5</td>\n",
              "    </tr>\n",
              "    <tr>\n",
              "      <th>Fort Lauderdale</th>\n",
              "      <td>6.7</td>\n",
              "      <td>3.1</td>\n",
              "      <td>5.6</td>\n",
              "      <td>2.4</td>\n",
              "    </tr>\n",
              "    <tr>\n",
              "      <th>Garden Grove</th>\n",
              "      <td>6.3</td>\n",
              "      <td>3.4</td>\n",
              "      <td>5.6</td>\n",
              "      <td>2.4</td>\n",
              "    </tr>\n",
              "    <tr>\n",
              "      <th>...</th>\n",
              "      <td>...</td>\n",
              "      <td>...</td>\n",
              "      <td>...</td>\n",
              "      <td>...</td>\n",
              "    </tr>\n",
              "    <tr>\n",
              "      <th>Sacramento</th>\n",
              "      <td>4.9</td>\n",
              "      <td>3.1</td>\n",
              "      <td>1.5</td>\n",
              "      <td>0.1</td>\n",
              "    </tr>\n",
              "    <tr>\n",
              "      <th>Tucson</th>\n",
              "      <td>5.2</td>\n",
              "      <td>4.1</td>\n",
              "      <td>1.5</td>\n",
              "      <td>0.1</td>\n",
              "    </tr>\n",
              "    <tr>\n",
              "      <th>Mesa</th>\n",
              "      <td>4.9</td>\n",
              "      <td>3.1</td>\n",
              "      <td>1.5</td>\n",
              "      <td>0.1</td>\n",
              "    </tr>\n",
              "    <tr>\n",
              "      <th>Austin</th>\n",
              "      <td>4.3</td>\n",
              "      <td>3.0</td>\n",
              "      <td>1.1</td>\n",
              "      <td>0.1</td>\n",
              "    </tr>\n",
              "    <tr>\n",
              "      <th>San Jose</th>\n",
              "      <td>4.9</td>\n",
              "      <td>3.1</td>\n",
              "      <td>1.5</td>\n",
              "      <td>0.1</td>\n",
              "    </tr>\n",
              "  </tbody>\n",
              "</table>\n",
              "<p>150 rows × 4 columns</p>\n",
              "</div>\n",
              "      <button class=\"colab-df-convert\" onclick=\"convertToInteractive('df-5447f497-f317-4bc6-a88e-4343dac17355')\"\n",
              "              title=\"Convert this dataframe to an interactive table.\"\n",
              "              style=\"display:none;\">\n",
              "        \n",
              "  <svg xmlns=\"http://www.w3.org/2000/svg\" height=\"24px\"viewBox=\"0 0 24 24\"\n",
              "       width=\"24px\">\n",
              "    <path d=\"M0 0h24v24H0V0z\" fill=\"none\"/>\n",
              "    <path d=\"M18.56 5.44l.94 2.06.94-2.06 2.06-.94-2.06-.94-.94-2.06-.94 2.06-2.06.94zm-11 1L8.5 8.5l.94-2.06 2.06-.94-2.06-.94L8.5 2.5l-.94 2.06-2.06.94zm10 10l.94 2.06.94-2.06 2.06-.94-2.06-.94-.94-2.06-.94 2.06-2.06.94z\"/><path d=\"M17.41 7.96l-1.37-1.37c-.4-.4-.92-.59-1.43-.59-.52 0-1.04.2-1.43.59L10.3 9.45l-7.72 7.72c-.78.78-.78 2.05 0 2.83L4 21.41c.39.39.9.59 1.41.59.51 0 1.02-.2 1.41-.59l7.78-7.78 2.81-2.81c.8-.78.8-2.07 0-2.86zM5.41 20L4 18.59l7.72-7.72 1.47 1.35L5.41 20z\"/>\n",
              "  </svg>\n",
              "      </button>\n",
              "      \n",
              "  <style>\n",
              "    .colab-df-container {\n",
              "      display:flex;\n",
              "      flex-wrap:wrap;\n",
              "      gap: 12px;\n",
              "    }\n",
              "\n",
              "    .colab-df-convert {\n",
              "      background-color: #E8F0FE;\n",
              "      border: none;\n",
              "      border-radius: 50%;\n",
              "      cursor: pointer;\n",
              "      display: none;\n",
              "      fill: #1967D2;\n",
              "      height: 32px;\n",
              "      padding: 0 0 0 0;\n",
              "      width: 32px;\n",
              "    }\n",
              "\n",
              "    .colab-df-convert:hover {\n",
              "      background-color: #E2EBFA;\n",
              "      box-shadow: 0px 1px 2px rgba(60, 64, 67, 0.3), 0px 1px 3px 1px rgba(60, 64, 67, 0.15);\n",
              "      fill: #174EA6;\n",
              "    }\n",
              "\n",
              "    [theme=dark] .colab-df-convert {\n",
              "      background-color: #3B4455;\n",
              "      fill: #D2E3FC;\n",
              "    }\n",
              "\n",
              "    [theme=dark] .colab-df-convert:hover {\n",
              "      background-color: #434B5C;\n",
              "      box-shadow: 0px 1px 3px 1px rgba(0, 0, 0, 0.15);\n",
              "      filter: drop-shadow(0px 1px 2px rgba(0, 0, 0, 0.3));\n",
              "      fill: #FFFFFF;\n",
              "    }\n",
              "  </style>\n",
              "\n",
              "      <script>\n",
              "        const buttonEl =\n",
              "          document.querySelector('#df-5447f497-f317-4bc6-a88e-4343dac17355 button.colab-df-convert');\n",
              "        buttonEl.style.display =\n",
              "          google.colab.kernel.accessAllowed ? 'block' : 'none';\n",
              "\n",
              "        async function convertToInteractive(key) {\n",
              "          const element = document.querySelector('#df-5447f497-f317-4bc6-a88e-4343dac17355');\n",
              "          const dataTable =\n",
              "            await google.colab.kernel.invokeFunction('convertToInteractive',\n",
              "                                                     [key], {});\n",
              "          if (!dataTable) return;\n",
              "\n",
              "          const docLinkHtml = 'Like what you see? Visit the ' +\n",
              "            '<a target=\"_blank\" href=https://colab.research.google.com/notebooks/data_table.ipynb>data table notebook</a>'\n",
              "            + ' to learn more about interactive tables.';\n",
              "          element.innerHTML = '';\n",
              "          dataTable['output_type'] = 'display_data';\n",
              "          await google.colab.output.renderOutput(dataTable, element);\n",
              "          const docLink = document.createElement('div');\n",
              "          docLink.innerHTML = docLinkHtml;\n",
              "          element.appendChild(docLink);\n",
              "        }\n",
              "      </script>\n",
              "    </div>\n",
              "  </div>\n",
              "  "
            ],
            "text/plain": [
              "                 TURNOVER  SIZE  STAFF  MARGIN\n",
              "STORE                                         \n",
              "Akron                 7.2   3.6    6.1     2.5\n",
              "Gilbert               6.3   3.3    6.0     2.5\n",
              "Vancouver             6.7   3.3    5.7     2.5\n",
              "Fort Lauderdale       6.7   3.1    5.6     2.4\n",
              "Garden Grove          6.3   3.4    5.6     2.4\n",
              "...                   ...   ...    ...     ...\n",
              "Sacramento            4.9   3.1    1.5     0.1\n",
              "Tucson                5.2   4.1    1.5     0.1\n",
              "Mesa                  4.9   3.1    1.5     0.1\n",
              "Austin                4.3   3.0    1.1     0.1\n",
              "San Jose              4.9   3.1    1.5     0.1\n",
              "\n",
              "[150 rows x 4 columns]"
            ]
          },
          "metadata": {},
          "execution_count": 20
        }
      ]
    },
    {
      "cell_type": "code",
      "source": [
        "df.sort_values(['MARGIN'], ascending=False, axis=0, inplace=True)"
      ],
      "metadata": {
        "id": "A2u4P-ySJcEf"
      },
      "execution_count": null,
      "outputs": []
    },
    {
      "cell_type": "code",
      "source": [
        "dften = df10.head(10)\n",
        "dften"
      ],
      "metadata": {
        "colab": {
          "base_uri": "https://localhost:8080/",
          "height": 394
        },
        "id": "4QJyHcqvJjhd",
        "outputId": "09897418-7be8-44e1-801b-731d0502d1b4"
      },
      "execution_count": null,
      "outputs": [
        {
          "output_type": "execute_result",
          "data": {
            "text/html": [
              "\n",
              "  <div id=\"df-2575f0d5-a986-4557-8166-d01708e62967\">\n",
              "    <div class=\"colab-df-container\">\n",
              "      <div>\n",
              "<style scoped>\n",
              "    .dataframe tbody tr th:only-of-type {\n",
              "        vertical-align: middle;\n",
              "    }\n",
              "\n",
              "    .dataframe tbody tr th {\n",
              "        vertical-align: top;\n",
              "    }\n",
              "\n",
              "    .dataframe thead th {\n",
              "        text-align: right;\n",
              "    }\n",
              "</style>\n",
              "<table border=\"1\" class=\"dataframe\">\n",
              "  <thead>\n",
              "    <tr style=\"text-align: right;\">\n",
              "      <th></th>\n",
              "      <th>TURNOVER</th>\n",
              "      <th>SIZE</th>\n",
              "      <th>STAFF</th>\n",
              "      <th>MARGIN</th>\n",
              "    </tr>\n",
              "    <tr>\n",
              "      <th>STORE</th>\n",
              "      <th></th>\n",
              "      <th></th>\n",
              "      <th></th>\n",
              "      <th></th>\n",
              "    </tr>\n",
              "  </thead>\n",
              "  <tbody>\n",
              "    <tr>\n",
              "      <th>Akron</th>\n",
              "      <td>7.2</td>\n",
              "      <td>3.6</td>\n",
              "      <td>6.1</td>\n",
              "      <td>2.5</td>\n",
              "    </tr>\n",
              "    <tr>\n",
              "      <th>Gilbert</th>\n",
              "      <td>6.3</td>\n",
              "      <td>3.3</td>\n",
              "      <td>6.0</td>\n",
              "      <td>2.5</td>\n",
              "    </tr>\n",
              "    <tr>\n",
              "      <th>Vancouver</th>\n",
              "      <td>6.7</td>\n",
              "      <td>3.3</td>\n",
              "      <td>5.7</td>\n",
              "      <td>2.5</td>\n",
              "    </tr>\n",
              "    <tr>\n",
              "      <th>Fort Lauderdale</th>\n",
              "      <td>6.7</td>\n",
              "      <td>3.1</td>\n",
              "      <td>5.6</td>\n",
              "      <td>2.4</td>\n",
              "    </tr>\n",
              "    <tr>\n",
              "      <th>Garden Grove</th>\n",
              "      <td>6.3</td>\n",
              "      <td>3.4</td>\n",
              "      <td>5.6</td>\n",
              "      <td>2.4</td>\n",
              "    </tr>\n",
              "    <tr>\n",
              "      <th>Yonkers</th>\n",
              "      <td>5.8</td>\n",
              "      <td>2.8</td>\n",
              "      <td>5.1</td>\n",
              "      <td>2.4</td>\n",
              "    </tr>\n",
              "    <tr>\n",
              "      <th>Moreno Valley</th>\n",
              "      <td>7.7</td>\n",
              "      <td>2.6</td>\n",
              "      <td>6.9</td>\n",
              "      <td>2.3</td>\n",
              "    </tr>\n",
              "    <tr>\n",
              "      <th>Augusta</th>\n",
              "      <td>6.4</td>\n",
              "      <td>3.2</td>\n",
              "      <td>5.3</td>\n",
              "      <td>2.3</td>\n",
              "    </tr>\n",
              "    <tr>\n",
              "      <th>Rancho Cucamonga</th>\n",
              "      <td>6.9</td>\n",
              "      <td>3.1</td>\n",
              "      <td>5.1</td>\n",
              "      <td>2.3</td>\n",
              "    </tr>\n",
              "    <tr>\n",
              "      <th>Amarillo</th>\n",
              "      <td>6.9</td>\n",
              "      <td>3.2</td>\n",
              "      <td>5.7</td>\n",
              "      <td>2.3</td>\n",
              "    </tr>\n",
              "  </tbody>\n",
              "</table>\n",
              "</div>\n",
              "      <button class=\"colab-df-convert\" onclick=\"convertToInteractive('df-2575f0d5-a986-4557-8166-d01708e62967')\"\n",
              "              title=\"Convert this dataframe to an interactive table.\"\n",
              "              style=\"display:none;\">\n",
              "        \n",
              "  <svg xmlns=\"http://www.w3.org/2000/svg\" height=\"24px\"viewBox=\"0 0 24 24\"\n",
              "       width=\"24px\">\n",
              "    <path d=\"M0 0h24v24H0V0z\" fill=\"none\"/>\n",
              "    <path d=\"M18.56 5.44l.94 2.06.94-2.06 2.06-.94-2.06-.94-.94-2.06-.94 2.06-2.06.94zm-11 1L8.5 8.5l.94-2.06 2.06-.94-2.06-.94L8.5 2.5l-.94 2.06-2.06.94zm10 10l.94 2.06.94-2.06 2.06-.94-2.06-.94-.94-2.06-.94 2.06-2.06.94z\"/><path d=\"M17.41 7.96l-1.37-1.37c-.4-.4-.92-.59-1.43-.59-.52 0-1.04.2-1.43.59L10.3 9.45l-7.72 7.72c-.78.78-.78 2.05 0 2.83L4 21.41c.39.39.9.59 1.41.59.51 0 1.02-.2 1.41-.59l7.78-7.78 2.81-2.81c.8-.78.8-2.07 0-2.86zM5.41 20L4 18.59l7.72-7.72 1.47 1.35L5.41 20z\"/>\n",
              "  </svg>\n",
              "      </button>\n",
              "      \n",
              "  <style>\n",
              "    .colab-df-container {\n",
              "      display:flex;\n",
              "      flex-wrap:wrap;\n",
              "      gap: 12px;\n",
              "    }\n",
              "\n",
              "    .colab-df-convert {\n",
              "      background-color: #E8F0FE;\n",
              "      border: none;\n",
              "      border-radius: 50%;\n",
              "      cursor: pointer;\n",
              "      display: none;\n",
              "      fill: #1967D2;\n",
              "      height: 32px;\n",
              "      padding: 0 0 0 0;\n",
              "      width: 32px;\n",
              "    }\n",
              "\n",
              "    .colab-df-convert:hover {\n",
              "      background-color: #E2EBFA;\n",
              "      box-shadow: 0px 1px 2px rgba(60, 64, 67, 0.3), 0px 1px 3px 1px rgba(60, 64, 67, 0.15);\n",
              "      fill: #174EA6;\n",
              "    }\n",
              "\n",
              "    [theme=dark] .colab-df-convert {\n",
              "      background-color: #3B4455;\n",
              "      fill: #D2E3FC;\n",
              "    }\n",
              "\n",
              "    [theme=dark] .colab-df-convert:hover {\n",
              "      background-color: #434B5C;\n",
              "      box-shadow: 0px 1px 3px 1px rgba(0, 0, 0, 0.15);\n",
              "      filter: drop-shadow(0px 1px 2px rgba(0, 0, 0, 0.3));\n",
              "      fill: #FFFFFF;\n",
              "    }\n",
              "  </style>\n",
              "\n",
              "      <script>\n",
              "        const buttonEl =\n",
              "          document.querySelector('#df-2575f0d5-a986-4557-8166-d01708e62967 button.colab-df-convert');\n",
              "        buttonEl.style.display =\n",
              "          google.colab.kernel.accessAllowed ? 'block' : 'none';\n",
              "\n",
              "        async function convertToInteractive(key) {\n",
              "          const element = document.querySelector('#df-2575f0d5-a986-4557-8166-d01708e62967');\n",
              "          const dataTable =\n",
              "            await google.colab.kernel.invokeFunction('convertToInteractive',\n",
              "                                                     [key], {});\n",
              "          if (!dataTable) return;\n",
              "\n",
              "          const docLinkHtml = 'Like what you see? Visit the ' +\n",
              "            '<a target=\"_blank\" href=https://colab.research.google.com/notebooks/data_table.ipynb>data table notebook</a>'\n",
              "            + ' to learn more about interactive tables.';\n",
              "          element.innerHTML = '';\n",
              "          dataTable['output_type'] = 'display_data';\n",
              "          await google.colab.output.renderOutput(dataTable, element);\n",
              "          const docLink = document.createElement('div');\n",
              "          docLink.innerHTML = docLinkHtml;\n",
              "          element.appendChild(docLink);\n",
              "        }\n",
              "      </script>\n",
              "    </div>\n",
              "  </div>\n",
              "  "
            ],
            "text/plain": [
              "                  TURNOVER  SIZE  STAFF  MARGIN\n",
              "STORE                                          \n",
              "Akron                  7.2   3.6    6.1     2.5\n",
              "Gilbert                6.3   3.3    6.0     2.5\n",
              "Vancouver              6.7   3.3    5.7     2.5\n",
              "Fort Lauderdale        6.7   3.1    5.6     2.4\n",
              "Garden Grove           6.3   3.4    5.6     2.4\n",
              "Yonkers                5.8   2.8    5.1     2.4\n",
              "Moreno Valley          7.7   2.6    6.9     2.3\n",
              "Augusta                6.4   3.2    5.3     2.3\n",
              "Rancho Cucamonga       6.9   3.1    5.1     2.3\n",
              "Amarillo               6.9   3.2    5.7     2.3"
            ]
          },
          "metadata": {},
          "execution_count": 22
        }
      ]
    },
    {
      "cell_type": "code",
      "source": [
        "# Compare the trends of top 10 locations/stores that contributed the most to business.\n",
        "dften.plot(kind='line', figsize=(14, 8)) \n",
        "\n",
        "plt.title('Size')\n",
        "plt.xlabel('Stores Location')\n",
        "\n",
        "plt.show()\n",
        "#https://pandas.pydata.org/pandas-docs/version/0.15.0/visualization.html"
      ],
      "metadata": {
        "id": "Czv4z_zC04OO",
        "colab": {
          "base_uri": "https://localhost:8080/",
          "height": 517
        },
        "outputId": "01b29364-c71a-47f9-d211-26ad9b05d27c"
      },
      "execution_count": null,
      "outputs": [
        {
          "output_type": "display_data",
          "data": {
            "image/png": "[encoded data removed]",
            "text/plain": [
              "<Figure size 1008x576 with 1 Axes>"
            ]
          },
          "metadata": {}
        }
      ]
    },
    {
      "cell_type": "markdown",
      "source": [
        "Box Plot\n",
        "\n",
        "To visualise the distribution of values within each column"
      ],
      "metadata": {
        "id": "_fddn8GIOB9X"
      }
    },
    {
      "cell_type": "code",
      "source": [
        "df.plot(kind='box')"
      ],
      "metadata": {
        "id": "fkhX31dj5eEd",
        "colab": {
          "base_uri": "https://localhost:8080/",
          "height": 283
        },
        "outputId": "12ed71d4-9f6e-412f-c507-0d642615e6ba"
      },
      "execution_count": null,
      "outputs": [
        {
          "output_type": "execute_result",
          "data": {
            "text/plain": [
              "<matplotlib.axes._subplots.AxesSubplot at 0x7ff5b5d335d0>"
            ]
          },
          "metadata": {},
          "execution_count": 29
        },
        {
          "output_type": "display_data",
          "data": {
            "image/png": "[encoded data removed]",
            "text/plain": [
              "<Figure size 432x288 with 1 Axes>"
            ]
          },
          "metadata": {}
        }
      ]
    },
    {
      "cell_type": "markdown",
      "source": [
        "Area Plot - stacked"
      ],
      "metadata": {
        "id": "i4rGihZmPdZS"
      }
    },
    {
      "cell_type": "code",
      "source": [
        "df.plot(kind='area')"
      ],
      "metadata": {
        "colab": {
          "base_uri": "https://localhost:8080/",
          "height": 301
        },
        "id": "rf90c-_zPDxu",
        "outputId": "22352591-2d63-4826-b01d-193a95363dda"
      },
      "execution_count": null,
      "outputs": [
        {
          "output_type": "execute_result",
          "data": {
            "text/plain": [
              "<matplotlib.axes._subplots.AxesSubplot at 0x7ff5b5c434d0>"
            ]
          },
          "metadata": {},
          "execution_count": 30
        },
        {
          "output_type": "display_data",
          "data": {
            "image/png": "[encoded data removed]",
            "text/plain": [
              "<Figure size 432x288 with 1 Axes>"
            ]
          },
          "metadata": {}
        }
      ]
    },
    {
      "cell_type": "markdown",
      "source": [
        "Area Unstacked"
      ],
      "metadata": {
        "id": "4xqZsjK0PiBs"
      }
    },
    {
      "cell_type": "code",
      "source": [
        "df.plot(kind='area', stacked=False);"
      ],
      "metadata": {
        "colab": {
          "base_uri": "https://localhost:8080/",
          "height": 283
        },
        "id": "p_-stUpiPPlP",
        "outputId": "8e9d2b59-9011-433f-f57b-7674147c5747"
      },
      "execution_count": null,
      "outputs": [
        {
          "output_type": "display_data",
          "data": {
            "image/png": "[encoded data removed]",
            "text/plain": [
              "<Figure size 432x288 with 1 Axes>"
            ]
          },
          "metadata": {}
        }
      ]
    },
    {
      "cell_type": "markdown",
      "source": [
        "Scatter Plot"
      ],
      "metadata": {
        "id": "-n0ZB8yUPkiR"
      }
    },
    {
      "cell_type": "code",
      "source": [
        "df.plot(kind='scatter', x='TURNOVER', y='MARGIN');"
      ],
      "metadata": {
        "colab": {
          "base_uri": "https://localhost:8080/",
          "height": 282
        },
        "id": "fXRic_-IPlDh",
        "outputId": "aa657014-75ff-47e3-fbe6-75a11c55c53e"
      },
      "execution_count": null,
      "outputs": [
        {
          "output_type": "display_data",
          "data": {
            "image/png": "[encoded data removed]",
            "text/plain": [
              "<Figure size 432x288 with 1 Axes>"
            ]
          },
          "metadata": {}
        }
      ]
    },
    {
      "cell_type": "markdown",
      "source": [
        "Scatter Plot\n",
        "\n",
        "To plot multiple column groups in a single axes, repeat plot method specifying target ax. It is recommended to specify color and label keywords to distinguish each groups."
      ],
      "metadata": {
        "id": "fUXGdktmQS-f"
      }
    },
    {
      "cell_type": "code",
      "source": [
        "ax = df.plot(kind='scatter', x='TURNOVER', y='MARGIN',\n",
        "                color='DarkBlue', label='Group 1');\n",
        "\n",
        "df.plot(kind='scatter', x='SIZE', y='STAFF',\n",
        "          color='DarkGreen', label='Group 2', ax=ax);          "
      ],
      "metadata": {
        "colab": {
          "base_uri": "https://localhost:8080/",
          "height": 282
        },
        "id": "T-Ol0kxvQY1F",
        "outputId": "4e8804fb-9b33-4cae-c01c-da9522dbaa42"
      },
      "execution_count": null,
      "outputs": [
        {
          "output_type": "display_data",
          "data": {
            "image/png": "[encoded data removed]",
            "text/plain": [
              "<Figure size 432x288 with 1 Axes>"
            ]
          },
          "metadata": {}
        }
      ]
    },
    {
      "cell_type": "code",
      "source": [
        "df.plot(kind='scatter', x='TURNOVER', y='MARGIN', c='STAFF', s=50);"
      ],
      "metadata": {
        "colab": {
          "base_uri": "https://localhost:8080/",
          "height": 254
        },
        "id": "oI2zBV91RMiX",
        "outputId": "5cec9640-ec41-44ec-a03c-03915f22acd7"
      },
      "execution_count": null,
      "outputs": [
        {
          "output_type": "display_data",
          "data": {
            "image/png": "[encoded data removed]",
            "text/plain": [
              "<Figure size 432x288 with 2 Axes>"
            ]
          },
          "metadata": {}
        }
      ]
    },
    {
      "cell_type": "code",
      "source": [
        "dften.plot(kind='pie', subplots=True, figsize=(16, 8))"
      ],
      "metadata": {
        "colab": {
          "base_uri": "https://localhost:8080/",
          "height": 501
        },
        "id": "SvjlDMdiRig7",
        "outputId": "ce0aa706-3df8-4315-d777-d5eb9b99a11c"
      },
      "execution_count": null,
      "outputs": [
        {
          "output_type": "execute_result",
          "data": {
            "text/plain": [
              "array([<matplotlib.axes._subplots.AxesSubplot object at 0x7ff5b0f89a10>],\n",
              "      dtype=object)"
            ]
          },
          "metadata": {},
          "execution_count": 38
        },
        {
          "output_type": "display_data",
          "data": {
            "image/png": "[encoded data removed]",
            "text/plain": [
              "<Figure size 1152x576 with 1 Axes>"
            ]
          },
          "metadata": {}
        }
      ]
    }
  ]
}